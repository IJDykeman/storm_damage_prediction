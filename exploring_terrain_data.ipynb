{
 "cells": [
  {
   "cell_type": "code",
   "execution_count": 1,
   "metadata": {
    "collapsed": false
   },
   "outputs": [
    {
     "name": "stderr",
     "output_type": "stream",
     "text": [
      "/usr/local/lib/python2.7/dist-packages/matplotlib/font_manager.py:273: UserWarning: Matplotlib is building the font cache using fc-list. This may take a moment.\n",
      "  warnings.warn('Matplotlib is building the font cache using fc-list. This may take a moment.')\n"
     ]
    },
    {
     "name": "stdout",
     "output_type": "stream",
     "text": [
      "Populating the interactive namespace from numpy and matplotlib\n"
     ]
    }
   ],
   "source": [
    "%matplotlib inline\n",
    "%pylab inline\n",
    "pylab.rcParams['figure.figsize'] = (17.0, 77.0)\n",
    "\n",
    "import pylab\n",
    "from tsne import bh_sne\n",
    "from matplotlib import pyplot as plt\n",
    "import pandas\n",
    "import scipy\n",
    "import numpy as np\n",
    "import sklearn.manifold\n",
    "import os\n",
    "import gc\n",
    "from time import gmtime, strftime\n",
    "import seaborn as sns\n",
    "from os import listdir\n",
    "from os.path import isfile, join\n",
    "import math\n",
    "from scipy.stats.stats import pearsonr\n",
    "import random as rand\n",
    "import pyproj\n",
    "import functools"
   ]
  },
  {
   "cell_type": "code",
   "execution_count": 2,
   "metadata": {
    "collapsed": false
   },
   "outputs": [],
   "source": [
    "\n",
    "\n",
    "def load_data(path):\n",
    "    print(\"loading...\")\n",
    "    gc.collect() # collect garbage\n",
    "    data = pandas.read_hdf(path, '/df')\n",
    "    df = pandas.DataFrame(data)\n",
    "    data_dict = {}\n",
    "    for label in set(df._get_numeric_data().columns).union({'hcad'}):\n",
    "        # union hcad to ensure that hcad col comes in even if not considered numerical\n",
    "        # if label != 'hcad':\n",
    "        data_dict[label] = df[label].astype(float)\n",
    "        # df[label][df[label] > 1] = 1.0\n",
    "\n",
    "    # df['hcad'] = df['hcad'].astype(float)\n",
    "    result = pandas.DataFrame.from_dict(data_dict)\n",
    "\n",
    "    result = result.replace([np.inf, -np.inf], 1)\n",
    "    \n",
    "    return result.sort(['hcad']).fillna(0)\n",
    "def display_heightmap(mat):\n",
    "    plt.imshow((mat), interpolation='nearest')\n",
    "    plt.show()\n"
   ]
  },
  {
   "cell_type": "code",
   "execution_count": 3,
   "metadata": {
    "collapsed": false
   },
   "outputs": [
    {
     "name": "stdout",
     "output_type": "stream",
     "text": [
      "loading...\n",
      "Opening /home/isaac/Dropbox/data_for_brian/meta/df_meta.hd in read-only mode\n",
      "loading...\n",
      "Opening /home/isaac/Dropbox/data_for_brian/y_df.hd in read-only mode\n"
     ]
    }
   ],
   "source": [
    "meta = load_data(\"/home/isaac/Dropbox/data_for_brian/meta/df_meta.hd\")\n",
    "y_data = load_data(\"/home/isaac/Dropbox/data_for_brian/y_df.hd\")"
   ]
  },
  {
   "cell_type": "code",
   "execution_count": 4,
   "metadata": {
    "collapsed": false
   },
   "outputs": [],
   "source": [
    "\n",
    "\n",
    "wgs84=pyproj.Proj(\"+init=EPSG:4326\") # LatLon with WGS84 datum used by GPS units and Google Earth\n",
    "UTM26N=pyproj.Proj(\"+init=EPSG:2278\") # UTM coords, zone Texas Central, WGS84 datum\n",
    "\n",
    "def feet_to_lon_lat(x,y):\n",
    "    x = [x*.3048] # convert to meters\n",
    "    y = [y*.3048]\n",
    "    return pyproj.transform(UTM26N, wgs84, x, y)\n",
    "\n"
   ]
  },
  {
   "cell_type": "code",
   "execution_count": 5,
   "metadata": {
    "collapsed": false
   },
   "outputs": [
    {
     "name": "stdout",
     "output_type": "stream",
     "text": [
      "loaded all file header attributes into dict\n"
     ]
    }
   ],
   "source": [
    "from os import listdir\n",
    "from os.path import isfile, join\n",
    "\n",
    "file_attributes = {}\n",
    "\n",
    "mypath = \"/home/isaac/Desktop/devika/ARCGIS/ArcGis/ascii_files\"\n",
    "for filename in [f for f in listdir(mypath) if isfile(join(mypath, f))]: \n",
    "    attributes = {}\n",
    "    with open(mypath + \"/\" + filename) as FileObj:\n",
    "        for index, line in enumerate(FileObj):\n",
    "            if(index < 6):\n",
    "#                 print line\n",
    "                attributes[line.split(\" \")[0]] = int(line.split(\" \")[-1][:-2])\n",
    "            else:\n",
    "                break # don't load the other lines into memory becuase that's a waste of time.\n",
    "\n",
    "#     pickle_path = \"/home/isaac/Desktop/devika/ARCGIS/ArcGis/pickle_files/\" + filename + \".npy\"\n",
    "#     f = file(pickle_path,\"wb\")\n",
    "#     mat = np.loadtxt(mypath + \"/\" + filename, dtype='float16', comments='#', delimiter=\" \", converters=None, skiprows=6, usecols=range(0,attributes['ncols']), unpack=False, ndmin=0)\n",
    "#     np.save(f, mat)\n",
    "#     f.close()\n",
    "    attributes['width'] = attributes['ncols'] * attributes['cellsize']\n",
    "    attributes['height'] = attributes['nrows'] * attributes['cellsize']\n",
    "    file_attributes[filename] = attributes\n",
    "print \"loaded all file header attributes into dict\""
   ]
  },
  {
   "cell_type": "code",
   "execution_count": 6,
   "metadata": {
    "collapsed": false
   },
   "outputs": [],
   "source": [
    "from collections import deque\n",
    "\n",
    "def memoize(obj, maxlen = 20):\n",
    "    \"\"\"A decorator to cache advice objects using the advice key\"\"\"\n",
    "    cache = obj.cache = {}\n",
    "    deck = obj.deck = deque([], maxlen = maxlen)\n",
    "\n",
    "    @functools.wraps(obj)\n",
    "    def memoizer(*args, **kwargs):\n",
    "        key = args[0]\n",
    "        if key not in cache:\n",
    "            if len(deck) == deck.maxlen:\n",
    "              del cache[deck.popleft()[0]]\n",
    "            temp = obj(*args, **kwargs)\n",
    "            cache[key] = temp\n",
    "            deck.append((key, temp))\n",
    "        return cache[key]\n",
    "\n",
    "    return memoizer\n",
    "\n",
    "@memoize\n",
    "def load_mat_from_file(key):\n",
    "    f = file(\"/home/isaac/Desktop/devika/ARCGIS/ArcGis/pickle_files/\"+key+\".npy\",\"rb\")\n",
    "    return np.load(f)\n",
    "\n",
    "def get_file_containing(housex, housey):\n",
    "#         print \"house coords:\", housex, housey\n",
    "        for key in file_attributes:\n",
    "            block = file_attributes[key]\n",
    "    #         print block['xllcorner'], block['yllcorner']\n",
    "            if block['xllcorner'] < housex < block['xllcorner'] + block['width']:\n",
    "                if block['yllcorner'] < housey < block['yllcorner'] + block['height']:\n",
    "                    return key\n",
    "\n",
    "\n",
    "#housex and housey in meters\n",
    "def get_heightmap_around(housex, housey, window_width_feet = 200, window_width_pixels = 28):\n",
    "    housex /= .3048 #convert to feet\n",
    "    housey /= .3048  \n",
    "    x=housex\n",
    "    y=housey\n",
    "\n",
    "    key = get_file_containing(x,y)\n",
    "    block = file_attributes[key]\n",
    "#     print \"found map:\", key, block['xllcorner'], block['yllcorner'], block['width'], block['height']\n",
    "\n",
    "    mat = load_mat_from_file(key)\n",
    "    imagex = (int(x)-block['xllcorner'])/5\n",
    "    imagey = (int(y)-block['yllcorner'])/5\n",
    "#                 print imagex, imagey\n",
    "\n",
    "    x1 = np.max([0,              imagex - window_width_pixels/2])\n",
    "    x2 = np.min([block['ncols'], imagex+window_width_pixels/2])\n",
    "\n",
    "    y1 = np.max([0,              imagey - window_width_pixels/2])\n",
    "    y2 = np.min([block['nrows'], imagey+window_width_pixels/2])\n",
    "\n",
    "#     display_heightmap(mat)\n",
    "#     mat[mat< -9000] = 0\n",
    "#     mat -= np.mean(mat.flatten(), dtype=np.float64)\n",
    "#     mat /= mat.std(dtype=np.float64)\n",
    "#     print \"min max\", np.min(mat), np.max(mat)\n",
    "\n",
    "#     display_heightmap((mat[block['nrows']-y2:block['nrows']-y1,\n",
    "#                           x1:x2]))\n",
    "    result = mat[block['nrows']-y2:block['nrows']-y1, x1:x2]\n",
    "    return result\n",
    "\n",
    "\n",
    "def window_violated_chunk_borders(housex, housey):\n",
    "    corners = [(housex-window_width_feet/2, housey-window_width_feet/2),\n",
    "              (housex-window_width_feet/2, housey+window_width_feet/2),\n",
    "              (housex+window_width_feet/2, housey+window_width_feet/2),\n",
    "              (housex+window_width_feet/2, housey-window_width_feet/2)]\n",
    "    files = map(lambda x: get_file_containing(x[0], x[1]), corners)\n",
    "    return len(set(files)) > 1"
   ]
  },
  {
   "cell_type": "code",
   "execution_count": 7,
   "metadata": {
    "collapsed": false
   },
   "outputs": [
    {
     "name": "stdout",
     "output_type": "stream",
     "text": [
      "house lat lon [29.920000076293945] [-95.084800720214844]\n",
      "[977962.9843141946] [4237588.749906508]\n"
     ]
    },
    {
     "data": {
      "image/png": "[encoded data removed]",
      "text/plain": [
       "<matplotlib.figure.Figure at 0x7f5d202b2050>"
      ]
     },
     "metadata": {},
     "output_type": "display_data"
    }
   ],
   "source": [
    "\n",
    "lon = [meta['lon'][12000]]\n",
    "lat = [meta['lat'][12000]]\n",
    "\n",
    "print \"house lat lon\", lat, lon\n",
    "xx, yy = pyproj.transform(wgs84, UTM26N, lon, lat)\n",
    "print xx, yy\n",
    "housex=xx[0]\n",
    "housey=yy[0]\n",
    "plt.imshow(get_heightmap_around(housex, housey))\n",
    "plt.show()"
   ]
  },
  {
   "cell_type": "code",
   "execution_count": 19,
   "metadata": {
    "collapsed": false,
    "scrolled": false
   },
   "outputs": [
    {
     "name": "stdout",
     "output_type": "stream",
     "text": [
      "house lat lon [29.920000076293945] [-95.084800720214844]\n",
      "[977962.9843141946] [4237588.749906508]\n",
      "0\n",
      "1000\n",
      "3000\n",
      "4000\n",
      "5000\n",
      "6000\n",
      "7000\n",
      "8000\n",
      "9000\n",
      "10000\n",
      "11000\n",
      "12000\n",
      "13000\n",
      "14000\n",
      "15000\n",
      "16000\n",
      "17000\n",
      "18000\n",
      "19000\n",
      "(20000, 1, 28, 28)\n",
      "[[[[  43.03125   43.03125   43.0625  ...,   43.40625   43.53125   43.53125]\n",
      "   [  43.125     43.15625   43.1875  ...,   43.34375   43.375     43.34375]\n",
      "   [  43.125     43.125     43.15625 ...,   43.125     43.09375   42.96875]\n",
      "   ..., \n",
      "   [  47.21875   45.96875   42.75    ...,   42.78125   43.0625    43.     ]\n",
      "   [  44.8125    46.65625   43.53125 ...,   42.875     43.0625    43.03125]\n",
      "   [  45.5       43.40625   42.71875 ...,   42.84375   42.96875   43.09375]]]\n",
      "\n",
      "\n",
      " [[[  55.875     65.4375    75.8125  ...,   32.34375   35.0625    35.15625]\n",
      "   [  53.1875    67.75      77.0625  ...,   32.46875   32.40625   32.53125]\n",
      "   [  63.84375   68.5625    76.25    ...,   32.53125   32.53125   32.4375 ]\n",
      "   ..., \n",
      "   [  45.34375   44.875     44.65625 ...,   56.65625   47.78125   43.6875 ]\n",
      "   [  43.875     44.375     44.125   ...,   49.03125   43.46875   40.4375 ]\n",
      "   [  40.5       43.71875   44.1875  ...,   40.09375   37.71875   34.46875]]]\n",
      "\n",
      "\n",
      " [[[  38.        38.125     38.0625  ...,   60.09375   56.84375   50.5625 ]\n",
      "   [  41.9375    39.46875   39.53125 ...,   55.1875    51.1875    46.15625]\n",
      "   [  53.6875    48.59375   40.1875  ...,   49.75      48.84375   47.375  ]\n",
      "   ..., \n",
      "   [  36.875     37.        36.8125  ...,   42.71875   42.21875   38.125  ]\n",
      "   [  36.875     36.8125    37.53125 ...,   44.875     48.25      44.625  ]\n",
      "   [  36.8125    36.6875    39.0625  ...,   46.09375   48.1875    47.03125]]]\n",
      "\n",
      "\n",
      " ..., \n",
      " [[[ 173.       168.625    166.      ...,  175.125    174.875    170.25   ]\n",
      "   [ 174.75     168.5      168.625   ...,  167.25     167.875    166.5    ]\n",
      "   [ 175.75     170.875    171.625   ...,  165.25     164.75     164.875  ]\n",
      "   ..., \n",
      "   [ 161.5      161.5      161.5     ...,  177.25     174.875    170.25   ]\n",
      "   [ 163.25     163.125    161.5     ...,  177.25     176.625    174.75   ]\n",
      "   [ 167.75     163.875    161.5     ...,  175.75     176.875    176.5    ]]]\n",
      "\n",
      "\n",
      " [[[ 122.9375   123.       123.      ...,  123.5625   123.5625   123.5625 ]\n",
      "   [ 123.       123.0625   123.125   ...,  123.5      123.5      123.5    ]\n",
      "   [ 131.875    124.625    123.0625  ...,  123.375    123.4375   124.125  ]\n",
      "   ..., \n",
      "   [ 168.5      154.5      137.75    ...,  142.875    141.5      132.5    ]\n",
      "   [ 161.75     147.75     143.      ...,  151.625    137.25     129.125  ]\n",
      "   [ 153.625    146.125    145.125   ...,  161.       141.875    138.25   ]]]\n",
      "\n",
      "\n",
      " [[[  82.6875    82.8125    82.875   ...,   83.4375    83.375     84.875  ]\n",
      "   [  82.875     83.        83.0625  ...,   86.4375    85.6875    86.4375 ]\n",
      "   [  83.0625    83.125     83.375   ...,   90.625     91.1875    90.     ]\n",
      "   ..., \n",
      "   [  83.75      84.        85.9375  ...,   94.3125    96.5       97.75   ]\n",
      "   [  83.0625    83.125     90.3125  ...,   92.3125    94.25      94.375  ]\n",
      "   [  82.9375    83.        83.1875  ...,   88.125     89.1875    92.5625 ]]]]\n",
      "[ 0.57142857  0.23076923  0.         ...,  0.15384615  0.15789474  0.        ]\n"
     ]
    }
   ],
   "source": [
    "image_width = 28\n",
    "\n",
    "wgs84=pyproj.Proj(\"+init=EPSG:4326\") # LatLon with WGS84 datum used by GPS units and Google Earth\n",
    "UTM26N=pyproj.Proj(\"+init=EPSG:2278\") # UTM coords, zone Texas Central, WGS84 datum\n",
    "\n",
    "# lon = [meta['lon'][250000]] #these are good becuase of clear local features\n",
    "# lat = [meta['lat'][250000]]\n",
    "\n",
    "\n",
    "lon = [meta['lon'][12000]]\n",
    "lat = [meta['lat'][12000]]\n",
    "\n",
    "print \"house lat lon\", lat, lon\n",
    "xx, yy = pyproj.transform(wgs84, UTM26N, lon, lat)\n",
    "print xx, yy\n",
    "housex=xx[0]\n",
    "housey=yy[0]\n",
    "get_heightmap_around(housex,housey)\n",
    "\n",
    "n=20000\n",
    "metamat = np.zeros([n,1,image_width,image_width])\n",
    "metaY = np.zeros([n])\n",
    "for i in range(n):\n",
    "    \n",
    "    index = rand.randint(0, len(meta)-1)\n",
    "    lon = [meta['lon'][index]]\n",
    "    lat = [meta['lat'][index]]\n",
    "\n",
    "    xx, yy = pyproj.transform(wgs84, UTM26N, lon, lat)\n",
    "    housex=xx[0]\n",
    "    housey=yy[0]\n",
    "    \n",
    "    \n",
    "    new_element = np.array([get_heightmap_around(housex, housey, window_width_pixels=image_width)])\n",
    "    if new_element.shape == (1,image_width,image_width):\n",
    "        metamat[i] = new_element\n",
    "        metaY[i] = y_data['y200_mean'][index]\n",
    "    else:\n",
    "        i -= 1\n",
    "    if i%1000 == 0:\n",
    "        print i\n",
    "    \n",
    "print metamat.shape\n",
    "print metamat\n",
    "print metaY\n",
    "f = file(\"20000Random100x100Slices.np\",\"wb\")\n",
    "np.save(f, metamat)\n",
    "f.close()\n",
    "\n",
    "f = file(\"20000RandomY.np\",\"wb\")\n",
    "np.save(f, metaY)\n",
    "f.close()\n"
   ]
  },
  {
   "cell_type": "code",
   "execution_count": null,
   "metadata": {
    "collapsed": false
   },
   "outputs": [],
   "source": [
    "plt.imshow(mat[:,:])\n",
    "plt.show()"
   ]
  },
  {
   "cell_type": "markdown",
   "metadata": {},
   "source": [
    "You can compare the image displayed here with google maps to convince yourself that this is the correct map in the right orientation"
   ]
  },
  {
   "cell_type": "code",
   "execution_count": null,
   "metadata": {
    "collapsed": false
   },
   "outputs": [],
   "source": [
    "f = file(\"/home/isaac/Desktop/devika/ARCGIS/ArcGis/pickle_files/rastert_dsm_q116.txt.npy\",\"rb\")\n",
    "matloaded = np.load(f)\n",
    "with open(\"/home/isaac/Desktop/devika/ARCGIS/ArcGis/ascii_files/rastert_dsm_q116.txt\") as myfile:\n",
    "    head = \"\".join([next(myfile) for x in xrange(6)])\n",
    "print head\n",
    "\n",
    "print feet_to_lon_lat(2957465, 13901720)\n",
    "display_heightmap(matloaded)"
   ]
  },
  {
   "cell_type": "code",
   "execution_count": null,
   "metadata": {
    "collapsed": false
   },
   "outputs": [],
   "source": [
    "f = file(\"/home/isaac/Desktop/devika/ARCGIS/ArcGis/pickle_files/rastert_dsm_q247.txt.npy\",\"rb\")\n",
    "matloaded = np.load(f)\n",
    "with open(\"/home/isaac/Desktop/devika/ARCGIS/ArcGis/ascii_files/rastert_dsm_q247.txt\") as myfile:\n",
    "    head = \"\".join([next(myfile) for x in xrange(6)])\n",
    "print head\n",
    "\n",
    "print feet_to_lon_lat(3059015+4105*5, 13813630+4665*5)\n",
    "display_heightmap(matloaded[:500,4105-500:].clip(-100,100))"
   ]
  },
  {
   "cell_type": "code",
   "execution_count": null,
   "metadata": {
    "collapsed": true
   },
   "outputs": [],
   "source": []
  },
  {
   "cell_type": "code",
   "execution_count": null,
   "metadata": {
    "collapsed": true
   },
   "outputs": [],
   "source": []
  },
  {
   "cell_type": "code",
   "execution_count": null,
   "metadata": {
    "collapsed": true
   },
   "outputs": [],
   "source": []
  }
 ],
 "metadata": {
  "kernelspec": {
   "display_name": "Python 2",
   "language": "python",
   "name": "python2"
  },
  "language_info": {
   "codemirror_mode": {
    "name": "ipython",
    "version": 2
   },
   "file_extension": ".py",
   "mimetype": "text/x-python",
   "name": "python",
   "nbconvert_exporter": "python",
   "pygments_lexer": "ipython2",
   "version": "2.7.6"
  }
 },
 "nbformat": 4,
 "nbformat_minor": 0
}
