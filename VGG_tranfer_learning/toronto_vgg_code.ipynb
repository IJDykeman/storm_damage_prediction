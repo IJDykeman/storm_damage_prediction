{
 "cells": [
  {
   "cell_type": "code",
   "execution_count": 1,
   "metadata": {
    "ExecuteTime": {
     "end_time": "2017-04-03T14:09:45.341985Z",
     "start_time": "2017-04-03T14:09:30.880949"
    },
    "code_folding": [
     40,
     59,
     65,
     82
    ],
    "collapsed": false,
    "deletable": true,
    "editable": true,
    "hide_input": false
   },
   "outputs": [
    {
     "data": {
      "application/javascript": [
       "IPython.notebook.set_autosave_interval(30000)"
      ]
     },
     "metadata": {},
     "output_type": "display_data"
    },
    {
     "name": "stdout",
     "output_type": "stream",
     "text": [
      "Autosaving every 30 seconds\n",
      "Populating the interactive namespace from numpy and matplotlib\n"
     ]
    },
    {
     "data": {
      "application/javascript": [
       "IPython.notebook.set_autosave_interval(30000)"
      ]
     },
     "metadata": {},
     "output_type": "display_data"
    },
    {
     "name": "stdout",
     "output_type": "stream",
     "text": [
      "Autosaving every 30 seconds\n",
      "loaded all file header attributes into dict\n",
      "loading...\n",
      "Opening /home/isaac/Dropbox/data_for_brian/wind_features/hcad_interp_withoutpartial_rad100_hist8x8.mat.hd in read-only mode\n",
      "loading...\n",
      "Opening /home/isaac/Dropbox/data_for_brian/y_df.hd in read-only mode\n",
      "loading...\n",
      "Opening /home/isaac/Dropbox/data_for_brian/hcad_features/hcad_df_point.hd in read-only mode\n"
     ]
    }
   ],
   "source": [
    "%autosave 30\n",
    "%pylab inline\n",
    "\n",
    "import tensorflow as tf\n",
    "%matplotlib inline\n",
    "import numpy as np\n",
    "from collections import deque\n",
    "from os import listdir\n",
    "import functools\n",
    "\n",
    "\n",
    "import pylab\n",
    "from tsne import bh_sne\n",
    "from matplotlib import pyplot as plt\n",
    "import pandas\n",
    "import scipy\n",
    "import numpy as np\n",
    "import sklearn.manifold\n",
    "import os\n",
    "import gc\n",
    "from time import gmtime, strftime\n",
    "import seaborn as sns\n",
    "from os import listdir\n",
    "from os.path import isfile, join\n",
    "import math\n",
    "from scipy.stats.stats import pearsonr\n",
    "import random as rand\n",
    "import pyproj\n",
    "import functools\n",
    "import pickle\n",
    "import random\n",
    "%autosave 30\n",
    "\n",
    "image_width = 128\n",
    "\n",
    "def display(image, min = 0.0, max = 1.0):\n",
    "    plt.imshow(image, cmap = plt.get_cmap('gray'), interpolation='nearest')\n",
    "    plt.show()\n",
    "    \n",
    "    \n",
    "def memoize(obj, maxlen = 2000):\n",
    "    \"\"\"A decorator to cache advice objects using the advice key\"\"\"\n",
    "    cache = obj.cache = {}\n",
    "    deck = obj.deck = deque([], maxlen = maxlen)\n",
    "\n",
    "    @functools.wraps(obj)\n",
    "    def memoizer(*args, **kwargs):\n",
    "        key = args[0]\n",
    "        if key not in cache:\n",
    "            if len(deck) == deck.maxlen:\n",
    "              del cache[deck.popleft()[0]]\n",
    "            temp = obj(*args, **kwargs)\n",
    "            cache[key] = temp\n",
    "            deck.append((key, temp))\n",
    "        return cache[key]\n",
    "        \n",
    "    return memoizer\n",
    "\n",
    "@memoize\n",
    "def load_mat_from_file(key):\n",
    "    f = file(\"/home/isaac/Desktop/devika/ARCGIS/ArcGis/pickle_files/\"+key+\".npy\",\"rb\")\n",
    "    return np.load(f)\n",
    "\n",
    "@memoize\n",
    "def get_file_containing(housex, housey):\n",
    "#         print \"house coords:\", housex, housey\n",
    "    for key in file_attributes:\n",
    "        block = file_attributes[key]\n",
    "    #         print block['xllcorner'], block['yllcorner']\n",
    "        if block['xllcorner'] < housex < block['xllcorner'] + block['width']:\n",
    "            if block['yllcorner'] < housey < block['yllcorner'] + block['height']:\n",
    "                return key\n",
    "    assert(1==0)\n",
    "\n",
    "def imagex(housex, housey, block):\n",
    "    return (int(housex)-block['xllcorner'])/5\n",
    "def imagey(housex, housey, block):\n",
    "    return (int(housey)-block['yllcorner'])/5\n",
    "\n",
    "\n",
    "\n",
    "#housex and housey in meters\n",
    "def get_heightmap_around(housex, housey, window_width_pixels = 28):\n",
    "    \n",
    "    def image_slice(key, housex, housey, radius = window_width_pixels/2):\n",
    "        x = housex\n",
    "        y = housey\n",
    "        block = file_attributes[key]\n",
    "        mat = load_mat_from_file(key)\n",
    "        x1 = np.max([0,              imagex(x,y,block) - radius])\n",
    "        x2 = np.min([block['ncols'], imagex(x,y,block) + radius])\n",
    "        \n",
    "        y1 = np.max([0,              imagey(x,y,block) - radius])\n",
    "        y2 = np.min([block['nrows'], imagey(x,y,block) + radius])\n",
    "        \n",
    "        assert(x1 <= x2)\n",
    "        assert(y1 <= y2)\n",
    "        return  mat[block['nrows'] - y2:block['nrows'] - y1, x1:x2]\n",
    "    \n",
    "    window_width_feet = window_width_pixels * 5\n",
    "    housex /= .3048 #convert to feet\n",
    "    housey /= .3048\n",
    "    x = housex\n",
    "    y = housey\n",
    "    ul = get_file_containing(x - window_width_feet/2, y - window_width_feet/2)\n",
    "    ur = get_file_containing(x + window_width_feet/2, y - window_width_feet/2)\n",
    "    ll = get_file_containing(x - window_width_feet/2, y + window_width_feet/2)\n",
    "    lr = get_file_containing(x + window_width_feet/2, y + window_width_feet/2)\n",
    "\n",
    "    for key in [ul, ur, ll, lr]:\n",
    "        image = image_slice(key, x, y)\n",
    "        if image.shape == (window_width_pixels, window_width_pixels):\n",
    "            return image\n",
    "\n",
    "    \n",
    "\n",
    "    if ul == ur and lr == ll : # horizontal split\n",
    "\n",
    "\n",
    "        result = np.zeros([window_width_pixels, window_width_pixels])\n",
    "        upper_slice = image_slice(ul, housex, housey)\n",
    "        lower_slice = image_slice(ll, housex, housey)\n",
    "        \n",
    "        result[:upper_slice.shape[0], :] = upper_slice\n",
    "        result[ window_width_pixels - lower_slice.shape[0]:, :] = lower_slice\n",
    "\n",
    "\n",
    "        return result\n",
    "    elif ul == ll and ur == lr and ul != ur and ll != lr: # vertical split\n",
    "        result = np.zeros([window_width_pixels, window_width_pixels])\n",
    "        left_slice = image_slice(ll, housex, housey)\n",
    "        right_slice = image_slice(ur, housex, housey)\n",
    "  \n",
    "        result[:, :left_slice.shape[1]] = left_slice\n",
    "        result[:, window_width_pixels - right_slice.shape[1]:] = right_slice\n",
    "\n",
    "        return result\n",
    "    else: # four way split\n",
    "        ll_slice = image_slice(ll, housex, housey)\n",
    "        ul_slice = image_slice(ul, housex, housey)\n",
    "        lr_slice = image_slice(lr, housex, housey)\n",
    "        ur_slice = image_slice(ur, housex, housey)\n",
    "        \n",
    "        result = np.zeros([window_width_pixels, window_width_pixels])\n",
    "        result[:ll_slice.shape[0], :ll_slice.shape[1]] = ll_slice\n",
    "        result[:lr_slice.shape[0], window_width_pixels - lr_slice.shape[1]:] = lr_slice\n",
    "        \n",
    "        result[window_width_pixels - ul_slice.shape[0]:, :ul_slice.shape[1]] = ul_slice\n",
    "        result[window_width_pixels - ur_slice.shape[0]:, window_width_pixels - ur_slice.shape[1]:] = ur_slice\n",
    "        return result\n",
    "\n",
    "        \n",
    "\n",
    "def window_violated_chunk_borders(housex, housey):\n",
    "    corners = [(housex-window_width_feet/2, housey-window_width_feet/2),\n",
    "              (housex-window_width_feet/2, housey+window_width_feet/2),\n",
    "              (housex+window_width_feet/2, housey+window_width_feet/2),\n",
    "              (housex+window_width_feet/2, housey-window_width_feet/2)]\n",
    "    files = map(lambda x: get_file_containing(x[0], x[1]), corners)\n",
    "    return len(set(files)) > 1\n",
    "\n",
    "\n",
    "\n",
    "file_attributes = {}\n",
    "\n",
    "mypath = \"/home/isaac/Desktop/devika/ARCGIS/ArcGis/ascii_files\"\n",
    "for filename in [f for f in listdir(mypath) if isfile(join(mypath, f))]: \n",
    "    attributes = {}\n",
    "    with open(mypath + \"/\" + filename) as FileObj:\n",
    "        for index, line in enumerate(FileObj):\n",
    "            if(index < 6):\n",
    "#                 print line\n",
    "                attributes[line.split(\" \")[0]] = int(line.split(\" \")[-1][:-2])\n",
    "            else:\n",
    "                break # don't load the other lines into memory becuase that's a waste of time.\n",
    "\n",
    "    attributes['width'] = attributes['ncols'] * attributes['cellsize']\n",
    "    attributes['height'] = attributes['nrows'] * attributes['cellsize']\n",
    "    file_attributes[filename] = attributes\n",
    "print \"loaded all file header attributes into dict\"\n",
    "\n",
    "\n",
    "def load_data(path, normalize_columns = False, only_columns_containing = \"\"):\n",
    "    print(\"loading...\")\n",
    "    gc.collect() # collect garbage\n",
    "    data = pandas.read_hdf(path, '/df')\n",
    "    df = pandas.DataFrame(data)\n",
    "    df = df.sort(['hcad']).fillna(0)\n",
    "    df = df.reset_index()#(ascending=True)\n",
    "\n",
    "    data_dict = {}\n",
    "    for label in set(df._get_numeric_data().columns).union({'hcad'}):\n",
    "        # union hcad to ensure that hcad col comes in even if not considered numerical\n",
    "        if normalize_columns and  label != 'hcad':\n",
    "            column_data = np.array(df[label].astype(float))\n",
    "            column_data -= np.min(column_data)\n",
    "            data_dict[label] = column_data / np.max(column_data)\n",
    "        elif label != 'hcad':\n",
    "            data_dict[label] = df[label].astype(float)\n",
    "\n",
    "    result = pandas.DataFrame.from_dict(data_dict)\n",
    "\n",
    "    result = result.replace([np.inf, -np.inf], 1)\n",
    "    \n",
    "    \n",
    "    for label in result:\n",
    "        if not only_columns_containing in str(label):\n",
    "            result.drop([str(label)], axis = 1 , inplace= True)\n",
    "\n",
    "    return result\n",
    "\n",
    "\n",
    "wind_data = load_data(\"/home/isaac/Dropbox/data_for_brian/wind_features/hcad_interp_withoutpartial_rad100_hist8x8.mat.hd\", \n",
    "              normalize_columns=True, only_columns_containing = \"spd\")\n",
    "meta = pandas.read_csv(\"../data/df_meta.csv\", low_memory = True, skiprows = 0, compact_ints=True)\n",
    "meta = meta.sort(['hcad']).fillna(0)\n",
    "meta = meta.reset_index()\n",
    "y_data = load_data(\"/home/isaac/Dropbox/data_for_brian/y_df.hd\")\n",
    "hcad = load_data(\"/home/isaac/Dropbox/data_for_brian/hcad_features/hcad_df_point.hd\", \n",
    "              normalize_columns=True)\n",
    "# wind_data = wind_data[meta['img0'] == 1]\n",
    "# y_data = wind_data[meta['img0'] == 1]\n",
    "y_gaussian = pickle.load(open( \"/home/isaac/Desktop/house_guassian_damage_balance.p\", \"rb\" ) )\n",
    "\n",
    "wgs84=pyproj.Proj(\"+init=EPSG:4326\") # LatLon with WGS84 datum used by GPS units and Google Earth\n",
    "UTM26N=pyproj.Proj(\"+init=EPSG:2278\") # UTM coords, zone Texas Central, WGS84 datum\n",
    "\n",
    "\n",
    "\n",
    "# metamat, extra_features, regression_y, cat_y = get_batch(1, random = False, start_index=12314)\n",
    "\n",
    "# meta = load_data(\"/home/isaac/Dropbox/data_for_brian/meta/df_meta.hd\")\n",
    "\n",
    "# X, _, _ = get_batch(100)\n",
    "# plt.imshow(X[0,:,:,0])\n",
    "# plt.show()\n",
    "# X = X[:,:,:,0].reshape([-1])\n",
    "# print np.min(X)\n",
    "# plt.hist(X, bins = 50)\n",
    "# plt.show()\n",
    "hcad = np.array(hcad)\n",
    "wind_data = np.array(wind_data)\n",
    "\n",
    "\n",
    "# convert hcad to nice log scale\n",
    "for i in range(hcad.shape[1]):\n",
    "    hcad[:,i] = log(hcad[:,i] + .001)\n",
    "    hcad[:,i] -= np.min(hcad[:,i])\n",
    "    hcad[:,i] /= np.max(hcad[:,i])\n",
    "\n",
    "housewise_square_damage_actual = np.array(pickle.load( open( \"../housewise_square_damage_actual.p\", \"rb\" ) ))\n"
   ]
  },
  {
   "cell_type": "code",
   "execution_count": 2,
   "metadata": {
    "ExecuteTime": {
     "end_time": "2017-04-03T14:09:55.022705Z",
     "start_time": "2017-04-03T14:09:45.343098"
    },
    "collapsed": false,
    "deletable": true,
    "editable": true,
    "hide_input": false,
    "scrolled": true
   },
   "outputs": [
    {
     "name": "stdout",
     "output_type": "stream",
     "text": [
      "loading...\n",
      "Opening /home/isaac/Dropbox/data_for_brian/hcad_features/hcad_df_point.hd in read-only mode\n"
     ]
    }
   ],
   "source": [
    "image_width = 224\n",
    "\n",
    "train_key_list = ['372W', '367U', '332T', '299J', '454A', '398Y', '336P', '459V', '532L', '617H', '455D', '462W', '528K', '375E', '458N', '376G', '447B', '412F', '456Z', '286M', '573R', '408L', '367X', '528M', '337Y', '453F', '367E', '501U', '285M', '418D', '406L', '371U', '580C', '337M', '502W', '537Z', '460T', '415X', '299W', '447H', '451V', '580Z', '298C', '375N', '411T', '330U', '613D', '289W', '494C', '367Z', '454S', '286N', '444Q', '495N', '419V', '542N', '527L', '376H', '380C', '457F', '333G', '571U', '414X', '284M', '534E', '496T', '336W', '375W', '407U', '336D', '458A', '331W', '336G', '407 ', '289L', '489Y', '367R', '489X', '419T', '290Y', '575V', '444K', '288D', '489B', '458U', '330A', '413U', '367Y', '290N', '618F', '370B', '328J', '249V', '576G', '292K', '449U', '417A', '446U', '528T', '328V', '331G', '495Z', '446A', '452M', '573L', '493V', '334V', '414S', '249U', '338F', '333T', '453Q', '455P', '617Y', '574K', '369J', '445Y', '538L', '530C', '293N', '620D', '333J', '530K', '456H', '539P', '537M', '334G', '459T', '492J', '491L', '452P', '259S', '575C', '528R', '452H', '370D', '534S', '485G', '412E', '378R', '299U', '576U', '451W', '376A', '458H', '491X', '537W', '533V', '497D', '408R', '457J', '331Q', '570A', '291J', '376C', '250W', '539Y', '446C', '537F', '333P', '338V', '527M', '289Z', '533H', '617B', '501C', '410G', '453T', '411Q', '336U', '571V', '414P', '534X', '415W', '616J', '330Z', '447C', '492C', '475V', '288P', '327M', '455M', '216Z', '578X', '371W', '286X', '333E', '419X', '377M', '542J', '375R', '501T', '485R', '408U', '331A', '325D', '578W', '496X', '488C', '460Z', '336S', '461P', '460C', '579F', '539R', '326X', '536F', '456T', '530U', '535J', '249Z', '576F', '451X', '493L', '404Y', '616A', '459Y', '489E', '335N', '580Q', '446R', '539U', '336J', '452N', '618V', '331T', '407Y', '493E', '534Y', '580S', '372R', '536U', '327Z', '415Y', '457X', '377X', '529N', '289D', '416R', '495P', '283J', '405X', '297X', '331B', '500S', '449B', '368N', '459E', '499A', '452B', '369S', '453J', '375S', '571A', '372A', '530Q', '419C', '370U', '453R', '292W', '376T', '487J', '657C', '334J', '326F', '530G', '419R', '407C', '407X', '411D', '326T', '534F', '328G', '530N', '296V', '411E', '369G', '369R', '657E', '332L', '379L', '538W', '336V', '412S', '528Z', '373N', '451B', '339N', '528U', '289X', '492F', '498M', '617M', '578D', '451N', '368K', '413B', '576C', '494B', '573Y', '407J', '249W', '419G', '528E', '337P', '415N', '290Z', '485M', '488S', '335T', '528P', '410W', '250J', '298J', '293W', '451C', '378T', '530T', '283E', '327E', '502J', '292Z', '291X', '456M', '411K', '250G', '336F', '414T', '367K', '577F', '497A', '290K', '370C', '491K', '372G', '449Z', '575X', '489R', '369D', '460D', '411P', '338Z', '501N', '452S', '573F', '327K', '4938', '324H', '250Z', '500D', '338W', '334R', '414C', '413H', '536N', '332Q', '372P', '489L', '461R', '575E', '419H', '490Q', '498F', '368M', '326Q', '415P', '573G', '495S', '334U', '290P', '502B', '338E', '444V', '496Q', '405Y', '498G', '370V', '616H', '444R', '410T', '538Z', '618Y', '248Y', '493A', '537H', '486K', '541L', '368F', '329R', '258V', '500Z', '446F', '369C', '419N', '618K', '535D', '488X', '446S', '577X', '291G', '259N', '299S', '494U', '416E', '376u', '410V', '535N', '414U', '445V', '575M', '419A', '615R', '489Z', '492B', '413Y', '488L', '488U', '575P', '618L', '418P', '529J', '619A', '336T', '448F', '457P', '375G', '572Q', '529B', '329E', '454B', '375V', '530Y', '420C', '447N', '420A', '411C', '371T', '530S', '250S', '409G', '297S', '492S', '498C', '373J', '575R', '371Q', '287E', '447E', '618J', '572X', '536M', '489T', '327J', '457B', '373R', '372K', '409S', '298N', '625V', '531D', '456R', '444G', '572T', '326U', '576Y', '529K', '331F', '415B', '496R', '323C', '368J', '580D', '452W', '448D', '494H', '327N', '449Y', '534C', '259W', '375H', '378L', '326J', '412V', '298M', '299X', '447D', '415J', '376B', '535U', '493T', '533Y', '575Z', '328D', '619R', '453X', '571Q', '453V', '494N', '445H', '572S', '258T', '540H', '490W', '576J', '371B', '366R', '537R', '533M', '328S', '490S', '414Y', '574U', '490G', '411L', '329X', '535L', '327U', '413Z', '485F', '417H', '461U', '412T', '410Z', '459Z', '453G', '290F', '377S', '534P', '493S', '576T', '571R', '338L', '458J', '339J', '286Y', '331J', '617S', '325B', '414A', '368A', '298V', '502N', '579C', '369Y', '457V', '367Q', '415T', '498E', '494M', '450S', '533Q', '571T', '337A', '536P', '287K', '293Y', '250E', '336C', '532M', '289E', '657D', '487E', '492A', '575B', '454Z', '489N', '530M', '455N', '412J', '488V', '450W', '411A', '372F', '417C', '458M', '529T', '327V', '292S', '531X', '536V', '411U', '407R', '502L', '496P', '367T', '327C', '371M', '407H', '368C', '490M', '532R', '485B', '290J', '495U', '324M', '415Q', '408K', '405Z', '449A', '530X', '577J', '446H', '373T', '616M', '327D', '490F', '366Q', '529F', '455Z', '486G', '577B', '492V', '446K', '495W', '290D', '455Y', '258X', '490B', '450H', '330R', '488B', '449X', '498D', '530A', '619D', '298P', '575Q', '450D', '337S', '657F', '501R', '371K', '413P', '370Q', '285X', '378M', '573J', '496G', '298G', '497N', '486M', '338S', '287T', '420G', '578U', '537G', '535K', '449G', '578B', '578J', '258Z', '611D', '409Q', '379X', '412U', '496H', '461S', '531V', '325M', '539W', '298B', '446P', '531N', '574H', '405S', '573U', '536Z', '536L', '496L', '417P', '411Y', '290T', '332V', '368T', '538P', '453A', '369X', '259X', '538M', '375T', '285F', '371S', '282Q', '406U', '337X', '488T', '338M', '327W', '373Q', '616L', '617E', '371E', '460G', '411X', '535Z', '339S', '494D', '377T', '297U', '537L', '410K', '328X', '367C', '459P', '575A', '535X', '286J', '373Z', '533C', '338T', '444X', '290E', '411W', '248X', '285P', '573N', '368P', '618N', '411B', '490X', '450E', '620F', '376M', '501V', '498H', '326H', '574B', '413X', '292Q', '454X', '444B', '530E', '616N', '531Q', '454R', '380M', '500A', '250K', '537E', '539S', '535F', '284V', '292U', '337R', '486S', '286G', '456S', '497B', '618C', '419U', '447W', '288Z', '531L', '377Z', '406D', '533X', '287G', '452C', '492T', '491A', '414V', '328N', '572', '619T', '500B', '528H', '571G', '529P', '451K', '569D', '373U', '289J', '414Z', '297R', '535V', '491U', '336L', '445S', '447L', '406V', '491E', '376D', '536S', '327H', '283V', '457Q', '490Y', '329Z', '532Z', '456L', '531T', '291E', '450Y', '328E', '371R', '375X', '486H', '657M', '367L', '575K', '292V', '616F', '375Q', '539V', '530V', '329P', '530P', '444M', '534J', '407L', '541B', '486T', '456U', '533L', '407B', '531E', '540W', '408F', '336H', '418H', '414H', '414Q', '620G', '326A', '376F', '338D', '458Y', '529R', '332D', '444U', '454K', '259T', '529G', '248W', '296R', '332A', '333C', '529Z', '297W', '529S', '491G', '326B', '459L', '417W', '376', '407D', '420Z', '577K', '448H', '493D', '325Q', '578C', '336K', '366K', '618X', '412Q', '454P', '462X', '500F', '578H', '330Y', '531W', '500E', '490J', '329K', '575U', '289H', '371X', '368W', '534N', '536E', '538U', '528C', '410E', '287P', '496B', '371H', '378P', '534T', '291Z', '407P', '338G', '570F', '489D', '571L', '502P', '532B', '495H', '490V', '418S', '493K', '485C', '380V', '248U', '413E', '488F', '408J', '288R', '421J', '413R', '579G', '291T', '332E', '412B', '458V', '490P', '414R', '325V', '332J', '571B', '621A', '330D', '572Z', '499G', '529L', '377E', '286U', '572G', '533P', '537J', '618D', '327X', '414L', '527H', '330T', '657H', '539X', '290V', '410U', '292X', '496K', '488D', '336B', '457L', '414B', '412M', '287M', '569C', '327T', '450X', '491B', '540Z', '613C', '459S', '447P', '330W', '370T', '420N', '445Q', '532J', '332G', '616G', '380G', '573M', '369E', '292B', '496S', '413K', '329C', '532S', '574E', '457D', '619S', '495J', '293T', '527G', '570H', '491W', '407V', '445W', '290G', '372E', '486D', '293P', '415A', '328B', '501P', '378N', '291S', '415H', '491R', '379T', '446J', '489G', '571D', '250R', '368E', '282V', '493Z', '335V', '288N', '458S', '501W', '454C', '538Q', '333M', '455E', '328F', '292N', '453Z', '446X', '452X', '501Z', '531G', '456A', '450P', '408G', '616D', '541C', '531S', '377Q', '339T', '616C', '370A', '406P', '534M', '458Z', '451Y', '451Q', '331P', '297L', '538K', '451G', '286H', '409K', '450Z', '580U', '293Z', '417T', '488W', '418E', '539N', '329D', '569H', '410A', '330M', '368G', '412Z', '297N', '338H', '540 ', '578F', '536T', '449T', '487B', '329S', '288B', '368V', '533F', '580L', '337Z', '286R', '494X', '490Z', '334Q', '376E', '286L', '450J', '410H', '456D', '298L', '330S', '409H', '333A', '415M', '618Q', '454M', '493R', '530L', '407E', '490U', '297V', '413G', '250F', '489Q', '330G', '410L', '572J', '6160', '501L', '502E', '497M', '502C', '414W', '366H', '406R', '372X', '331X', '367D', '330B', '367A', '414G', '495L', '459M', '412X', '459K', '381W', '488H', '535E', '618U', '448E', '619P', '450U', '371F', '490A', '367G', '578G', '374M', '570E', '371N', '332N', '368Z', '617U', '535Y', '462S', '571Z', '375K', '537P', '495K', '618T', '413W', '573C', '453 ', '337L', '290M', '324D', '379N', '249Y', '455V', '455Q', '289A', '413T', '578T', '298W', '485E', '373A', '657G', '285K', '333D', '454W', '290X', '658C', '540X', '285T', '250Y', '380P', '258Y', '532K', '420J', '329W', '446Y', '532X', '338Q', '377B', '533E', '325E', '533G', '493Y', '617R', '453S', '542T', '366V', '494P', '501F', '410P', '618B', '337D', '368L', '571F', '500H', '3335', '620K', '576W', '297P', '489W', '420P', '286W', '498A', '535Q', '418R', '538X', '299N', '458B', '292R', '372H', '451J', '249S', '530W', '537Y', '496F', '460V', '446E', '532N', '535C', '446Z', '333S', '535T', '335S', '334M', '620E', '415S', '455G', '492R', '378B', '617X', '339A', '298Y', '331S', '7753', '298Z', '575H', '571N', '334E', '529H', '456F', '326S', '335Z', '457G', '495A', '409W', '456X', '369T', '332U', '450T', '455L', '417B', '495M', '529W', '495T', '530H', '454H', '491J', '372Z', '419L', '618Z', '413A', '452D', '420Q', '541E', '487A', '283K', '339W', '288U', '337W', '282U', '446Q', '499B', '286Z', '325R', '535P', '407S', '327Y', '461G', '411R', '538N', '329A', '335U', '501D', '330C', '487Y', '577C', '501S', '445T', '539Q', '418W', '373P', '407K', '457C', '287H', '489F', '445M', '577D', '618H', '411Z', '531R', '490H', '455F', '296U', '328Q', '406Y', '451F', '420E', '492U', '338U', '454T', '371V', '576S', '579A', '409C', '408N', '529X', '410F', '534B', '336A', '541M', '289V', '419D', '333H', '408T', '617V', '336E', '411J', '408X', '528G', '289T', '500P', '288K', '577L', '444Y', '380R', '460R', '414F', '501B', '291M', '528D', '453W', '411M', '492N', '329M', '531U', '330L', '578E', '486P', '454N', '337T', '500M', '331L', '370H', '374V', '537X', '378Q', '485L', '325C', '579B', '408Q', '380Q', '371J', '576K', '618P', '379Q', '577G', '283R', '541D', '337C', '369H', '618G', '538T', '446W', '415L', '418X', '490L', '298T', '288C', '380H', '535A', '288X', '452F', '292L', '577S', '454E', '369V', '489J', '493J', '490C', '287F', '336Q', '331N', '455C', '619C', '541W', '532D', '536H', '492H', '458W', '287N', '259P', '459W', '486R', '368B', '570B', '491F', '412R', '456G', '324N', '455B', '487Z', '338A', '369F', '329U', '369Q', '502F', '298U', '452J', '489K', '532Q', '289F', '497J', '488Q', '531J', '378A', '533Z', '330P', '578S', '420W', '456K', '447A', '335Q', '485A', '449Q', '574', '376K', '332C', '542S', '460H', '619M', '461H', '452K', '445N', '574C', '451A', '409R', '455H', '577A', '330X', '528B', '492W', '366D', '616P', '569B', '456J', '533B', '539Z', '292T', '373F', '454L', '489P', '328C', '452Z', '289K', '501E', '409Z', '371Z', '338Y', '323G', '419Z', '372B', '540T', '298K', '411F', '497G', '379A', '501J', '502G', '330V', '500C', '409L', '4559', '381J', '288G', '541A', '570L', '494Q', '494K', '528N', '410D', '576Q', '372S', '367V', '326Y', '494R', '406K', '338N', '370L', '337E', '528L', '291A', '404V', '573V', '537U', '330F', '489M', '298H', '411S', '332K', '452R', '377J', '287D', '4525', '337B', '450C', '617T', '572P', '457N', '407Q', '529Q', '496E', '489A', '450B', '574D', '571M', '530Z', '417X', '332F', '368Y', '495E', '498B', '573H', '450M', '531A', '459J', '498J', '289Q', '533T', '575N', '530F', '331U', '290Q', '329J', '486E', '501G', '331K', '286E', '497C', '296Y', '337F', '329Q', '288A', '420K', '490E', '413V', '290H', '501H', '450R', '494E', '494S', '452Y', '492X', '298R', '297Z', '577M', '329H', '289G', '368U', '367M', '328U', '445B', '577H', '292Y', '298Q', '292G', '370N', '331E', '414E', '527C', '491S', '372J', '497E', '494Y', '532G', '330K', '461A', '458X', '460N', '328T', '369W', '454Y', '418Q', '325J', '420M', '619Q', '366M', '448A', '494L', '288M', '580B', '490D', '289R', '370R', '373K', '250L', '409U', '298X', '283Q', '450V', '411V', '333K', '375L', '576N', '573', '407N', '327L', '291U', '326R', '453U', '492Z', '412A', '486A', '535W', '376U', '452V', '329G', '327R', '576H', '620H', '412D', '456B', '460W', '578A', '291P', '332P', '298E', '249X', '491T', '537T', '445R', '287R', '538Y', '573Q', '460Y', '409B', '410B', '460Q', '454U', '380D', '327P', '618A', '570C', '579E', '250X', '531M', '420S', '452T', '536X', '618S', '336Z', '494W', '286V', '338C', '455X', '488A', '445U', '367P', '292C', '288S', '493H', '490N', '289C', '327B', '445Z', '444F', '371G', '379S', '573Z', '531F', '458C', '494A', '370E', '493M', '337H', '573D', '332B', '370Z', '494Z', '289B', '326V', '410N', '496N', '491V', '450Q', '328Z', '534L', '618E', '416Z', '490R', '282Z', '377W', '534D', '378C', '335P', '372Q', '499D', '488G', '451L', '542A', '572V', '332S', '328M', '535R', '372D', '329N', '334A', '529A', '419F', '452G', '532P', '448Y', '331C', '459F', '534A', '457E', '378D', '290C', '334F', '451D', '375C', '493G', '449M', '575S', '494J', '407W', '446B', '413J', '417R', '571E', '459G', '331M', '461T', '461N', '528A', '448B', '571C', '450L', '539T', '453P', '575T', '250N', '455T', '379E', '331H', '299T', '454D', '536R', '420H', '572E', '372N', '578Z', '408P', '537Q', '529M', '457Z', '447J', '502A', '460X', '409T', '495V', '369L', '575G', '527D', '370M', '411G', '617W', '494G', '409A', '527B', '451E', '657A', '453Y', '375D', '620P', '570M', '375P', '334B', '328H', '5721', '374W', '450N', '616B', '370G', '576P', '289M', '416W', '488Z', '445P', '408S', '532H', '528F', '380L', '500G', '496J', '369M', '291W', '570G', '451M', '573X', '332H', '288F', '454G', '453D', '377F', '328W', '573K', '447S', '408A', '500R', '407Z', '453E', '461W', '369A', '412W', '457A', '619G', '291R', '491Y', '531K', '454F', '501A', '491P', '534H', '533U', '462T', '371D', '288L', '407F', '536K', '493X', '540Y', '415R', '444L', '495F', '459R', '375Z', '335J', '419Q', '460S', '492L', '453C', '368R', '531Y', '532W', '460F', '486F', '452Q', '490T', '337G', '491M', '375F', '500K', '330Q', '414M', '451U', '570D', '331V', '501X', '332M', '485D', '533N', '287V', '488J', '449L', '528Q', '291V', '373V', '532E', '407T', '332W', '536J', '447T', '258U', '375Y', '326P', '615M', '446V', '538V', '370Y', '377C', '337K', '445X', '446N', '492Y', '373W', '536Q', ' ', '493F', '500T', '461X', '489V', '450G', '491Q', '412H', '447G', '459H', '497H', '571K', '453H', '571P', '328P', '533J', '288H', '457T', '496C', '489U', '297Q', '657L', '449R', '408W', '299K', '286T', '572U', '580G', '497K', '538G', '575D', '488E', '452L', '330E', '299P', '377A', '250V', '408D', '571S', '486J', '333Q', '373C', '576V', '453L', '248V', '289Y', '408E', '329T', '327A', '374Z', '419S', '576B', '657B', '330J', '535H', '570K', '453N', '573T', '497F', '453K', '298F', '532Y', '460M', '455K', '533A', '329B', '486L', '576L', '369K', '488M', '455A', '334L', '620Q', '286F', '493C', '533R', '415E', '459X', '298S', '371P', '288Y', '620N', '457U', '406T', '492D', '368H', '531P', '289P', '454V', '416L', '534V', '576D', '502T', '616E', '574J', '408V', '618M', '374R', '290B', '416Q', '369Z', '248Z', '337N', '408Y', '413F', '370S']\n",
    "random.seed(123)\n",
    "random.shuffle(train_key_list)\n",
    "val_key_list = train_key_list[:int(len(train_key_list) * .2)]\n",
    "\n",
    "val_key_set = set(val_key_list)\n",
    "\n",
    "train_key_set = set(train_key_list)\n",
    "\n",
    "train_key_set = train_key_set - val_key_set\n",
    "\n",
    "train_keymaps =  ['372W', '367U', '332T', '299J', '454A', '398Y', '336P', '459V', '532L', '617H', '455D', '462W', '528K', '375E', '458N', '376G', '447B', '412F', '456Z', '286M', '573R', '408L', '367X', '528M', '337Y', '453F', '367E', '501U', '285M', '418D', '406L', '371U', '580C', '337M', '502W', '537Z', '460T', '415X', '299W', '447H', '451V', '580Z', '298C', '375N', '411T', '330U', '613D', '289W', '494C', '367Z', '454S', '286N', '444Q', '495N', '419V', '542N', '527L', '376H', '380C', '457F', '333G', '571U', '414X', '284M', '534E', '496T', '336W', '375W', '407U', '336D', '458A', '331W', '336G', '407 ', '289L', '489Y', '367R', '489X', '419T', '290Y', '575V', '444K', '288D', '489B', '458U', '330A', '413U', '367Y', '290N', '618F', '370B', '328J', '249V', '576G', '292K', '449U', '417A', '446U', '528T', '328V', '331G', '495Z', '446A', '452M', '573L', '493V', '334V', '414S', '249U', '338F', '333T', '453Q', '455P', '617Y', '574K', '369J', '445Y', '538L', '530C', '293N', '620D', '333J', '530K', '456H', '539P', '537M', '334G', '459T', '492J', '491L', '452P', '259S', '575C', '528R', '452H', '370D', '534S', '485G', '412E', '378R', '299U', '576U', '451W', '376A', '458H', '491X', '537W', '533V', '497D', '408R', '457J', '331Q', '570A', '291J', '376C', '250W', '539Y', '446C', '537F', '333P', '338V', '527M', '289Z', '533H', '617B', '501C', '410G', '453T', '411Q', '336U', '571V', '414P', '534X', '415W', '616J', '330Z', '447C', '492C', '475V', '288P', '327M', '455M', '216Z', '578X', '371W', '286X', '333E', '419X', '377M', '542J', '375R', '501T', '485R', '408U', '331A', '325D', '578W', '496X', '488C', '460Z', '336S', '461P', '460C', '579F', '539R', '326X', '536F', '456T', '530U', '535J', '249Z', '576F', '451X', '493L', '404Y', '616A', '459Y', '489E', '335N', '580Q', '446R', '539U', '336J', '452N', '618V', '331T', '407Y', '493E', '534Y', '580S', '372R', '536U', '327Z', '415Y', '457X', '377X', '529N', '289D', '416R', '495P', '283J', '405X', '297X', '331B', '500S', '449B', '368N', '459E', '499A', '452B', '369S', '453J', '375S', '571A', '372A', '530Q', '419C', '370U', '453R', '292W', '376T', '487J', '657C', '334J', '326F', '530G', '419R', '407C', '407X', '411D', '326T', '534F', '328G', '530N', '296V', '411E', '369G', '369R', '657E', '332L', '379L', '538W', '336V', '412S', '528Z', '373N', '451B', '339N', '528U', '289X', '492F', '498M', '617M', '578D', '451N', '368K', '413B', '576C', '494B', '573Y', '407J', '249W', '419G', '528E', '337P', '415N', '290Z', '485M', '488S', '335T', '528P', '410W', '250J', '298J', '293W', '451C', '378T', '530T', '283E', '327E', '502J', '292Z', '291X', '456M', '411K', '250G', '336F', '414T', '367K', '577F', '497A', '290K', '370C', '491K', '372G', '449Z', '575X', '489R', '369D', '460D', '411P', '338Z', '501N', '452S', '573F', '327K', '4938', '324H', '250Z', '500D', '338W', '334R', '414C', '413H', '536N', '332Q', '372P', '489L', '461R', '575E', '419H', '490Q', '498F', '368M', '326Q', '415P', '573G', '495S', '334U', '290P', '502B', '338E', '444V', '496Q', '405Y', '498G', '370V', '616H', '444R', '410T', '538Z', '618Y', '248Y', '493A', '537H', '486K', '541L', '368F', '329R', '258V', '500Z', '446F', '369C', '419N', '618K', '535D', '488X', '446S', '577X', '291G', '259N', '299S', '494U', '416E', '376u', '410V', '535N', '414U', '445V', '575M', '419A', '615R', '489Z', '492B', '413Y', '488L', '488U', '575P', '618L', '418P', '529J', '619A', '336T', '448F', '457P', '375G', '572Q', '529B', '329E', '454B', '375V', '530Y', '420C', '447N', '420A', '411C', '371T', '530S', '250S', '409G', '297S', '492S', '498C', '373J', '575R', '371Q', '287E', '447E', '618J', '572X', '536M', '489T', '327J', '457B', '373R', '372K', '409S', '298N', '625V', '531D', '456R', '444G', '572T', '326U', '576Y', '529K', '331F', '415B', '496R', '323C', '368J', '580D', '452W', '448D', '494H', '327N', '449Y', '534C', '259W', '375H', '378L', '326J', '412V', '298M', '299X', '447D', '415J', '376B', '535U', '493T', '533Y', '575Z', '328D', '619R', '453X', '571Q', '453V', '494N', '445H', '572S', '258T', '540H', '490W', '576J', '371B', '366R', '537R', '533M', '328S', '490S', '414Y', '574U', '490G', '411L', '329X', '535L', '327U', '413Z', '485F', '417H', '461U', '412T', '410Z', '459Z', '453G', '290F', '377S', '534P', '493S', '576T', '571R', '338L', '458J', '339J', '286Y', '331J', '617S', '325B', '414A', '368A', '298V', '502N', '579C', '369Y', '457V', '367Q', '415T', '498E', '494M', '450S', '533Q', '571T', '337A', '536P', '287K', '293Y', '250E', '336C', '532M', '289E', '657D', '487E', '492A', '575B', '454Z', '489N', '530M', '455N', '412J', '488V', '450W', '411A', '372F', '417C', '458M', '529T', '327V', '292S', '531X', '536V', '411U', '407R', '502L', '496P', '367T', '327C', '371M', '407H', '368C', '490M', '532R', '485B', '290J', '495U', '324M', '415Q', '408K', '405Z', '449A', '530X', '577J', '446H', '373T', '616M', '327D', '490F', '366Q', '529F', '455Z', '486G', '577B', '492V', '446K', '495W', '290D', '455Y', '258X', '490B', '450H', '330R', '488B', '449X', '498D', '530A', '619D', '298P', '575Q', '450D', '337S', '657F', '501R', '371K', '413P', '370Q', '285X', '378M', '573J', '496G', '298G', '497N', '486M', '338S', '287T', '420G', '578U', '537G', '535K', '449G', '578B', '578J', '258Z', '611D', '409Q', '379X', '412U', '496H', '461S', '531V', '325M', '539W', '298B', '446P', '531N', '574H', '405S', '573U', '536Z', '536L', '496L', '417P', '411Y', '290T', '332V', '368T', '538P', '453A', '369X', '259X', '538M', '375T', '285F', '371S', '282Q', '406U', '337X', '488T', '338M', '327W', '373Q', '616L', '617E', '371E', '460G', '411X', '535Z', '339S', '494D', '377T', '297U', '537L', '410K', '328X', '367C', '459P', '575A', '535X', '286J', '373Z', '533C', '338T', '444X', '290E', '411W', '248X', '285P', '573N', '368P', '618N', '411B', '490X', '450E', '620F', '376M', '501V', '498H', '326H', '574B', '413X', '292Q', '454X', '444B', '530E', '616N', '531Q', '454R', '380M', '500A', '250K', '537E', '539S', '535F', '284V', '292U', '337R', '486S', '286G', '456S', '497B', '618C', '419U', '447W', '288Z', '531L', '377Z', '406D', '533X', '287G', '452C', '492T', '491A', '414V', '328N', '572', '619T', '500B', '528H', '571G', '529P', '451K', '569D', '373U', '289J', '414Z', '297R', '535V', '491U', '336L', '445S', '447L', '406V', '491E', '376D', '536S', '327H', '283V', '457Q', '490Y', '329Z', '532Z', '456L', '531T', '291E', '450Y', '328E', '371R', '375X', '486H', '657M', '367L', '575K', '292V', '616F', '375Q', '539V', '530V', '329P', '530P', '444M', '534J', '407L', '541B', '486T', '456U', '533L', '407B', '531E', '540W', '408F', '336H', '418H', '414H', '414Q', '620G', '326A', '376F', '338D', '458Y', '529R', '332D', '444U', '454K', '259T', '529G', '248W', '296R', '332A', '333C', '529Z', '297W', '529S', '491G', '326B', '459L', '417W', '376', '407D', '420Z', '577K', '448H', '493D', '325Q', '578C', '336K', '366K', '618X', '412Q', '454P', '462X', '500F', '578H', '330Y', '531W', '500E', '490J', '329K', '575U', '289H', '371X', '368W', '534N', '536E', '538U', '528C', '410E', '287P', '496B', '371H', '378P', '534T', '291Z', '407P', '338G', '570F', '489D', '571L', '502P', '532B', '495H', '490V', '418S', '493K', '485C', '380V', '248U', '413E', '488F', '408J', '288R', '421J', '413R', '579G', '291T', '332E', '412B', '458V', '490P', '414R', '325V', '332J', '571B', '621A', '330D', '572Z', '499G', '529L', '377E', '286U', '572G', '533P', '537J', '618D', '327X', '414L', '527H', '330T', '657H', '539X', '290V', '410U', '292X', '496K', '488D', '336B', '457L', '414B', '412M', '287M', '569C', '327T', '450X', '491B', '540Z', '613C', '459S', '447P', '330W', '370T', '420N', '445Q', '532J', '332G', '616G', '380G', '573M', '369E', '292B', '496S', '413K', '329C', '532S', '574E', '457D', '619S', '495J', '293T', '527G', '570H', '491W', '407V', '445W', '290G', '372E', '486D', '293P', '415A', '328B', '501P', '378N', '291S', '415H', '491R', '379T', '446J', '489G', '571D', '250R', '368E', '282V', '493Z', '335V', '288N', '458S', '501W', '454C', '538Q', '333M', '455E', '328F', '292N', '453Z', '446X', '452X', '501Z', '531G', '456A', '450P', '408G', '616D', '541C', '531S', '377Q', '339T', '616C', '370A', '406P', '534M', '458Z', '451Y', '451Q', '331P', '297L', '538K', '451G', '286H', '409K', '450Z', '580U', '293Z', '417T', '488W', '418E', '539N', '329D', '569H', '410A', '330M', '368G', '412Z', '297N', '338H', '540 ', '578F', '536T', '449T', '487B', '329S', '288B', '368V', '533F', '580L', '337Z', '286R', '494X', '490Z', '334Q', '376E', '286L', '450J', '410H', '456D', '298L', '330S', '409H', '333A', '415M', '618Q', '454M', '493R', '530L', '407E', '490U', '297V', '413G', '250F', '489Q', '330G', '410L', '572J', '6160', '501L', '502E', '497M', '502C', '414W', '366H', '406R', '372X', '331X', '367D', '330B', '367A', '414G', '495L', '459M', '412X', '459K', '381W', '488H', '535E', '618U', '448E', '619P', '450U', '371F', '490A', '367G', '578G', '374M', '570E', '371N', '332N', '368Z', '617U', '535Y', '462S', '571Z', '375K', '537P', '495K', '618T', '413W', '573C', '453 ', '337L', '290M', '324D', '379N', '249Y', '455V', '455Q', '289A', '413T', '578T', '298W', '485E', '373A', '657G', '285K', '333D', '454W', '290X', '658C', '540X', '285T', '250Y', '380P', '258Y', '532K', '420J', '329W', '446Y', '532X', '338Q', '377B', '533E', '325E', '533G', '493Y', '617R', '453S', '542T', '366V', '494P', '501F', '410P', '618B', '337D', '368L', '571F', '500H', '3335', '620K', '576W', '297P', '489W', '420P', '286W', '498A', '535Q', '418R', '538X', '299N', '458B', '292R', '372H', '451J', '249S', '530W', '537Y', '496F', '460V', '446E', '532N', '535C', '446Z', '333S', '535T', '335S', '334M', '620E', '415S', '455G', '492R', '378B', '617X', '339A', '298Y', '331S', '7753', '298Z', '575H', '571N', '334E', '529H', '456F', '326S', '335Z', '457G', '495A', '409W', '456X', '369T', '332U', '450T', '455L', '417B', '495M', '529W', '495T', '530H', '454H', '491J', '372Z', '419L', '618Z', '413A', '452D', '420Q', '541E', '487A', '283K', '339W', '288U', '337W', '282U', '446Q', '499B', '286Z', '325R', '535P', '407S', '327Y', '461G', '411R', '538N', '329A', '335U', '501D', '330C', '487Y', '577C', '501S', '445T', '539Q', '418W', '373P', '407K', '457C', '287H', '489F', '445M', '577D', '618H', '411Z', '531R', '490H', '455F', '296U', '328Q', '406Y', '451F', '420E', '492U', '338U', '454T', '371V', '576S', '579A', '409C', '408N', '529X', '410F', '534B', '336A', '541M', '289V', '419D', '333H', '408T', '617V', '336E', '411J', '408X', '528G', '289T', '500P', '288K', '577L', '444Y', '380R', '460R', '414F', '501B', '291M', '528D', '453W', '411M', '492N', '329M', '531U', '330L', '578E', '486P', '454N', '337T', '500M', '331L', '370H', '374V', '537X', '378Q', '485L', '325C', '579B', '408Q', '380Q', '371J', '576K', '618P', '379Q', '577G', '283R', '541D', '337C', '369H', '618G', '538T', '446W', '415L', '418X', '490L', '298T', '288C', '380H', '535A', '288X', '452F', '292L', '577S', '454E', '369V', '489J', '493J', '490C', '287F', '336Q', '331N', '455C', '619C', '541W', '532D', '536H', '492H', '458W', '287N', '259P', '459W', '486R', '368B', '570B', '491F', '412R', '456G', '324N', '455B', '487Z', '338A', '369F', '329U', '369Q', '502F', '298U', '452J', '489K', '532Q', '289F', '497J', '488Q', '531J', '378A', '533Z', '330P', '578S', '420W', '456K', '447A', '335Q', '485A', '449Q', '574', '376K', '332C', '542S', '460H', '619M', '461H', '452K', '445N', '574C', '451A', '409R', '455H', '577A', '330X', '528B', '492W', '366D', '616P', '569B', '456J', '533B', '539Z', '292T', '373F', '454L', '489P', '328C', '452Z', '289K', '501E', '409Z', '371Z', '338Y', '323G', '419Z', '372B', '540T', '298K', '411F', '497G', '379A', '501J', '502G', '330V', '500C', '409L', '4559', '381J', '288G', '541A', '570L', '494Q', '494K', '528N', '410D', '576Q', '372S', '367V', '326Y', '494R', '406K', '338N', '370L', '337E', '528L', '291A', '404V', '573V', '537U', '330F', '489M', '298H', '411S', '332K', '452R', '377J', '287D', '4525', '337B', '450C', '617T', '572P', '457N', '407Q', '529Q', '496E', '489A', '450B', '574D', '571M', '530Z', '417X', '332F', '368Y', '495E', '498B', '573H', '450M', '531A', '459J', '498J', '289Q', '533T', '575N', '530F', '331U', '290Q', '329J', '486E', '501G', '331K', '286E', '497C', '296Y', '337F', '329Q', '288A', '420K', '490E', '413V', '290H', '501H', '450R', '494E', '494S', '452Y', '492X', '298R', '297Z', '577M', '329H', '289G', '368U', '367M', '328U', '445B', '577H', '292Y', '298Q', '292G', '370N', '331E', '414E', '527C', '491S', '372J', '497E', '494Y', '532G', '330K', '461A', '458X', '460N', '328T', '369W', '454Y', '418Q', '325J', '420M', '619Q', '366M', '448A', '494L', '288M', '580B', '490D', '289R', '370R', '373K', '250L', '409U', '298X', '283Q', '450V', '411V', '333K', '375L', '576N', '573', '407N', '327L', '291U', '326R', '453U', '492Z', '412A', '486A', '535W', '376U', '452V', '329G', '327R', '576H', '620H', '412D', '456B', '460W', '578A', '291P', '332P', '298E', '249X', '491T', '537T', '445R', '287R', '538Y', '573Q', '460Y', '409B', '410B', '460Q', '454U', '380D', '327P', '618A', '570C', '579E', '250X', '531M', '420S', '452T', '536X', '618S', '336Z', '494W', '286V', '338C', '455X', '488A', '445U', '367P', '292C', '288S', '493H', '490N', '289C', '327B', '445Z', '444F', '371G', '379S', '573Z', '531F', '458C', '494A', '370E', '493M', '337H', '573D', '332B', '370Z', '494Z', '289B', '326V', '410N', '496N', '491V', '450Q', '328Z', '534L', '618E', '416Z', '490R', '282Z', '377W', '534D', '378C', '335P', '372Q', '499D', '488G', '451L', '542A', '572V', '332S', '328M', '535R', '372D', '329N', '334A', '529A', '419F', '452G', '532P', '448Y', '331C', '459F', '534A', '457E', '378D', '290C', '334F', '451D', '375C', '493G', '449M', '575S', '494J', '407W', '446B', '413J', '417R', '571E', '459G', '331M', '461T', '461N', '528A', '448B', '571C', '450L', '539T', '453P', '575T', '250N', '455T', '379E', '331H', '299T', '454D', '536R', '420H', '572E', '372N', '578Z', '408P', '537Q', '529M', '457Z', '447J', '502A', '460X', '409T', '495V', '369L', '575G', '527D', '370M', '411G', '617W', '494G', '409A', '527B', '451E', '657A', '453Y', '375D', '620P', '570M', '375P', '334B', '328H', '5721', '374W', '450N', '616B', '370G', '576P', '289M', '416W', '488Z', '445P', '408S', '532H', '528F', '380L', '500G', '496J', '369M', '291W', '570G', '451M', '573X', '332H', '288F', '454G', '453D', '377F', '328W', '573K', '447S', '408A', '500R', '407Z', '453E', '461W', '369A', '412W', '457A', '619G', '291R', '491Y', '531K', '454F', '501A', '491P', '534H', '533U', '462T', '371D', '288L', '407F', '536K', '493X', '540Y', '415R', '444L', '495F', '459R', '375Z', '335J', '419Q', '460S', '492L', '453C', '368R', '531Y', '532W', '460F', '486F', '452Q', '490T', '337G', '491M', '375F', '500K', '330Q', '414M', '451U', '570D', '331V', '501X', '332M', '485D', '533N', '287V', '488J', '449L', '528Q', '291V', '373V', '532E', '407T', '332W', '536J', '447T', '258U', '375Y', '326P', '615M', '446V', '538V', '370Y', '377C', '337K', '445X', '446N', '492Y', '373W', '536Q', ' ', '493F', '500T', '461X', '489V', '450G', '491Q', '412H', '447G', '459H', '497H', '571K', '453H', '571P', '328P', '533J', '288H', '457T', '496C', '489U', '297Q', '657L', '449R', '408W', '299K', '286T', '572U', '580G', '497K', '538G', '575D', '488E', '452L', '330E', '299P', '377A', '250V', '408D', '571S', '486J', '333Q', '373C', '576V', '453L', '248V', '289Y', '408E', '329T', '327A', '374Z', '419S', '576B', '657B', '330J', '535H', '570K', '453N', '573T', '497F', '453K', '298F', '532Y', '460M', '455K', '533A', '329B', '486L', '576L', '369K', '488M', '455A', '334L', '620Q', '286F', '493C', '533R', '415E', '459X', '298S', '371P', '288Y', '620N', '457U', '406T', '492D', '368H', '531P', '289P', '454V', '416L', '534V', '576D', '502T', '616E', '574J', '408V', '618M', '374R', '290B', '416Q', '369Z', '248Z', '337N', '408Y', '413F', '370S']\n",
    "test_keymaps = ['532A', '580P', '412L', '574A', '615D', '331Y', '374Y', '329V', '459Q', '530R', '290U', '493P', '492Q', '329F', '327Q', '415Z', '369U', '571H', '326K', '372C', '528V', '410J', '444T', '331R', '493W', '538R', '489S', '335W', '488Y', '452U', '530B', '528J', '530D', '540D', '620J', '337Q', '339E', '417D', '502S', '411H', '419B', '497L', '500N', '367B', '532T', '410R', '530J', '456Q', '573B', '447F', '413C', '493U', '291K', '496W', '499H', '328Y', '285R', '446T', '616V', '444P', '490K', '577W', '334C', '408Z', '412Y', '570R', '578Y', '491D', '532C', '537K', '532F', '333F', '456C', '381E', '409Y', '377D', '416J', '531Z', '368S', '455U', '329L', '418N', '449W', '617D', '491N', '368D', '371L', '369B', '453M', '492G', '455W', '335Y', '406M', '326N', '412P', '376S', '576A', '448C', '494T', '572K', '368Q', '291F', '446L', '535B', '409D', '413N', '574N', '456Y', '452E', '452A', '369N', '291L', '419E', '538F', '615H', '328R', '540S', '616K', '485H', '576E', '406Z', '333B', '446G', '572Y', '409F', '326D', '414D', '620A', '457S', '410M', '367J', '411N', '459U', '337V', '297Y', '455J', '290L', '529C', '419Y', '531B', '337U', '328K', '492K', '291Y', '534U', '291Q', '460U', '460J', '290A', '488P', '454Q', '537V', '410Y', '293S', '489C', '529U', '572R', '379J', '572N', '446M', '616Z', '409M', '444Z', '486Q', '293U', '332X', '531C', '529Y', '537S', '376L', '327F', '574G', '406X', '492P', '450F', '580R', '581W', '407M', '453B', '492M', '580F', '370F', '486N', '501K', '449V', '495X', '580V', '417V', '527F', '326Z', '541F', '502K', '416K', '286K', '250T', '297T', '534W', '449E', '576M', '291N', '296X', '572W', '368X', '450K', '501M', '532U', '338R', '335X', '457W', '576X', '491C', '412K', '534G', '494V', '488N', '447X', '534Z', '413S', '489H', '250U', '447K', '578K', '412G', '491Z', '408M', '496D', '417S', '577Z', '377Y', '292F', '454J', '486B', '369P', '457Y', '534Q', '534K', '287X', '379P', '371A', '455S', '451T', '460P', '493B', '451H', '326E', '449D', '451R', '572L', '446D', '327S', '571J', '409X', '287L', '486C', '296Z', '537N', '538S', '576Z', '412N', '575Y', '289U', '501Q', '571Y', '413Q', '367H', '535S', '491H', '293X', '541G', '330H', '414K', '495R', '407G', '536W', '456E', '534R', '323X', '488R', '500J', '580N', '494F', '456V', '367N', '533K', '330N', '498L', '450A', '541H', '451P', '414J', '449H', '569G', '619W', '444C', '379W', '328L', '617A', '287J', '493N', '535G', '287S', '332Z', '573P', '457R', '323Y', '410Q', '488K', '495Y', '331D', '326C', '378H', '535M', '536Y', '619H', '577E', '406Q', '572F', '451S', '290R', '619L', '375U', '366L', '371C', '332R', '371Y', '406G', '620L', '540C', '288E', '533D', '570J', '378G', '414N', '576R', '536G', '574F', '339P', '500L', '580T', '575L', '375J', '531H', '529E', '326G', '418T', '501Y', '378S', '408B', '496M']\n",
    "\n",
    "all_keymaps = set(meta['keymap'])\n",
    "x = meta['lat']\n",
    "y = meta['lon']\n",
    "keymap_to_int = {}\n",
    "int_to_keymap = {}\n",
    "l = list(all_keymaps)\n",
    "random.seed(0)\n",
    "random.shuffle(l)\n",
    "for i, key in enumerate(l):\n",
    "    keymap_to_int[key]=i\n",
    "    int_to_keymap[i]=key\n",
    "\n",
    "label = [keymap_to_int[key] for key in meta['keymap']]\n",
    "\n",
    "# old_fast_show_ratio_plot(x,y,label)\n",
    "\n",
    "\n",
    "keymap_indices = []\n",
    "for i in range(len(meta['hcad'])):\n",
    "    keymap_indices.append(keymap_to_int[meta['keymap'][i]])\n",
    "\n",
    "    \n",
    "def mapdict(dictionary):\n",
    "    return lambda x: dictionary[x]\n",
    "train_keymap_nums = set(map(mapdict(keymap_to_int), train_keymaps))\n",
    "test_keymap_nums = set(map(mapdict(keymap_to_int), test_keymaps))\n",
    "\n",
    "is_train_booleans = []\n",
    "for keymap in meta['keymap']:\n",
    "    is_train_booleans.append(keymap_to_int[keymap] in train_keymap_nums)\n",
    "    \n",
    "# old_fast_show_ratio_plot(x, y, is_train_booleans)\n",
    "\n",
    "train_indices = np.where(np.array(is_train_booleans) == 1)[0]\n",
    "test_indices = np.where(np.array(is_train_booleans) == 0)[0]\n",
    "\n",
    "\n",
    "train_indices_randomized = []\n",
    "val_indices_randomized = []\n",
    "\n",
    "def reset_training_index_randomization():\n",
    "    global train_indices_randomized\n",
    "    global val_indices_randomized\n",
    "    train_indices_randomized = []\n",
    "    val_indices_randomized = []\n",
    "    for i in range(len(meta)):\n",
    "        if meta['keymap'][i] in  train_key_set:\n",
    "            train_indices_randomized.append(i)\n",
    "        elif meta['keymap'][i] in val_key_set:\n",
    "            val_indices_randomized.append(i)\n",
    "    random.shuffle(train_indices_randomized)\n",
    "    random.shuffle(val_indices_randomized)\n",
    "    \n",
    "    \n",
    "def get_random_index(val):\n",
    "    if len(val_indices_randomized) == 0 or len(train_indices_randomized) == 0:\n",
    "        reset_training_index_randomization()\n",
    "    if val:\n",
    "        return val_indices_randomized.pop()\n",
    "    else:\n",
    "        return train_indices_randomized.pop()\n",
    "    \n",
    "\n",
    "def get_example_indices(batch_size, val):\n",
    "    i = 0\n",
    "    result = []\n",
    "    while i < batch_size:\n",
    "        index = get_random_index(val)\n",
    "        if random.random() < .725 and y_data['y'][index] == 0:\n",
    "            continue\n",
    "        \n",
    "        result.append(index)\n",
    "        i+=1\n",
    "    return np.array(result)\n",
    "def get_batch(batch_size = 100, randomize = True, start_index = 0, end_index = len(meta)-1, val = False):\n",
    "    metamat = np.zeros([batch_size, image_width, image_width, 3]).astype(float32)\n",
    "    regression_y = np.zeros([batch_size]).astype(float32)\n",
    "    categorical_y = np.zeros([batch_size]).astype(int32)\n",
    "    extra_features = np.zeros([batch_size, wind_data.shape[1] + hcad.shape[1]]).astype(float32)\n",
    "    i = 0\n",
    "    while i < batch_size:\n",
    "\n",
    "        index = (i + start_index)\n",
    "        if randomize:\n",
    "            index = get_random_index(val)\n",
    "                    \n",
    "        lon = [meta['lon'][index]]\n",
    "        lat = [meta['lat'][index]]\n",
    "        max_wind_speed = np.max(wind_data[index])\n",
    "        regression_y[i] = housewise_square_damage_actual[index]\n",
    "        categorical_y[i] = y_data['y'][index]\n",
    "        if randomize:\n",
    "            if random.random() < .725 and categorical_y[i] == 0:\n",
    "                continue\n",
    "\n",
    "        extra_features[i] = np.concatenate([wind_data[index], hcad[index]], axis = 0)\n",
    "\n",
    "        xx, yy = pyproj.transform(wgs84, UTM26N, lon, lat)\n",
    "        housex=xx[0]\n",
    "        housey=yy[0]\n",
    "\n",
    "        lidar = None\n",
    "        try:\n",
    "            lidar = get_heightmap_around(housex, housey, window_width_pixels=image_width)\n",
    "        except:\n",
    "            if randomize:\n",
    "                continue\n",
    "        if(lidar == None):\n",
    "            if randomize:\n",
    "                continue\n",
    "        if lidar != None:\n",
    "            lidar = lidar.copy()\n",
    "            lidar = (lidar - np.mean(lidar)) / 50.0 #/ np.std(lidar.flatten())\n",
    "            lidar[lidar < -50] = -50\n",
    "            lidar = lidar - np.min(lidar)\n",
    "            lidar = lidar  / np.max(lidar)\n",
    "            lidar = lidar * 255\n",
    "            metamat[i, :, :, 0] = lidar\n",
    "            metamat[i, :, :, 1] = lidar\n",
    "            metamat[i, :, :, 2] = lidar\n",
    "\n",
    "\n",
    "        i += 1\n",
    "\n",
    "\n",
    "    return metamat, extra_features, regression_y, np.eye(2)[categorical_y]\n",
    "\n",
    "\n",
    "hcad_numbers = np.array(load_data(\"/home/isaac/Dropbox/data_for_brian/hcad_features/hcad_df_point.hd\", \n",
    "              normalize_columns=False)['index'])"
   ]
  },
  {
   "cell_type": "code",
   "execution_count": 3,
   "metadata": {
    "ExecuteTime": {
     "end_time": "2017-04-03T14:09:55.044124Z",
     "start_time": "2017-04-03T14:09:55.023567"
    },
    "code_folding": [
     3
    ],
    "collapsed": false,
    "deletable": true,
    "editable": true,
    "hide_input": true
   },
   "outputs": [
    {
     "data": {
      "image/png": "[encoded data removed]",
      "text/plain": [
       "<matplotlib.figure.Figure at 0x7fa400d44d50>"
      ]
     },
     "metadata": {},
     "output_type": "display_data"
    },
    {
     "data": {
      "text/plain": [
       "4"
      ]
     },
     "execution_count": 3,
     "metadata": {},
     "output_type": "execute_result"
    }
   ],
   "source": [
    "import sqlite3\n",
    "import io\n",
    "\n",
    "def adapt_array(arr):\n",
    "    \"\"\"\n",
    "    http://stackoverflow.com/a/31312102/190597 (SoulNibbler)\n",
    "    \"\"\"\n",
    "    out = io.BytesIO()\n",
    "    np.save(out, arr)\n",
    "    out.seek(0)\n",
    "    return sqlite3.Binary(out.read())\n",
    "\n",
    "def convert_array(text):\n",
    "    out = io.BytesIO(text)\n",
    "    out.seek(0)\n",
    "    return np.load(out)\n",
    "\n",
    "\n",
    "# Converts np.array to TEXT when inserting\n",
    "sqlite3.register_adapter(np.ndarray, adapt_array)\n",
    "\n",
    "# Converts TEXT to np.array when selecting\n",
    "sqlite3.register_converter(\"array\", convert_array)\n",
    "con = sqlite3.connect(\"vgg_activations.db\", detect_types=sqlite3.PARSE_DECLTYPES)\n",
    "cur = con.cursor()\n",
    "\n",
    "\n",
    "def get_data_batch_from_indices(indices):\n",
    "    indices = sorted(indices)\n",
    "    batch_size = len(indices)\n",
    "    metamat = np.zeros([batch_size, image_width, image_width, 3]).astype(float32)\n",
    "    regression_y = np.zeros([batch_size]).astype(float32)\n",
    "    categorical_y = np.zeros([batch_size]).astype(int32)\n",
    "    extra_features = np.zeros([batch_size, wind_data.shape[1] + hcad.shape[1]]).astype(float32)\n",
    "    i = 0\n",
    "    \n",
    "    for index in indices:\n",
    "        \n",
    "        lon = [meta['lon'][index]]\n",
    "        lat = [meta['lat'][index]]\n",
    "        max_wind_speed = np.max(wind_data[index])\n",
    "        regression_y[i] = housewise_square_damage_actual[index]\n",
    "        categorical_y[i] = y_data['y'][index]\n",
    "        \n",
    "        extra_features[i] = np.concatenate([wind_data[index], hcad[index]], axis = 0)\n",
    "\n",
    "        xx, yy = pyproj.transform(wgs84, UTM26N, lon, lat)\n",
    "        housex=xx[0]\n",
    "        housey=yy[0]\n",
    "\n",
    "        lidar = None\n",
    "        try:\n",
    "            lidar = get_heightmap_around(housex, housey, window_width_pixels=image_width)\n",
    "        except:\n",
    "            pass\n",
    "        if(lidar == None):\n",
    "            pass\n",
    "        if lidar != None:\n",
    "            lidar = lidar.copy()\n",
    "            lidar = (lidar - np.mean(lidar)) / 50.0 #/ np.std(lidar.flatten())\n",
    "            lidar[lidar < -50] = -50\n",
    "            lidar = lidar - np.min(lidar)\n",
    "            lidar = lidar  / np.max(lidar)\n",
    "            lidar = lidar * 255\n",
    "            metamat[i, :, :, 0] = lidar\n",
    "            metamat[i, :, :, 1] = lidar\n",
    "            metamat[i, :, :, 2] = lidar\n",
    "\n",
    "\n",
    "        i += 1\n",
    "\n",
    "\n",
    "    return metamat, extra_features, regression_y, np.eye(2)[categorical_y]\n",
    "\n",
    "\n",
    "def get_activation_data_batch_from_indices(indices, print_timing = False):\n",
    "    indices = sorted(indices)\n",
    "    batch_size = len(indices)\n",
    "    \n",
    "    vgg_activations = np.zeros([batch_size, 25088]).astype(float32)\n",
    "    regression_y = np.zeros([batch_size]).astype(float32)\n",
    "    categorical_y = np.zeros([batch_size]).astype(int32)\n",
    "    extra_features = np.zeros([batch_size, wind_data.shape[1] + hcad.shape[1]]).astype(float32)\n",
    "    command = \"select * from test where hcad in (\" + \", \".join([str(int(hcad_num)) for hcad_num in hcad_numbers[indices]]) + \") order by hcad\"  \n",
    "    t0 = time.time()\n",
    "    cur.execute(command)\n",
    "    t1 = time.time()\n",
    "    if print_timing:\n",
    "        print \"time to execute command\", t1 - t0\n",
    "    i = 0\n",
    "\n",
    "    for index in indices:\n",
    "        lon = [meta['lon'][index]]\n",
    "        lat = [meta['lat'][index]]\n",
    "        max_wind_speed = np.max(wind_data[index])\n",
    "        regression_y[i] = housewise_square_damage_actual[index]\n",
    "        categorical_y[i] = y_data['y'][index]\n",
    "        extra_features[i] = np.concatenate([wind_data[index], hcad[index]], axis = 0)\n",
    "        db_fetch = cur.fetchone()\n",
    "        if db_fetch != None:\n",
    "            this_hcad_number, vgg_activations[i] = db_fetch\n",
    "            if this_hcad_number != int(hcad_numbers[index]):\n",
    "                print \"WARNING: hcad number fetched from databased not the expeected value for index\", index\n",
    "        else:\n",
    "            print \"WARNING: np vgg activation found for index\", index\n",
    "        i+=1\n",
    "\n",
    "    return vgg_activations, extra_features, regression_y, np.eye(2)[categorical_y]\n",
    "\n",
    "\n",
    "# print [int(x) for x in hcad_numbers[indices]]\n",
    "import time\n",
    "n = 256\n",
    "n_time = []\n",
    "for i in range(1,1000, 100):\n",
    "    t0 = time.time()\n",
    "    n = i\n",
    "    get_activation_data_batch_from_indices(np.random.choice(train_indices, n), print_timing = False)\n",
    "    t1 = time.time()\n",
    "    n_time.append((n, t1-t0))\n",
    "n_time = np.array(n_time)\n",
    "plt.scatter(n_time[:, 0], n_time[:, 1])\n",
    "plt.show()\n",
    "\n",
    "2+2"
   ]
  },
  {
   "cell_type": "code",
   "execution_count": 4,
   "metadata": {
    "ExecuteTime": {
     "end_time": "2017-04-03T14:10:05.390327Z",
     "start_time": "2017-04-03T14:10:04.642143"
    },
    "collapsed": false,
    "deletable": true,
    "editable": true
   },
   "outputs": [
    {
     "name": "stdout",
     "output_type": "stream",
     "text": [
      "hdf5 not supported (please install/reinstall h5py)\n"
     ]
    }
   ],
   "source": [
    "import tflearn\n",
    "tf.reset_default_graph()\n",
    "sess = tf.Session()\n",
    "\n",
    "wind_ph = tf.placeholder(tf.float32, [None, wind_data.shape[1] + hcad.shape[1]], name = 'wind_data_placeholder')\n",
    "labels = tf.placeholder(tf.float32, [None, 2], name = 'labels_data_placeholder')\n",
    "vgg_activations_ph = tf.placeholder(tf.float32, [None, 25088], name = 'vgg_placeholders_placeholder')\n",
    "\n",
    "learning_rate_ph = tf.placeholder(tf.float32, [], name = 'alpha')\n",
    "keep_prob_ph = tf.placeholder(tf.float32, [], name = 'keep_prob')\n",
    "# sess.run(tf.variables_initializer([vgg.regress_w, vgg.regress_b]))\n",
    "\n",
    "temp = set(tf.global_variables())\n",
    "network = tflearn.layers.conv.conv_2d(tf.reshape(vgg_activations_ph, [-1, 7,7,512]), 64, 3, strides = 1, activation = 'relu', \n",
    "                                      name = 'tflearn_conv_layer')\n",
    "network = tf.nn.dropout(network, keep_prob_ph)\n",
    "network = tflearn.layers.fully_connected(network, 32, activation = 'relu', \n",
    "                                         name = 'tflearn_layer1')\n",
    "network = tf.nn.dropout(network, keep_prob_ph)\n",
    "network = tf.concat(1, [network, wind_ph])\n",
    "# network = tflearn.layers.fully_connected(network, 64, activation = 'relu', \n",
    "#                                          name = 'tflearn_layer2')\n",
    "# network = tf.nn.dropout(network, keep_prob_ph)\n",
    "network = tflearn.layers.fully_connected(network, 32, activation = 'relu', \n",
    "                                         name = 'tflearn_layer3')\n",
    "network = tf.nn.dropout(network, keep_prob_ph)\n",
    "\n",
    "network = tflearn.layers.fully_connected(network, 2, activation = 'linear', \n",
    "                                         name = 'tflearn_layer4')\n",
    "trainables = list(set(tf.global_variables()) - temp)\n",
    "sess.run(tf.variables_initializer(trainables))\n",
    "\n",
    "regression_output = network\n",
    "pred_probabilities = tf.nn.softmax(regression_output)\n",
    "crossentropy = tf.reduce_mean(tf.nn.softmax_cross_entropy_with_logits(regression_output, labels, name=\"crossentropy\"))\n",
    "accuracy = tf.reduce_mean(tf.cast(tf.equal(tf.argmax(regression_output,1),tf.argmax(labels,1)), tf.float32))\n",
    "\n",
    "# l2_loss = \n",
    "loss = crossentropy \n",
    "\n",
    "temp = set(tf.global_variables())\n",
    "saver = tf.train.Saver(tf.global_variables())\n",
    "optimizer = tf.train.AdamOptimizer(learning_rate=learning_rate_ph).minimize(loss, \n",
    "                        var_list = trainables)\n",
    "#I honestly don't know how else to initialize ADAM in TensorFlow.\n",
    "sess.run(tf.variables_initializer(set(tf.global_variables()) - temp))\n",
    "\n"
   ]
  },
  {
   "cell_type": "code",
   "execution_count": 5,
   "metadata": {
    "ExecuteTime": {
     "end_time": "2017-04-03T14:10:06.531101Z",
     "start_time": "2017-04-03T14:10:06.529226"
    },
    "collapsed": false,
    "deletable": true,
    "editable": true
   },
   "outputs": [],
   "source": [
    "loss_record = []\n",
    "accuracy_record = []\n",
    "naive_accuracy_record = []\n",
    "val_accuracy_record = []\n",
    "val_naive_accuracy_record = []\n",
    "val_loss_record = []"
   ]
  },
  {
   "cell_type": "code",
   "execution_count": null,
   "metadata": {
    "collapsed": true,
    "deletable": true,
    "editable": true
   },
   "outputs": [],
   "source": [
    "eoc_record = []"
   ]
  },
  {
   "cell_type": "code",
   "execution_count": 7,
   "metadata": {
    "collapsed": false,
    "deletable": true,
    "editable": true
   },
   "outputs": [
    {
     "data": {
      "text/plain": [
       "5"
      ]
     },
     "execution_count": 7,
     "metadata": {},
     "output_type": "execute_result"
    }
   ],
   "source": [
    "get_activation_data_batch_from_indices(get_example_indices(256, False))   \n",
    "5"
   ]
  },
  {
   "cell_type": "code",
   "execution_count": 8,
   "metadata": {
    "collapsed": false,
    "deletable": true,
    "editable": true
   },
   "outputs": [
    {
     "name": "stdout",
     "output_type": "stream",
     "text": [
      "full request 0.00258418358862\n",
      "just db access 0.00233744923025\n"
     ]
    }
   ],
   "source": [
    "import time\n",
    "n = 256\n",
    "t0 = time.time()\n",
    "vgg_activation, wind, _, Y = get_activation_data_batch_from_indices(get_example_indices(n, False))   \n",
    "\n",
    "t1 = time.time()\n",
    "\n",
    "total = t1-t0\n",
    "print \"full request\", total / n\n",
    "\n",
    "\n",
    "t0 = time.time()\n",
    "command = \"select * from test where hcad in (\" + \", \".join([str(int(hcad_num)) for hcad_num in hcad_numbers[get_example_indices(n, False)]]) + \") order by hcad\"  \n",
    "cur.execute(command)\n",
    "t1 = time.time()\n",
    "\n",
    "total = t1-t0\n",
    "print \"just db access\", total /n"
   ]
  },
  {
   "cell_type": "markdown",
   "metadata": {
    "deletable": true,
    "editable": true
   },
   "source": [
    "## train model"
   ]
  },
  {
   "cell_type": "code",
   "execution_count": null,
   "metadata": {
    "ExecuteTime": {
     "end_time": "2017-04-03T14:48:00.318843Z",
     "start_time": "2017-04-03T14:43:18.276128"
    },
    "collapsed": false,
    "deletable": true,
    "editable": true,
    "scrolled": false
   },
   "outputs": [
    {
     "name": "stderr",
     "output_type": "stream",
     "text": [
      "/usr/local/lib/python2.7/dist-packages/ipykernel/__main__.py:124: FutureWarning: comparison to `None` will result in an elementwise object comparison in the future.\n",
      "/usr/local/lib/python2.7/dist-packages/ipykernel/__main__.py:127: FutureWarning: comparison to `None` will result in an elementwise object comparison in the future.\n"
     ]
    }
   ],
   "source": [
    "from IPython.display import clear_output\n",
    "import seaborn as sns\n",
    "import time\n",
    "\n",
    "def smooth(x, n=35):\n",
    "    if n==1:\n",
    "        return np.array(x)\n",
    "    return np.convolve(np.ones(n, dtype = np.float32) / n, x)[n:-n]\n",
    "prob_val = 1234\n",
    "X, wind, _, Y = get_batch(64)   \n",
    "\n",
    "for _ in range(10000):\n",
    "    t0 = time.time()\n",
    "\n",
    "    for i in range(15):\n",
    "        vgg_activation, wind, _, Y = get_activation_data_batch_from_indices(get_example_indices(128, False))   \n",
    "#         print \"vgg act shape\", vgg_activation.shape\n",
    "        \n",
    "        loss_val, accuracy_val, _, prob_val = sess.run([loss, accuracy, optimizer, pred_probabilities], \n",
    "                                   feed_dict={vgg_activations_ph: vgg_activation, labels: Y, wind_ph: wind, \n",
    "                                                learning_rate_ph:.0005\n",
    "                                              , keep_prob_ph:.7\n",
    "                                             })\n",
    "        loss_record.append(loss_val)\n",
    "        accuracy_record.append(accuracy_val)\n",
    "        naive_accuracy_record.append(np.mean(Y[:,0]))\n",
    "    \n",
    "    t1 = time.time()\n",
    "\n",
    "    total = t1-t0\n",
    "\n",
    "\n",
    "#         print test\n",
    "#     if i % 100==0:\n",
    "#         saver.save(sess, \"VGG_storm_model_1_\", global_step = i)\n",
    "    clear_output()\n",
    "\n",
    "    t0 = time.time()\n",
    "    vgg_activation, wind, _, Y = get_activation_data_batch_from_indices(get_example_indices(256, True))   \n",
    "    t1 = time.time()\n",
    "    print t1-t0, \"seconds to get a batch\"\n",
    "    t0 = time.time()\n",
    "    loss_val, accuracy_val, prob_val = sess.run([loss, accuracy, pred_probabilities], \n",
    "                               feed_dict={vgg_activations_ph: vgg_activation, labels: Y, wind_ph: wind, \n",
    "                                          keep_prob_ph:1\n",
    "                                         })\n",
    "    eoc_record.append(sklearn.metrics.roc_auc_score(Y[:,1], prob_val[:,1], average='macro', sample_weight=None))\n",
    "    t1 = time.time()\n",
    "    print t1-t0, \"seconds to infer a batch\"\n",
    "    val_loss_record.append(loss_val)\n",
    "    val_accuracy_record.append(accuracy_val)\n",
    "    val_naive_accuracy_record.append(np.mean(Y[:,0]))\n",
    "    plt.hist(prob_val[:,1])\n",
    "    plt.show()\n",
    "    \n",
    "    \n",
    "    print total, \"seconds for 10 batches\"\n",
    "    print prob_val[:20]\n",
    "    plt.plot(smooth(val_loss_record, n=5))\n",
    "    plt.show()\n",
    "    plt.plot(smooth(loss_record))\n",
    "    plt.show()\n",
    "#     plt.plot(smooth(accuracy_record))\n",
    "#     plt.plot(smooth(naive_accuracy_record))\n",
    "#     plt.show()\n",
    "    \n",
    "    plt.plot(smooth(accuracy_record, n=1) - smooth(naive_accuracy_record,n=1))\n",
    "#     plt.show()\n",
    "    \n",
    "    plt.plot(smooth(val_accuracy_record, n=3) - smooth(val_naive_accuracy_record, n=3))\n",
    "    plt.show()\n",
    "    \n",
    "    plt.plot(smooth(val_accuracy_record, n=3) - smooth(val_naive_accuracy_record, n=3))\n",
    "    plt.show()\n",
    "    plt.plot(eoc_record)\n",
    "    plt.title(\"validation AUC\")\n",
    "    plt.show()\n"
   ]
  },
  {
   "cell_type": "code",
   "execution_count": null,
   "metadata": {
    "collapsed": false,
    "deletable": true,
    "editable": true
   },
   "outputs": [],
   "source": [
    "# temp = set(tf.global_variables())\n",
    "# saver = tf.train.Saver(tf.global_variables())\n",
    "# trainables = list(set(tf.global_variables()) - temp)\n",
    "# sess.run(tf.variables_initializer(trainables))\n",
    "# saver.save(sess, \"basic_MLP_with_VGG_not_chached\")"
   ]
  },
  {
   "cell_type": "code",
   "execution_count": null,
   "metadata": {
    "ExecuteTime": {
     "end_time": "2017-04-03T14:08:21.310172Z",
     "start_time": "2017-04-03T14:07:39.097150"
    },
    "collapsed": false,
    "deletable": true,
    "editable": true
   },
   "outputs": [],
   "source": [
    "accuracy_vals_regular = []\n",
    "accuracy_vals_no_image = []\n",
    "accuracy_vals_no_wind = []\n",
    "accuracy_vals_no_input= []\n",
    "\n",
    "for i in range(25):\n",
    "    print i,\n",
    "    X, wind, _, Y = get_batch(64, val = True)   \n",
    "    no_X = np.array([np.mean(X, axis=0)] * len(X))\n",
    "    no_wind = np.array([np.mean(wind, axis=0)] * len(wind))\n",
    "    \n",
    "    loss_val, accuracy_val, prob_val = sess.run([loss, accuracy, pred_probabilities], \n",
    "                                   feed_dict={vgg.imgs: X, labels: Y, wind_ph: wind, keep_prob_ph:1.0\n",
    "                                             })\n",
    "    accuracy_vals_regular.append(accuracy_val)\n",
    "\n",
    "\n",
    "\n",
    "    loss_val, accuracy_val, prob_val = sess.run([loss, accuracy, pred_probabilities], \n",
    "                                   feed_dict={vgg.imgs: no_X, labels: Y, wind_ph: wind, keep_prob_ph:1.0\n",
    "                                             })\n",
    "    accuracy_vals_no_image.append(accuracy_val)\n",
    "    \n",
    "    \n",
    "    \n",
    "    loss_val, accuracy_val, prob_val = sess.run([loss, accuracy, pred_probabilities], \n",
    "                                   feed_dict={vgg.imgs: X, labels: Y, wind_ph: no_wind, keep_prob_ph:1.0\n",
    "                                             })\n",
    "    accuracy_vals_no_wind.append(accuracy_val)\n",
    "    \n",
    "    \n",
    "    loss_val, accuracy_val, prob_val = sess.run([loss, accuracy, pred_probabilities], \n",
    "                                   feed_dict={vgg.imgs: no_X, labels: Y, wind_ph: no_wind, keep_prob_ph:1.0\n",
    "                                             })\n",
    "    accuracy_vals_no_input.append(accuracy_val)\n",
    "\n",
    "\n",
    "print \"\"\n",
    "print \"regular\", np.mean(accuracy_vals_regular)\n",
    "print \"no image\", np.mean(accuracy_vals_no_image)\n",
    "print \"no wind\", np.mean(accuracy_vals_no_wind)\n",
    "print \"no input\", np.mean(accuracy_vals_no_input)"
   ]
  },
  {
   "cell_type": "code",
   "execution_count": null,
   "metadata": {
    "collapsed": false,
    "deletable": true,
    "editable": true,
    "scrolled": false
   },
   "outputs": [],
   "source": [
    "housewise_max_speed = np.amax(wind_data, axis = 1)\n",
    "# plt.hist(housewise_max_speed)\n",
    "# plt.show()\n",
    "\n",
    "# plt.hist(housewise_max_speed[y_data['y'] == 1])\n",
    "# plt.show()\n",
    "\n",
    "# plt.hist(housewise_max_speed[y_data['y'] == 0])\n",
    "# plt.show()\n",
    "print np.mean(y_data['y'])\n",
    "n = 1000\n",
    "p_damage = []\n",
    "sizes = []\n",
    "for i in range(int(.6 * n), n):\n",
    "    low = (1.0 * i/n)\n",
    "    high = ((1.0 * i+1)/n)\n",
    "    p_damage.append(np.mean(y_data['y'][np.less(housewise_max_speed, high) * np.greater(housewise_max_speed, low) == 1]))\n",
    "    sizes.append(np.sum(np.less(housewise_max_speed, high) * np.greater(housewise_max_speed, low)))\n",
    "plt.plot(p_damage)\n",
    "plt.show()\n",
    "\n",
    "plt.plot(sizes)\n",
    "plt.show()"
   ]
  },
  {
   "cell_type": "code",
   "execution_count": null,
   "metadata": {
    "collapsed": false,
    "deletable": true,
    "editable": true
   },
   "outputs": [],
   "source": [
    "print hcad.shape"
   ]
  },
  {
   "cell_type": "code",
   "execution_count": 74,
   "metadata": {
    "collapsed": false,
    "deletable": true,
    "editable": true
   },
   "outputs": [
    {
     "name": "stdout",
     "output_type": "stream",
     "text": [
      "0\n",
      "[array([ 0.40013215,  0.59986788], dtype=float32), array([ 0.45203811,  0.54796189], dtype=float32), array([ 0.45994207,  0.54005796], dtype=float32), array([ 0.50384128,  0.49615872], dtype=float32), array([ 0.56024146,  0.43975854], dtype=float32), array([ 0.4128921,  0.5871079], dtype=float32), array([ 0.55782872,  0.44217125], dtype=float32), array([ 0.48119533,  0.51880467], dtype=float32), array([ 0.48547065,  0.51452935], dtype=float32), array([ 0.36553109,  0.63446891], dtype=float32)]\n"
     ]
    }
   ],
   "source": [
    "print len(test_indices)-  len(all_test_scores)\n",
    "min(batch_size, len(test_indices)-i)\n",
    "print all_test_scores[:10]"
   ]
  },
  {
   "cell_type": "code",
   "execution_count": null,
   "metadata": {
    "collapsed": true,
    "deletable": true,
    "editable": true
   },
   "outputs": [],
   "source": []
  },
  {
   "cell_type": "markdown",
   "metadata": {
    "deletable": true,
    "editable": true
   },
   "source": [
    "## evaluate test set AUC"
   ]
  },
  {
   "cell_type": "code",
   "execution_count": 23,
   "metadata": {
    "ExecuteTime": {
     "end_time": "2017-04-03T14:30:19.906723Z",
     "start_time": "2017-04-03T14:26:48.270781"
    },
    "collapsed": false,
    "deletable": true,
    "editable": true
   },
   "outputs": [],
   "source": [
    "\n",
    "batch_size = 256\n",
    "all_test_scores = []\n",
    "all_y_trues = []\n",
    "randomized_test_indices = test_indices[:].copy()\n",
    "# random.seed(0)\n",
    "# random.shuffle(randomized_test_indices)\n",
    "\n",
    "\n",
    "i=0"
   ]
  },
  {
   "cell_type": "code",
   "execution_count": 73,
   "metadata": {
    "collapsed": false,
    "deletable": true,
    "editable": true
   },
   "outputs": [
    {
     "name": "stdout",
     "output_type": "stream",
     "text": [
      "WARNING: hcad number fetched from databased not the expeected value for index 870401\n",
      "WARNING: hcad number fetched from databased not the expeected value for index 870402\n",
      "WARNING: hcad number fetched from databased not the expeected value for index 870403\n",
      "WARNING: hcad number fetched from databased not the expeected value for index 870404\n",
      "WARNING: hcad number fetched from databased not the expeected value for index 870405\n",
      "WARNING: hcad number fetched from databased not the expeected value for index 870406\n",
      "WARNING: hcad number fetched from databased not the expeected value for index 870407\n",
      "WARNING: hcad number fetched from databased not the expeected value for index 870408\n",
      "WARNING: hcad number fetched from databased not the expeected value for index 870444\n",
      "WARNING: hcad number fetched from databased not the expeected value for index 870445\n",
      "WARNING: hcad number fetched from databased not the expeected value for index 870446\n",
      "WARNING: hcad number fetched from databased not the expeected value for index 870447\n",
      "WARNING: hcad number fetched from databased not the expeected value for index 870448\n",
      "WARNING: hcad number fetched from databased not the expeected value for index 870449\n",
      "WARNING: hcad number fetched from databased not the expeected value for index 870457\n",
      "WARNING: hcad number fetched from databased not the expeected value for index 870458\n",
      "WARNING: hcad number fetched from databased not the expeected value for index 870459\n",
      "WARNING: hcad number fetched from databased not the expeected value for index 870460\n"
     ]
    }
   ],
   "source": [
    "\n",
    "\n",
    "while i < len(test_indices):\n",
    "    if random.random()>.8:\n",
    "        clear_output()\n",
    "        print float(i)/len(test_indices)\n",
    "        print len(all_test_scores)\n",
    "        \n",
    "    start_index = i\n",
    "    num_to_read = min(batch_size, len(test_indices)-i)\n",
    "    if (num_to_read < batch_size):\n",
    "        num_to_read = 1\n",
    "    indices_to_use = sorted(randomized_test_indices[start_index:start_index+batch_size])\n",
    "    batch_test_indices = indices_to_use\n",
    "    vgg_activation, wind, _, Y = get_activation_data_batch_from_indices(batch_test_indices)   \n",
    "\n",
    "    prob_val = sess.run(pred_probabilities, \n",
    "                                              feed_dict={vgg_activations_ph: vgg_activation, wind_ph: wind, \n",
    "                                                            keep_prob_ph:1.0\n",
    "                                             })\n",
    "    all_test_scores.extend(list(prob_val))\n",
    "    all_y_trues.extend(y_data['y'][indices_to_use])\n",
    "    i += len(list(prob_val))\n",
    "    "
   ]
  },
  {
   "cell_type": "code",
   "execution_count": 72,
   "metadata": {
    "collapsed": false,
    "deletable": true,
    "editable": true
   },
   "outputs": [
    {
     "name": "stdout",
     "output_type": "stream",
     "text": [
      "WARNING: hcad number fetched from databased not the expeected value for index 870401\n",
      "WARNING: hcad number fetched from databased not the expeected value for index 870402\n",
      "WARNING: hcad number fetched from databased not the expeected value for index 870403\n",
      "WARNING: hcad number fetched from databased not the expeected value for index 870404\n",
      "WARNING: hcad number fetched from databased not the expeected value for index 870405\n",
      "WARNING: hcad number fetched from databased not the expeected value for index 870406\n",
      "WARNING: hcad number fetched from databased not the expeected value for index 870407\n",
      "WARNING: hcad number fetched from databased not the expeected value for index 870408\n",
      "WARNING: hcad number fetched from databased not the expeected value for index 870444\n",
      "WARNING: hcad number fetched from databased not the expeected value for index 870445\n",
      "WARNING: hcad number fetched from databased not the expeected value for index 870446\n",
      "WARNING: hcad number fetched from databased not the expeected value for index 870447\n",
      "WARNING: hcad number fetched from databased not the expeected value for index 870448\n",
      "WARNING: hcad number fetched from databased not the expeected value for index 870449\n",
      "WARNING: hcad number fetched from databased not the expeected value for index 870457\n",
      "WARNING: hcad number fetched from databased not the expeected value for index 870458\n",
      "WARNING: hcad number fetched from databased not the expeected value for index 870459\n",
      "WARNING: hcad number fetched from databased not the expeected value for index 870460\n"
     ]
    }
   ],
   "source": [
    "vgg_activation, wind, _, Y = get_activation_data_batch_from_indices(test_indices[-50:])   "
   ]
  },
  {
   "cell_type": "code",
   "execution_count": 75,
   "metadata": {
    "collapsed": false,
    "deletable": true,
    "editable": true
   },
   "outputs": [
    {
     "name": "stdout",
     "output_type": "stream",
     "text": [
      "[  1.30106002e+12   1.30106002e+12   1.30193001e+12   1.93800380e+12\n",
      "   1.93800380e+12]\n",
      "[870449 870457 870458 870459 870460]\n",
      "1938003804014\n"
     ]
    }
   ],
   "source": [
    "print hcad_numbers[-5:]\n",
    "print test_indices[-5:]\n",
    "print int(max(hcad_numbers))\n"
   ]
  },
  {
   "cell_type": "code",
   "execution_count": 42,
   "metadata": {
    "collapsed": false,
    "deletable": true,
    "editable": true
   },
   "outputs": [],
   "source": [
    "all_test_scores = all_test_scores[:-1]\n"
   ]
  },
  {
   "cell_type": "code",
   "execution_count": 78,
   "metadata": {
    "collapsed": false,
    "deletable": true,
    "editable": true
   },
   "outputs": [
    {
     "name": "stdout",
     "output_type": "stream",
     "text": [
      "[[ 0.40013215  0.59986788]\n",
      " [ 0.45203811  0.54796189]\n",
      " [ 0.45994207  0.54005796]\n",
      " ..., \n",
      " [ 0.63280177  0.36719826]\n",
      " [ 0.68326694  0.31673312]\n",
      " [ 0.56985044  0.4301495 ]]\n",
      "[ 0.54637307  0.45362654]\n"
     ]
    }
   ],
   "source": [
    "damage_probability_array = np.array(all_test_scores)\n",
    "print damage_probability_array\n",
    "print np.mean(damage_probability_array, axis=0)\n",
    "with open(\"housewise_predicted_p_damage_test_set.p\", \"wb\") as output_file:\n",
    "    pickle.dump(list(damage_probability_array[:,1]), output_file)"
   ]
  },
  {
   "cell_type": "code",
   "execution_count": 81,
   "metadata": {
    "ExecuteTime": {
     "end_time": "2017-04-03T14:30:31.327786Z",
     "start_time": "2017-04-03T14:30:31.310068"
    },
    "collapsed": false,
    "deletable": true,
    "editable": true
   },
   "outputs": [
    {
     "name": "stdout",
     "output_type": "stream",
     "text": [
      "[ 0.59986788  0.54796189  0.54005796 ...,  0.36719826  0.31673312\n",
      "  0.4301495 ]\n"
     ]
    },
    {
     "data": {
      "text/plain": [
       "0.69346712632544372"
      ]
     },
     "execution_count": 81,
     "metadata": {},
     "output_type": "execute_result"
    }
   ],
   "source": [
    "y_true = np.array(all_y_trues)\n",
    "y_score = np.array(all_test_scores)[:len(all_test_scores)][:,1]\n",
    "print y_score\n",
    "sklearn.metrics.roc_auc_score(y_true, y_score, average='macro', sample_weight=None)"
   ]
  },
  {
   "cell_type": "code",
   "execution_count": 92,
   "metadata": {
    "collapsed": false,
    "deletable": true,
    "editable": true
   },
   "outputs": [
    {
     "name": "stdout",
     "output_type": "stream",
     "text": [
      "0.623046875\n"
     ]
    }
   ],
   "source": [
    "print np.mean(np.round(y_score)== y_true)"
   ]
  },
  {
   "cell_type": "markdown",
   "metadata": {
    "deletable": true,
    "editable": true
   },
   "source": [
    "## acid test"
   ]
  },
  {
   "cell_type": "code",
   "execution_count": 50,
   "metadata": {
    "collapsed": false,
    "deletable": true,
    "editable": true,
    "scrolled": false
   },
   "outputs": [
    {
     "data": {
      "image/png": "[encoded data removed]",
      "text/plain": [
       "<matplotlib.figure.Figure at 0x7f187c6ae8d0>"
      ]
     },
     "metadata": {},
     "output_type": "display_data"
    },
    {
     "name": "stdout",
     "output_type": "stream",
     "text": [
      "[[ 0.60572988  0.39427006]\n",
      " [ 0.54225487  0.45774516]\n",
      " [ 0.28747898  0.71252102]\n",
      " [ 0.40526304  0.59473699]\n",
      " [ 0.49436137  0.50563866]\n",
      " [ 0.41863105  0.58136898]\n",
      " [ 0.42071164  0.5792883 ]\n",
      " [ 0.43198135  0.56801862]\n",
      " [ 0.38633782  0.61366218]\n",
      " [ 0.46228975  0.53771025]]\n",
      "[[ 0.53853661  0.46146345]\n",
      " [ 0.52862108  0.47137886]\n",
      " [ 0.34957626  0.65042377]\n",
      " [ 0.43095702  0.56904304]\n",
      " [ 0.49988738  0.50011253]\n",
      " [ 0.43053424  0.5694657 ]\n",
      " [ 0.45165026  0.54834974]\n",
      " [ 0.48386386  0.51613617]\n",
      " [ 0.41616499  0.58383501]\n",
      " [ 0.47100604  0.5289939 ]]\n",
      "[[ 0.93213892  0.06786111]\n",
      " [ 0.93830627  0.06169378]\n",
      " [ 0.88941449  0.11058554]\n",
      " [ 0.92849129  0.07150864]\n",
      " [ 0.94440782  0.05559219]\n",
      " [ 0.93093997  0.06906005]\n",
      " [ 0.94330156  0.05669847]\n",
      " [ 0.94674921  0.05325076]\n",
      " [ 0.92881525  0.07118469]\n",
      " [ 0.94324976  0.05675021]]\n"
     ]
    }
   ],
   "source": [
    "def sigmoid(x):\n",
    "  return 1 / (1 + np.exp(-x))\n",
    "indices_to_use = sorted(randomized_test_indices)\n",
    "random.shuffle(indices_to_use)\n",
    "batch_test_indices = indices_to_use[:256]\n",
    "\n",
    "vgg_activation, wind, _, Y = get_activation_data_batch_from_indices(batch_test_indices)   \n",
    "# extra_features[i] = np.concatenate([wind_data[index], hcad[index]], axis = 0)\n",
    "plt.hist(wind[:len(wind_data[0])].flatten())\n",
    "plt.show()\n",
    "# print wind[:10]\n",
    "prob_val = sess.run(pred_probabilities, \n",
    "                                          feed_dict={vgg_activations_ph: vgg_activation, wind_ph: wind, \n",
    "                                                        keep_prob_ph:1.0})\n",
    "print prob_val[:10]\n",
    "wind[:len(wind_data[0])] /= 2\n",
    "# wind[:len(wind_data[0])] = sigmoid(wind[:len(wind_data[0])])\n",
    "prob_val = sess.run(pred_probabilities, \n",
    "                                          feed_dict={vgg_activations_ph: vgg_activation, wind_ph: wind, \n",
    "                                                        keep_prob_ph:1.0})\n",
    "print prob_val[:10]\n",
    "wind[:len(wind_data[0])] = 1\n",
    "prob_val = sess.run(pred_probabilities, \n",
    "                                          feed_dict={vgg_activations_ph: vgg_activation, wind_ph: wind, \n",
    "                                                        keep_prob_ph:1.0})\n",
    "\n",
    "print prob_val[:10]"
   ]
  },
  {
   "cell_type": "code",
   "execution_count": 80,
   "metadata": {
    "collapsed": false,
    "deletable": true,
    "editable": true
   },
   "outputs": [
    {
     "name": "stdout",
     "output_type": "stream",
     "text": [
      "loading...\n",
      "Opening /home/isaac/Dropbox/data_for_brian/wind_features/hcad_interp_withoutpartial_rad100_hist8x8.mat.hd in read-only mode\n"
     ]
    },
    {
     "data": {
      "text/plain": [
       "Index([u'hist0', u'hist1', u'hist10', u'hist11', u'hist12', u'hist13', u'hist14', u'hist15', u'hist16', u'hist17', u'hist18', u'hist19', u'hist2', u'hist20', u'hist21', u'hist22', u'hist23', u'hist24', u'hist25', u'hist26', u'hist27', u'hist28', u'hist29', u'hist3', u'hist30', u'hist31', u'hist32', u'hist33', u'hist34', u'hist35', u'hist36', u'hist37', u'hist38', u'hist39', u'hist4', u'hist40', u'hist41', u'hist42', u'hist43', u'hist44', u'hist45', u'hist46', u'hist47', u'hist48', u'hist49', u'hist5', u'hist50', u'hist51', u'hist52', u'hist53', u'hist54', u'hist55', u'hist56', u'hist57', u'hist58', u'hist59', u'hist6', u'hist60', u'hist61', u'hist62', u'hist63', u'hist7', u'hist8', u'hist9', u'index', u'intp_dir0', u'intp_dir1', u'intp_dir10', u'intp_dir2', u'intp_dir3', u'intp_dir4', u'intp_dir5', u'intp_dir6', u'intp_dir7', u'intp_dir8', u'intp_dir9', u'intp_spd0', u'intp_spd1', u'intp_spd10', u'intp_spd2', u'intp_spd3', u'intp_spd4', u'intp_spd5', u'intp_spd6', u'intp_spd7', u'intp_spd8', u'intp_spd9', u'lat', u'lon'], dtype='object')"
      ]
     },
     "execution_count": 80,
     "metadata": {},
     "output_type": "execute_result"
    }
   ],
   "source": [
    "load_data(\"/home/isaac/Dropbox/data_for_brian/wind_features/hcad_interp_withoutpartial_rad100_hist8x8.mat.hd\", \n",
    "              normalize_columns=True).columns"
   ]
  },
  {
   "cell_type": "markdown",
   "metadata": {
    "collapsed": true,
    "deletable": true,
    "editable": true
   },
   "source": [
    "## get all p damage for the entire data set"
   ]
  },
  {
   "cell_type": "code",
   "execution_count": 84,
   "metadata": {
    "collapsed": true,
    "deletable": true,
    "editable": true
   },
   "outputs": [],
   "source": [
    "\n",
    "batch_size = 256\n",
    "all_p_scores = []\n",
    "all_y_trues = []\n",
    "\n",
    "\n",
    "i=0"
   ]
  },
  {
   "cell_type": "code",
   "execution_count": 85,
   "metadata": {
    "collapsed": false,
    "deletable": true,
    "editable": true
   },
   "outputs": [
    {
     "name": "stdout",
     "output_type": "stream",
     "text": [
      "0.999912691447\n",
      "WARNING: hcad number fetched from databased not the expeected value for index 870401\n",
      "WARNING: hcad number fetched from databased not the expeected value for index 870402\n",
      "WARNING: hcad number fetched from databased not the expeected value for index 870403\n",
      "WARNING: hcad number fetched from databased not the expeected value for index 870404\n",
      "WARNING: hcad number fetched from databased not the expeected value for index 870405\n",
      "WARNING: hcad number fetched from databased not the expeected value for index 870406\n",
      "WARNING: hcad number fetched from databased not the expeected value for index 870407\n",
      "WARNING: hcad number fetched from databased not the expeected value for index 870408\n",
      "WARNING: hcad number fetched from databased not the expeected value for index 870409\n",
      "WARNING: hcad number fetched from databased not the expeected value for index 870410\n",
      "WARNING: hcad number fetched from databased not the expeected value for index 870411\n",
      "WARNING: hcad number fetched from databased not the expeected value for index 870412\n",
      "WARNING: hcad number fetched from databased not the expeected value for index 870413\n",
      "WARNING: hcad number fetched from databased not the expeected value for index 870414\n",
      "WARNING: hcad number fetched from databased not the expeected value for index 870415\n",
      "WARNING: hcad number fetched from databased not the expeected value for index 870416\n",
      "WARNING: hcad number fetched from databased not the expeected value for index 870417\n",
      "WARNING: hcad number fetched from databased not the expeected value for index 870418\n",
      "WARNING: hcad number fetched from databased not the expeected value for index 870419\n",
      "WARNING: hcad number fetched from databased not the expeected value for index 870420\n",
      "WARNING: hcad number fetched from databased not the expeected value for index 870421\n",
      "WARNING: hcad number fetched from databased not the expeected value for index 870422\n",
      "WARNING: hcad number fetched from databased not the expeected value for index 870423\n",
      "WARNING: hcad number fetched from databased not the expeected value for index 870424\n",
      "WARNING: hcad number fetched from databased not the expeected value for index 870425\n",
      "WARNING: hcad number fetched from databased not the expeected value for index 870426\n",
      "WARNING: hcad number fetched from databased not the expeected value for index 870427\n",
      "WARNING: hcad number fetched from databased not the expeected value for index 870428\n",
      "WARNING: hcad number fetched from databased not the expeected value for index 870429\n",
      "WARNING: hcad number fetched from databased not the expeected value for index 870430\n",
      "WARNING: hcad number fetched from databased not the expeected value for index 870431\n",
      "WARNING: hcad number fetched from databased not the expeected value for index 870432\n",
      "WARNING: hcad number fetched from databased not the expeected value for index 870433\n",
      "WARNING: hcad number fetched from databased not the expeected value for index 870434\n",
      "WARNING: hcad number fetched from databased not the expeected value for index 870435\n",
      "WARNING: hcad number fetched from databased not the expeected value for index 870436\n",
      "WARNING: hcad number fetched from databased not the expeected value for index 870437\n",
      "WARNING: hcad number fetched from databased not the expeected value for index 870438\n",
      "WARNING: hcad number fetched from databased not the expeected value for index 870439\n",
      "WARNING: hcad number fetched from databased not the expeected value for index 870440\n",
      "WARNING: hcad number fetched from databased not the expeected value for index 870441\n",
      "WARNING: hcad number fetched from databased not the expeected value for index 870442\n",
      "WARNING: hcad number fetched from databased not the expeected value for index 870443\n",
      "WARNING: hcad number fetched from databased not the expeected value for index 870444\n",
      "WARNING: hcad number fetched from databased not the expeected value for index 870445\n",
      "WARNING: hcad number fetched from databased not the expeected value for index 870446\n",
      "WARNING: hcad number fetched from databased not the expeected value for index 870447\n",
      "WARNING: hcad number fetched from databased not the expeected value for index 870448\n",
      "WARNING: hcad number fetched from databased not the expeected value for index 870449\n",
      "WARNING: hcad number fetched from databased not the expeected value for index 870450\n",
      "WARNING: hcad number fetched from databased not the expeected value for index 870451\n",
      "WARNING: hcad number fetched from databased not the expeected value for index 870452\n",
      "WARNING: hcad number fetched from databased not the expeected value for index 870453\n",
      "WARNING: hcad number fetched from databased not the expeected value for index 870454\n",
      "WARNING: hcad number fetched from databased not the expeected value for index 870455\n",
      "WARNING: hcad number fetched from databased not the expeected value for index 870456\n",
      "WARNING: hcad number fetched from databased not the expeected value for index 870457\n",
      "WARNING: hcad number fetched from databased not the expeected value for index 870458\n",
      "WARNING: hcad number fetched from databased not the expeected value for index 870459\n",
      "WARNING: hcad number fetched from databased not the expeected value for index 870460\n",
      "WARNING: hcad number fetched from databased not the expeected value for index 870461\n",
      "WARNING: hcad number fetched from databased not the expeected value for index 870462\n",
      "WARNING: hcad number fetched from databased not the expeected value for index 870463\n",
      "WARNING: hcad number fetched from databased not the expeected value for index 870464\n",
      "WARNING: hcad number fetched from databased not the expeected value for index 870465\n",
      "WARNING: hcad number fetched from databased not the expeected value for index 870466\n",
      "WARNING: hcad number fetched from databased not the expeected value for index 870467\n",
      "WARNING: hcad number fetched from databased not the expeected value for index 870468\n",
      "WARNING: hcad number fetched from databased not the expeected value for index 870469\n",
      "WARNING: hcad number fetched from databased not the expeected value for index 870470\n",
      "WARNING: hcad number fetched from databased not the expeected value for index 870471\n",
      "WARNING: hcad number fetched from databased not the expeected value for index 870472\n",
      "WARNING: hcad number fetched from databased not the expeected value for index 870473\n",
      "WARNING: hcad number fetched from databased not the expeected value for index 870474\n",
      "WARNING: hcad number fetched from databased not the expeected value for index 870475\n"
     ]
    }
   ],
   "source": [
    "\n",
    "\n",
    "while i < len(meta):\n",
    "    clear_output()\n",
    "    print float(i)/len(meta)\n",
    "        \n",
    "    start_index = i\n",
    "    num_to_read = min(batch_size, len(meta)-i)\n",
    "    if (num_to_read < batch_size):\n",
    "        num_to_read = 1\n",
    "    indices_to_use = sorted(list(range(len(meta)))[start_index:start_index+batch_size])\n",
    "    batch_test_indices = indices_to_use\n",
    "    vgg_activation, wind, _, Y = get_activation_data_batch_from_indices(batch_test_indices)   \n",
    "\n",
    "    prob_val = sess.run(pred_probabilities, \n",
    "                                              feed_dict={vgg_activations_ph: vgg_activation, wind_ph: wind, \n",
    "                                                            keep_prob_ph:1.0\n",
    "                                             })\n",
    "    all_test_scores.extend(list(prob_val))\n",
    "    all_y_trues.extend(y_data['y'][indices_to_use])\n",
    "    i += len(list(prob_val))\n",
    "    "
   ]
  },
  {
   "cell_type": "code",
   "execution_count": 92,
   "metadata": {
    "collapsed": false,
    "deletable": true,
    "editable": true
   },
   "outputs": [
    {
     "name": "stdout",
     "output_type": "stream",
     "text": [
      "[ 0.48602447  0.51397562]\n"
     ]
    }
   ],
   "source": [
    "all_p_scores = np.array(all_test_scores[-i:])\n",
    "print all_p_scores[0]\n",
    "with open(\"housewise_predicted_p_damage.p\", \"wb\") as output_file:\n",
    "    pickle.dump(list(all_p_scores[:,1]), output_file)"
   ]
  },
  {
   "cell_type": "code",
   "execution_count": null,
   "metadata": {
    "collapsed": true,
    "deletable": true,
    "editable": true
   },
   "outputs": [],
   "source": []
  }
 ],
 "metadata": {
  "kernelspec": {
   "display_name": "Python 2",
   "language": "python",
   "name": "python2"
  },
  "language_info": {
   "codemirror_mode": {
    "name": "ipython",
    "version": 2
   },
   "file_extension": ".py",
   "mimetype": "text/x-python",
   "name": "python",
   "nbconvert_exporter": "python",
   "pygments_lexer": "ipython2",
   "version": "2.7.6"
  },
  "toc": {
   "colors": {
    "hover_highlight": "#DAA520",
    "running_highlight": "#FF0000",
    "selected_highlight": "#FFD700"
   },
   "moveMenuLeft": true,
   "nav_menu": {
    "height": "117px",
    "width": "379px"
   },
   "navigate_menu": true,
   "number_sections": true,
   "sideBar": true,
   "threshold": 4,
   "toc_cell": false,
   "toc_section_display": "block",
   "toc_window_display": false,
   "widenNotebook": false
  }
 },
 "nbformat": 4,
 "nbformat_minor": 0
}
