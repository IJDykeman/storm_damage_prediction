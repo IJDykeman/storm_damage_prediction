{
 "cells": [
  {
   "cell_type": "code",
   "execution_count": null,
   "metadata": {
    "collapsed": true
   },
   "outputs": [],
   "source": [
    "\n",
    "import tensorflow as tf\n",
    "from tensorflow.python.client import timeline\n",
    "\n",
    "x = tf.random_normal([1000, 1000])\n",
    "y = tf.random_normal([1000, 1000])\n",
    "res = tf.matmul(x, y)\n",
    "\n",
    "# Run the graph with full trace option\n",
    "with tf.Session() as sess:\n",
    "    run_options = tf.RunOptions(trace_level=tf.RunOptions.FULL_TRACE)\n",
    "    run_metadata = tf.RunMetadata()\n",
    "    sess.run(res, options=run_options, run_metadata=run_metadata)\n",
    "\n",
    "    # Create the Timeline object, and write it to a json\n",
    "    tl = timeline.Timeline(run_metadata.step_stats)\n",
    "    ctf = tl.generate_chrome_trace_format()\n",
    "    with open('timeline.json', 'w') as f:\n",
    "        f.write(ctf)"
   ]
  },
  {
   "cell_type": "code",
   "execution_count": null,
   "metadata": {
    "collapsed": true
   },
   "outputs": [],
   "source": []
  }
 ],
 "metadata": {
  "kernelspec": {
   "display_name": "Python 2",
   "language": "python",
   "name": "python2"
  },
  "language_info": {
   "codemirror_mode": {
    "name": "ipython",
    "version": 2
   },
   "file_extension": ".py",
   "mimetype": "text/x-python",
   "name": "python",
   "nbconvert_exporter": "python",
   "pygments_lexer": "ipython2",
   "version": "2.7.6"
  }
 },
 "nbformat": 4,
 "nbformat_minor": 0
}
