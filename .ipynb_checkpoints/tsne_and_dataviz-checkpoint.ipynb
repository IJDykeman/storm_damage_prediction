{
 "cells": [
  {
   "cell_type": "code",
   "execution_count": 1,
   "metadata": {
    "collapsed": false
   },
   "outputs": [
    {
     "name": "stdout",
     "output_type": "stream",
     "text": [
      "Populating the interactive namespace from numpy and matplotlib\n"
     ]
    }
   ],
   "source": [
    "%matplotlib inline\n",
    "%pylab inline\n",
    "import pylab\n",
    "pylab.rcParams['figure.figsize'] = (50.0, 40.0)\n",
    "from tsne import bh_sne\n",
    "from matplotlib import pyplot as plt\n",
    "import pandas\n",
    "import scipy\n",
    "import numpy as np\n",
    "import sklearn.manifold\n",
    "import os\n",
    "import gc\n",
    "from time import gmtime, strftime\n",
    "import seaborn as sns\n",
    "from os import listdir\n",
    "from os.path import isfile, join\n",
    "import math\n",
    "from scipy.stats.stats import pearsonr\n",
    "import random as rand\n",
    "from sklearn.preprocessing import normalize\n",
    "from collections import defaultdict\n",
    "def memo(f):\n",
    "    memo = {}\n",
    "    def helper(x):\n",
    "        if x not in memo:            \n",
    "            memo[x] = f(x)\n",
    "        return memo[x]\n",
    "    return helper"
   ]
  },
  {
   "cell_type": "code",
   "execution_count": 2,
   "metadata": {
    "collapsed": false,
    "scrolled": false
   },
   "outputs": [],
   "source": [
    "def zero_to_one(array):\n",
    "    array = array - np.min(array)\n",
    "    array = array/np.max(array)\n",
    "    return np.nan_to_num(array)\n",
    "\n",
    "\n",
    "@memo\n",
    "def load_dataset(path, scale=True):\n",
    "    gc.collect()\n",
    "    data = pandas.read_hdf(path, '/df')\n",
    "    df = pandas.DataFrame(data)\n",
    "    if scale:\n",
    "        for label in df._get_numeric_data().columns:\n",
    "            if label != 'hcad':\n",
    "               df[label] = zero_to_one(df[label])\n",
    "    df['hcad'] = df['hcad'].astype(int)\n",
    "    return df.sort(['hcad']).fillna(0)\n",
    "    \n",
    "    \n"
   ]
  },
  {
   "cell_type": "code",
   "execution_count": 3,
   "metadata": {
    "collapsed": false
   },
   "outputs": [],
   "source": [
    "def tsne(df_data, dest_folder, n = None, file_tag= \"\"):\n",
    "    result = {}\n",
    "    result['hcad'] = df_data['hcad'][:n]\n",
    "    df_data = df_data.drop('hcad', 1) # don't embed the hcad number!\n",
    "    embedding = bh_sne(np.array(df_data)[:n], perplexity=1)\n",
    "\n",
    "    \n",
    "    result['x'] = zero_to_one(embedding[:, 0])\n",
    "    result['y'] = zero_to_one(embedding[:, 1])\n",
    "    result = pandas.DataFrame.from_dict(result)\n",
    "    name = file_tag+\"_\"+\"_\".join(df_data.columns)[:40] + \"_n:\"+str(len(result))\n",
    "    result.to_pickle(dest_folder+name)"
   ]
  },
  {
   "cell_type": "code",
   "execution_count": 4,
   "metadata": {
    "collapsed": false
   },
   "outputs": [],
   "source": [
    "def hist_2d(vis_x,vis_y):\n",
    "    print vis_x\n",
    "    print vis_y\n",
    "    hh, locx, locy = scipy.histogram2d(vis_x, vis_y, bins=[200,200])\n",
    "    fig = plt.figure(frameon=False)\n",
    "    fig.set_size_inches(30,30)\n",
    "    plt.imshow(np.flipud(hh.T),cmap='jet', interpolation='none', shape = (1,1))\n",
    "    plt.colorbar()\n",
    "# tsne_embed = pandas.read_pickle(\"/home/isaac/Desktop/devika/gitignored/img1_hcad/_mean_accrued_depr_pct_std_accrued_depr_p_n:104878\")\n",
    "# hist_2d(np.array(tsne_embed['x']),np.array(tsne_embed['y']))"
   ]
  },
  {
   "cell_type": "code",
   "execution_count": 6,
   "metadata": {
    "collapsed": false
   },
   "outputs": [
    {
     "name": "stdout",
     "output_type": "stream",
     "text": [
      "Opening /home/isaac/Dropbox/data_for_brian/meta/df_meta.hd in read-only mode\n"
     ]
    },
    {
     "ename": "NameError",
     "evalue": "global name 'meta' is not defined",
     "output_type": "error",
     "traceback": [
      "\u001b[1;31m---------------------------------------------------------------------------\u001b[0m",
      "\u001b[1;31mNameError\u001b[0m                                 Traceback (most recent call last)",
      "\u001b[1;32m<ipython-input-6-2d60c2f95b5c>\u001b[0m in \u001b[0;36m<module>\u001b[1;34m()\u001b[0m\n\u001b[0;32m     21\u001b[0m     \u001b[0mplt\u001b[0m\u001b[1;33m.\u001b[0m\u001b[0mshow\u001b[0m\u001b[1;33m(\u001b[0m\u001b[1;33m)\u001b[0m\u001b[1;33m\u001b[0m\u001b[0m\n\u001b[0;32m     22\u001b[0m \u001b[1;33m\u001b[0m\u001b[0m\n\u001b[1;32m---> 23\u001b[1;33m \u001b[0mimg0_hcad_data\u001b[0m \u001b[1;33m=\u001b[0m \u001b[0mget_where_img0_is_1\u001b[0m\u001b[1;33m(\u001b[0m\u001b[0mhcad\u001b[0m\u001b[1;33m)\u001b[0m\u001b[1;33m\u001b[0m\u001b[0m\n\u001b[0m",
      "\u001b[1;32m<ipython-input-6-2d60c2f95b5c>\u001b[0m in \u001b[0;36mget_where_img0_is_1\u001b[1;34m(pddf)\u001b[0m\n\u001b[0;32m     11\u001b[0m \u001b[1;31m# @memo\u001b[0m\u001b[1;33m\u001b[0m\u001b[1;33m\u001b[0m\u001b[0m\n\u001b[0;32m     12\u001b[0m \u001b[1;32mdef\u001b[0m \u001b[0mget_where_img0_is_1\u001b[0m\u001b[1;33m(\u001b[0m\u001b[0mpddf\u001b[0m\u001b[1;33m)\u001b[0m\u001b[1;33m:\u001b[0m\u001b[1;33m\u001b[0m\u001b[0m\n\u001b[1;32m---> 13\u001b[1;33m     \u001b[0mimg0_metadata\u001b[0m \u001b[1;33m=\u001b[0m \u001b[1;33m(\u001b[0m\u001b[0mget_meta\u001b[0m\u001b[1;33m(\u001b[0m\u001b[1;33m)\u001b[0m\u001b[1;33m.\u001b[0m\u001b[0mloc\u001b[0m\u001b[1;33m[\u001b[0m\u001b[0mmeta\u001b[0m\u001b[1;33m[\u001b[0m\u001b[1;34m'img0'\u001b[0m\u001b[1;33m]\u001b[0m \u001b[1;33m==\u001b[0m \u001b[1;36m1\u001b[0m\u001b[1;33m]\u001b[0m\u001b[1;33m)\u001b[0m\u001b[1;33m\u001b[0m\u001b[0m\n\u001b[0m\u001b[0;32m     14\u001b[0m     \u001b[1;32mreturn\u001b[0m \u001b[0mpddf\u001b[0m\u001b[1;33m.\u001b[0m\u001b[0mloc\u001b[0m\u001b[1;33m[\u001b[0m\u001b[0mpddf\u001b[0m\u001b[1;33m[\u001b[0m\u001b[1;34m'hcad'\u001b[0m\u001b[1;33m]\u001b[0m\u001b[1;33m.\u001b[0m\u001b[0misin\u001b[0m\u001b[1;33m(\u001b[0m\u001b[0mlist\u001b[0m\u001b[1;33m(\u001b[0m\u001b[0mimg0_metadata\u001b[0m\u001b[1;33m[\u001b[0m\u001b[1;34m'hcad'\u001b[0m\u001b[1;33m]\u001b[0m\u001b[1;33m)\u001b[0m\u001b[1;33m)\u001b[0m\u001b[1;33m]\u001b[0m\u001b[1;33m\u001b[0m\u001b[0m\n\u001b[0;32m     15\u001b[0m \u001b[1;33m\u001b[0m\u001b[0m\n",
      "\u001b[1;31mNameError\u001b[0m: global name 'meta' is not defined"
     ]
    }
   ],
   "source": [
    "hcad = load_dataset(\"/home/isaac/Dropbox/data_for_brian/hcad_features/hcad_df_200.hd\")\n",
    "hcad = hcad[['hcad', 'mean_accrued_depr_pct', 'mean_bld_val', 'mean_land_val','mean_quality','mean_rcnld', 'mean_tot_mkt_val','mean_year_built','mean_year_remodeled']]\n",
    "def get_meta():\n",
    "     return load_dataset(\"/home/isaac/Dropbox/data_for_brian/meta/df_meta.hd\")\n",
    "\n",
    "META = get_meta()\n",
    "# @memo\n",
    "\n",
    "\n",
    "\n",
    "\n",
    "# @memo\n",
    "def get_where_img0_is_1(pddf):\n",
    "    img0_metadata = (META.loc[META['img0'] == 1])\n",
    "    return pddf.loc[pddf['hcad'].isin(list(img0_metadata['hcad']))]\n",
    "\n",
    "def pairwise_plot(pddf, sqrt = False):\n",
    "    if sqrt:\n",
    "        pddf = np.sqrt(pddf)\n",
    "    axes = pandas.tools.plotting.scatter_matrix(pddf, alpha=0.2)\n",
    "    plt.tight_layout()\n",
    "    plt.show()\n",
    "\n",
    "img0_hcad_data = get_where_img0_is_1(hcad)"
   ]
  },
  {
   "cell_type": "code",
   "execution_count": null,
   "metadata": {
    "collapsed": true
   },
   "outputs": [],
   "source": [
    "meta = load_dataset(\"/home/isaac/Dropbox/data_for_brian/meta/df_meta.hd\")\n",
    "img0_metadata = (meta.loc[meta['img0'] == 1])\n",
    "# print img0_metadata\n",
    "img0_hcad_data = hcad.loc[hcad['hcad'].isin(list(img0_metadata['hcad']))]\n",
    "# print hcad['hcad']\n",
    "print img0_hcad_data\n",
    "tsne(img0_hcad_data,\"/home/isaac/Desktop/devika/gitignored/img1_hcad/\", file_tag =\"civeng_features\")"
   ]
  },
  {
   "cell_type": "code",
   "execution_count": null,
   "metadata": {
    "collapsed": false
   },
   "outputs": [],
   "source": [
    "print pandas.read_pickle(\"/home/isaac/Desktop/devika/gitignored/testing_refactored_code/_mean_accrued_depr_pct_std_accrued_depr_p_n:100\")"
   ]
  },
  {
   "cell_type": "code",
   "execution_count": null,
   "metadata": {
    "collapsed": true
   },
   "outputs": [],
   "source": [
    "from sklearn.datasets import load_digits\n",
    "digits = load_digits()"
   ]
  },
  {
   "cell_type": "code",
   "execution_count": null,
   "metadata": {
    "collapsed": false
   },
   "outputs": [],
   "source": [
    "# print digits"
   ]
  },
  {
   "cell_type": "code",
   "execution_count": null,
   "metadata": {
    "collapsed": false
   },
   "outputs": [],
   "source": [
    "images = digits['images']\n",
    "print np.array(digits['images'])[0].flatten()\n",
    "# for i in range(len(images)):\n",
    "#     images[i]=images[i].flatten()\n",
    "\n",
    "tsne(images, \"/home/isaac/Desktop/devika/gitignored/digits_test/\")"
   ]
  },
  {
   "cell_type": "markdown",
   "metadata": {},
   "source": [
    "## ratio plot"
   ]
  },
  {
   "cell_type": "code",
   "execution_count": null,
   "metadata": {
    "collapsed": false
   },
   "outputs": [],
   "source": [
    "\n",
    "def show_ratio_plot(xy_points, y_data):\n",
    "    buckets = defaultdict(list)\n",
    "    resolution = 500\n",
    "    for i in range(len(xy_points)):\n",
    "        x,y = np.array(xy_points['x'])[i], np.array(xy_points['y'])[i]\n",
    "        # x and why are in [0,1]\n",
    "        x = int(x*resolution)\n",
    "        y = int(y*resolution)\n",
    "        buckets[(x,y)].append(y_data[i])\n",
    "    locations_to_damaged_ratios = defaultdict(float)\n",
    "    for key in buckets:\n",
    "        locations_to_damaged_ratios[key] = float(sum(buckets[key]))/float(len(buckets[key]))\n",
    "    x_y_ratio = numpy.zeros((resolution+1,resolution+1))\n",
    "    for key in locations_to_damaged_ratios:\n",
    "        #print key\n",
    "        x_y_ratio[key[0],key[1]] = locations_to_damaged_ratios[key]\n",
    "    plt.hist(locations_to_damaged_ratios.values())\n",
    "    plt.show()\n",
    "\n",
    "    fig = plt.figure(frameon=True)\n",
    "    plt.imshow(np.log(x_y_ratio), \n",
    "               interpolation='nearest', cmap=cm.gist_rainbow)\n",
    "    plt.show()"
   ]
  },
  {
   "cell_type": "code",
   "execution_count": null,
   "metadata": {
    "collapsed": false
   },
   "outputs": [],
   "source": [
    "# print np.array(tsne_embed['x'])[0]\n",
    "# show_ratio_plot(tsne_embed, hcad['mean_bld_val'])\n",
    "xy = pandas.DataFrame.from_dict({'x': get_meta()['point_x'],'y': get_meta()['point_y']})\n",
    "print get_meta()\n",
    "# show_ratio_plot(xy,get_meta()['point_x'] )"
   ]
  },
  {
   "cell_type": "code",
   "execution_count": null,
   "metadata": {
    "collapsed": true
   },
   "outputs": [],
   "source": []
  }
 ],
 "metadata": {
  "kernelspec": {
   "display_name": "Python 2",
   "language": "python",
   "name": "python2"
  },
  "language_info": {
   "codemirror_mode": {
    "name": "ipython",
    "version": 2
   },
   "file_extension": ".py",
   "mimetype": "text/x-python",
   "name": "python",
   "nbconvert_exporter": "python",
   "pygments_lexer": "ipython2",
   "version": "2.7.6"
  }
 },
 "nbformat": 4,
 "nbformat_minor": 0
}
