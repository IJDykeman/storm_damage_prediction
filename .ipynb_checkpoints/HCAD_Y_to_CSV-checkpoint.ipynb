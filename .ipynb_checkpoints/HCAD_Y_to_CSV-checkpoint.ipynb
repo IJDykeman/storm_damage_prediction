{
 "cells": [
  {
   "cell_type": "code",
   "execution_count": 10,
   "metadata": {
    "collapsed": false
   },
   "outputs": [
    {
     "name": "stdout",
     "output_type": "stream",
     "text": [
      "Populating the interactive namespace from numpy and matplotlib\n",
      "loading...\n",
      "Opening /home/isaac/Dropbox/data_for_brian/meta/df_meta.hd in read-only mode\n"
     ]
    },
    {
     "name": "stderr",
     "output_type": "stream",
     "text": [
      "WARNING: pylab import has clobbered these variables: ['rand', 'pylab']\n",
      "`%matplotlib` prevents importing * from pylab and numpy\n"
     ]
    },
    {
     "name": "stdout",
     "output_type": "stream",
     "text": [
      "loading...\n",
      "Opening /home/isaac/Dropbox/data_for_brian/y_df.hd in read-only mode\n"
     ]
    }
   ],
   "source": [
    "\n",
    "%pylab inline\n",
    "\n",
    "%matplotlib inline\n",
    "import numpy as np\n",
    "from collections import deque\n",
    "from os import listdir\n",
    "import functools\n",
    "\n",
    "pylab.rcParams['figure.figsize'] = (4.0, 4.0)\n",
    "\n",
    "import pylab\n",
    "from matplotlib import pyplot as plt\n",
    "import pandas\n",
    "import scipy\n",
    "import numpy as np\n",
    "import sklearn.manifold\n",
    "import os\n",
    "import gc\n",
    "from time import gmtime, strftime\n",
    "import seaborn as sns\n",
    "from os import listdir\n",
    "from os.path import isfile, join\n",
    "import math\n",
    "from scipy.stats.stats import pearsonr\n",
    "import random as rand\n",
    "import pyproj\n",
    "import functools\n",
    "import pickle \n",
    "\n",
    "def load_data(path, normalize_columns = False, only_columns_containing = \"\"):\n",
    "    print(\"loading...\")\n",
    "    gc.collect() # collect garbage\n",
    "    data = pandas.read_hdf(path, '/df')\n",
    "    df = pandas.DataFrame(data)\n",
    "    df = df.sort(['hcad']).fillna(0)\n",
    "    df = df.reset_index()#(ascending=True)\n",
    "\n",
    "    data_dict = {}\n",
    "    for label in set(df._get_numeric_data().columns).union({'hcad'}):\n",
    "        # union hcad to ensure that hcad col comes in even if not considered numerical\n",
    "        if normalize_columns and  label != 'hcad':\n",
    "            column_data = np.array(df[label].astype(float))\n",
    "            column_data -= np.min(column_data)\n",
    "            data_dict[label] = column_data / np.max(column_data)\n",
    "        else:\n",
    "            data_dict[label] = df[label].astype(float)\n",
    "\n",
    "        result = pandas.DataFrame.from_dict(data_dict)\n",
    "\n",
    "    result = result.replace([np.inf, -np.inf], 1)\n",
    "    \n",
    "    \n",
    "    for label in result:\n",
    "        if not only_columns_containing in str(label):\n",
    "            result.drop([str(label)], axis = 1 , inplace= True)\n",
    "    return result\n",
    "\n",
    "meta = load_data(\"/home/isaac/Dropbox/data_for_brian/meta/df_meta.hd\")\n",
    "y_data = load_data(\"/home/isaac/Dropbox/data_for_brian/y_df.hd\")"
   ]
  },
  {
   "cell_type": "code",
   "execution_count": 18,
   "metadata": {
    "collapsed": false
   },
   "outputs": [],
   "source": [
    "\n",
    "wgs84=pyproj.Proj(\"+init=EPSG:4326\") # LatLon with WGS84 datum used by GPS units and Google Earth\n",
    "UTM26N=pyproj.Proj(\"+init=EPSG:2278\") # UTM coords, zone Texas Central, WGS84 datum\n",
    "\n",
    "# lon = [meta['lon'][250000]] #these are good becuase of clear local features\n",
    "# lat = [meta['lat'][250000]]\n",
    "\n",
    "\n",
    "lon = list(meta['lon'])\n",
    "lat = list(meta['lat'])\n",
    "\n",
    "# print \"house lat lon\", lat, lon\n",
    "xx, yy = pyproj.transform(wgs84, UTM26N, lon, lat)\n",
    "# print xx, yy\n",
    "housex=xx[0]\n",
    "housey=yy[0]"
   ]
  },
  {
   "cell_type": "code",
   "execution_count": 20,
   "metadata": {
    "collapsed": false
   },
   "outputs": [],
   "source": [
    "data_dict = {\"hcad\":meta['hcad'], \"y\":y_data['y'], \"lat\": lat, \"lon\":lon}"
   ]
  },
  {
   "cell_type": "code",
   "execution_count": null,
   "metadata": {
    "collapsed": true
   },
   "outputs": [],
   "source": [
    "pan"
   ]
  }
 ],
 "metadata": {
  "kernelspec": {
   "display_name": "Python 2",
   "language": "python",
   "name": "python2"
  },
  "language_info": {
   "codemirror_mode": {
    "name": "ipython",
    "version": 2
   },
   "file_extension": ".py",
   "mimetype": "text/x-python",
   "name": "python",
   "nbconvert_exporter": "python",
   "pygments_lexer": "ipython2",
   "version": "2.7.6"
  }
 },
 "nbformat": 4,
 "nbformat_minor": 0
}
