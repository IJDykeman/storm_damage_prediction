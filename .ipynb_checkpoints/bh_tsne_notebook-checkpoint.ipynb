{
 "cells": [
  {
   "cell_type": "code",
   "execution_count": null,
   "metadata": {
    "collapsed": false,
    "scrolled": true
   },
   "outputs": [],
   "source": [
    "%matplotlib inline\n",
    "%pylab inline\n",
    "import pylab\n",
    "pylab.rcParams['figure.figsize'] = (10.0, 8.0)\n",
    "from tsne import bh_sne\n",
    "from matplotlib import pyplot as plt\n",
    "import pandas\n",
    "import scipy\n",
    "import numpy as np\n",
    "import sklearn.manifold\n",
    "import os\n",
    "import gc\n",
    "from time import gmtime, strftime\n",
    "import seaborn as sns\n",
    "from os import listdir\n",
    "from os.path import isfile, join\n"
   ]
  },
  {
   "cell_type": "code",
   "execution_count": null,
   "metadata": {
    "collapsed": false
   },
   "outputs": [],
   "source": []
  },
  {
   "cell_type": "code",
   "execution_count": null,
   "metadata": {
    "collapsed": false,
    "scrolled": true
   },
   "outputs": [],
   "source": [
    "def load_data(path, shuffle = True):\n",
    "    gc.collect()\n",
    "    labels = list(pandas.read_hdf(path, '/df').columns.values)#.get('accrued_depr_pct')\n",
    "    data = pandas.read_hdf(path, '/df')\n",
    "    np_data = np.array(data).astype(float)\n",
    "    del(data)\n",
    "    data=None\n",
    "    #np_data = np_data / np_data.max(axis=0)\n",
    "    def scale_linear_by_column(rawpoints, high=1.0, low=0.0):\n",
    "        mins = np.min(rawpoints, axis=0)\n",
    "        maxs = np.max(rawpoints, axis=0)\n",
    "        rng = maxs - mins\n",
    "        return high - (((high - low) * (maxs - rawpoints)) / rng)\n",
    "    np_data = scale_linear_by_column(np_data)\n",
    "    \n",
    "    if shuffle:\n",
    "        np.random.shuffle(np_data)\n",
    "    np.nan_to_num(np_data)\n",
    "    \n",
    "    np_data[np.isnan(np_data)] = 0.0\n",
    "    \n",
    "    return np_data, labels\n",
    "\n",
    "def load_nonumerical_data(path):\n",
    "    gc.collect()\n",
    "    labels = list(pandas.read_hdf(path, '/df').columns.values)#.get('accrued_depr_pct')\n",
    "    data = pandas.read_hdf(path, '/df')\n",
    "    return data, labels\n",
    "\n",
    "def print_columns(path):\n",
    "    labels = list(pandas.read_hdf(path, '/df').columns.values)#.get('accrued_depr_pct')\n",
    "    print labels\n"
   ]
  },
  {
   "cell_type": "code",
   "execution_count": null,
   "metadata": {
    "collapsed": false,
    "scrolled": true
   },
   "outputs": [],
   "source": [
    "def visualize(muh_data, buckets = 100, show=False, size=40, path=None, \n",
    "              bandwidth=2, display_mode='kde', color = None):\n",
    "    vis_x = muh_data[:, 0]\n",
    "    vis_y = muh_data[:, 1]\n",
    "\n",
    "\n",
    "    #histogram definition\n",
    "    if size == None:\n",
    "        xyrange = [[min(vis_x),max(vis_x)],[min(vis_y),max(vis_y)]]\n",
    "    else:\n",
    "        xyrange = [[-size,size],[-size,size]] # data range\n",
    "    bins = [buckets,buckets] # number of bins\n",
    "    \n",
    "    if(show):\n",
    "        #\n",
    "        #sns.set(color_codes=True)\n",
    "        if(display_mode=='kde'):\n",
    "            sns.kdeplot(vis_x, vis_y, shade=True,  n_levels=20, bw=bandwidth)\n",
    "        elif display_mode == 'hex':\n",
    "            sns.jointplot(x=vis_x, y=vis_y, kind=\"hex\", color=\"k\")\n",
    "        elif display_mode == 'hist':\n",
    "            hh, locx, locy = scipy.histogram2d(vis_x, vis_y, range=xyrange, bins=bins)\n",
    "            plt.imshow(np.flipud(hh.T),cmap='jet',extent=np.array(xyrange).flatten(), interpolation='none', shape = (1000,1000))\n",
    "            plt.colorbar()\n",
    "        elif display_mode == 'colored':\n",
    "            #plt.gray()\n",
    "\n",
    "            plt.scatter(vis_x, vis_y, c=color,  marker='+', facecolor='b', cmap='jet')\n",
    "            #fig.patch.set_facecolor('blue')\n",
    "\n",
    "            #plt.set_axis_bgcolor((0, .5, .5))\n",
    "            #plt.imshow(np.flipud(hh.T),cmap='jet',extent=np.array(xyrange).flatten(), interpolation='none', shape = (1000,1000))\n",
    "            plt.colorbar()\n",
    "        plt.show()\n",
    "    else:\n",
    "        assert(path != None)\n",
    "        save_path = folder+\"\".join(path.split('/')[-2:])\n",
    "        save_path = save_path+\"_buckets:\"+str(buckets)\n",
    "        save_path = save_path  +\".png\"\n",
    "        plt.savefig(save_path)\n",
    "    #plt.clf()\n",
    "\n",
    "def save(muh_data, folder, tag=\"\"):\n",
    "    save_path = folder+\"np_array_\"+tag\n",
    "    print \"saving to\",save_path\n",
    "    np.save(save_path,muh_data)"
   ]
  },
  {
   "cell_type": "code",
   "execution_count": null,
   "metadata": {
    "collapsed": false,
    "scrolled": false
   },
   "outputs": [],
   "source": [
    "def process_full():\n",
    "    paths = [#\"/home/isaac/Dropbox/data_for_brian/hcad_features/hcad_df.hd\",\n",
    "             #\"/home/isaac/Dropbox/data_for_brian/hcad_features/hcad_df_100.hd\",\n",
    "             #\"/home/isaac/Dropbox/data_for_brian/hcad_features/hcad_df_200.hd\",\n",
    "             \"/home/isaac/Dropbox/data_for_brian/hcad_features/hcad_df_400.hd\",\n",
    "             # \"/home/isaac/Dropbox/data_for_brian/hcad_features/hcad_df_1000.hd\",\n",
    "              #\"/home/isaac/Dropbox/data_for_brian/terrain_features/dsmgrid/terrain_100.hd\",\n",
    "#              \"/home/isaac/Dropbox/data_for_brian/terrain_features/dsmgrid/terrain_200.hd\",\n",
    "#              \"/home/isaac/Dropbox/data_for_brian/terrain_features/dsmgrid/terrain_400.hd\",\n",
    "#              \"/home/isaac/Dropbox/data_for_brian/terrain_features/dsmgrid/terrain_1000.hd\",\n",
    "#               \"/home/isaac/Dropbox/data_for_brian/terrain_features/dtmgrid/terrain_100.hd\",\n",
    "#              \"/home/isaac/Dropbox/data_for_brian/terrain_features/dtmgrid/terrain_200.hd\",\n",
    "#              \"/home/isaac/Dropbox/data_for_brian/terrain_features/dtmgrid/terrain_400.hd\",\n",
    "#              \"/home/isaac/Dropbox/data_for_brian/terrain_features/dtmgrid/terrain_1000.hd\",\n",
    "#              \"/home/isaac/Dropbox/data_for_brian/wind_features/hcad_interp_withoutpartial_rad100_hist8x8.mat.hd\",\n",
    "#              \"/home/isaac/Dropbox/data_for_brian/wind_features/hcad_interp_withoutpartial_rad100_hist16x16.mat.hd\",\n",
    "#              \"/home/isaac/Dropbox/data_for_brian/wind_features/hcad_interp_withoutpartial_rad100_hist36x36.mat.hd\",\n",
    "#              \"/home/isaac/Dropbox/data_for_brian/wind_features/hcad_interp_withoutpartial_rad200_hist8x8.mat.hd\",\n",
    "#              \"/home/isaac/Dropbox/data_for_brian/wind_features/hcad_interp_withoutpartial_rad200_hist16x16.mat.hd\",\n",
    "#              \"/home/isaac/Dropbox/data_for_brian/wind_features/hcad_interp_withoutpartial_rad200_hist36x36.mat.hd\",\n",
    "#              \"/home/isaac/Dropbox/data_for_brian/wind_features/hcad_interp_withoutpartial_rad400_hist8x8.mat.hd\",\n",
    "#              \"/home/isaac/Dropbox/data_for_brian/wind_features/hcad_interp_withoutpartial_rad400_hist16x16.mat.hd\",\n",
    "#              \"/home/isaac/Dropbox/data_for_brian/wind_features/hcad_interp_withoutpartial_rad400_hist36x36.mat.hd\",\n",
    "#              \"/home/isaac/Dropbox/data_for_brian/wind_features/hcad_interp_withoutpartial_rad1000_hist8x8.mat.hd\",\n",
    "#              \"/home/isaac/Dropbox/data_for_brian/wind_features/hcad_interp_withoutpartial_rad1000_hist16x16.mat.hd\",\n",
    "#              \"/home/isaac/Dropbox/data_for_brian/wind_features/hcad_interp_withoutpartial_rad1000_hist36x36.mat.hd\"\n",
    "            ]\n",
    "\n",
    "    folder = \"./autorun11/\"\n",
    "    if not os.path.exists(folder):\n",
    "        os.makedirs(folder)\n",
    "    print \"started at \"+strftime(\"%Y-%m-%d %H:%M:%S\", gmtime())\n",
    "    vis_data = None\n",
    "    for path in paths:\n",
    "        np_data, column_labels = load_data(path, shuffle = False)\n",
    "        print len(np_data)\n",
    "        for n in [None]:\n",
    "            sliced_np_data = np_data[:n]\n",
    "            vis_data = bh_sne(sliced_np_data, perplexity=30)\n",
    "            dataset_name = path.split('/')[-1].split('.')[0]\n",
    "            save(np.append(vis_data, sliced_np_data,1), folder, tag = \"n=\"+str(n)+\"_of_\"+dataset_name)\n",
    "            for i in range(len(np_data[0,:])):\n",
    "                print \"\\n\"+\"=\"*20\n",
    "                print \"dataset:\", dataset_name\n",
    "                print \"sample size:\",len(vis_data)\n",
    "                print \"\\ncolumn:\",column_labels[i]+\":\"\n",
    "                colors = np_data[:n,i]\n",
    "                print \"log plot:\"\n",
    "                visualize(vis_data, show=True, display_mode = 'colored', color = np.log(colors+.1))\n",
    "                print \"linear plot:\"\n",
    "                visualize(vis_data, show=True, display_mode = 'colored', color = colors)\n",
    "\n",
    "            del(vis_data)\n",
    "            vis_data=None\n",
    "            print \"done with \"+path+\" at \"+strftime(\"%Y-%m-%d %H:%M:%S\", gmtime())\n",
    "        del(np_data)\n",
    "        np_data=None\n",
    "        gc.collect()\n",
    "            \n",
    "process_full()"
   ]
  },
  {
   "cell_type": "code",
   "execution_count": null,
   "metadata": {
    "collapsed": false
   },
   "outputs": [],
   "source": [
    "def visualize_all_data():\n",
    "    mypath = \"/home/isaac/Desktop/devika/autorun10/\"\n",
    "    onlyfiles = [ f for f in listdir(mypath) if isfile(join(mypath,f)) ]\n",
    "\n",
    "    for file in onlyfiles:\n",
    "        if file == \"np_array_n=None_of_hcad_df.npy\":\n",
    "            load_path = mypath+str(file)#np_array_8000_terrain_100.npy\"\n",
    "            loaded_data = np.load(load_path)\n",
    "            print \"\\n\\n---->n=\"+file.split('_')[2] + \" \" + '_'.join(file.split('_')[3:])\n",
    "            print \"kde bandwidth 1\"\n",
    "            size = max([max(loaded_data[:,0]),max(loaded_data[:,1]),abs(min(loaded_data[:,0])),abs(min(loaded_data[:,1]))])\n",
    "\n",
    "            visualize(loaded_data, show=True, size=size, bandwidth=.1)\n",
    "            #print \"kde bandwidth 2\"\n",
    "            #visualize(loaded_data, show=True, size=size, bandwidth=2)\n",
    "            print \"hex histogram\"\n",
    "            visualize(loaded_data, show=True, size=size, bandwidth=1, display_mode='hex')\n",
    "            #print \"histogram\"\n",
    "            #visualize(loaded_data, show=True, size=size, bandwidth=1, display_mode='hist')\n",
    "#visualize_all_data()"
   ]
  },
  {
   "cell_type": "code",
   "execution_count": null,
   "metadata": {
    "collapsed": false,
    "scrolled": true
   },
   "outputs": [],
   "source": [
    "def run_tests():\n",
    "    path = \"/home/isaac/Dropbox/data_for_brian/hcad_features/hcad_df.hd\"\n",
    "    np_data, labels = load_data(path)\n",
    "    for i in range(len(np_data[0])):\n",
    "        col = np_data[:,i]\n",
    "        assert len(np_data[0]) == len(labels)\n",
    "        assert len(col) == 870476\n",
    "        assert np.max(col) == 1.0\n",
    "        assert np.min(col) == 0.0\n",
    "    print \"tests pass\"\n",
    "#run_tests()"
   ]
  },
  {
   "cell_type": "markdown",
   "metadata": {},
   "source": [
    "## Trying to produce plots of data mapped to space, but the colors appear random."
   ]
  },
  {
   "cell_type": "code",
   "execution_count": null,
   "metadata": {
    "collapsed": false
   },
   "outputs": [],
   "source": [
    "print_columns(\"/home/isaac/Dropbox/data_for_brian/meta/df_meta.hd\")\n",
    "print_columns(\"/home/isaac/Dropbox/data_for_brian/hcad_features/hcad_df.hd\")"
   ]
  },
  {
   "cell_type": "code",
   "execution_count": null,
   "metadata": {
    "collapsed": false,
    "scrolled": false
   },
   "outputs": [],
   "source": [
    "from random import sample\n",
    "\n",
    "\n",
    "\n",
    "meta_data = load_nonumerical_data(\"/home/isaac/Dropbox/data_for_brian/meta/df_meta.hd\")\n",
    "hcad_data, labels = load_data(\"/home/isaac/Dropbox/data_for_brian/hcad_features/hcad_df_1000.hd\")\n",
    "sample_size = 10000#len(hcad_data)\n",
    "sample_indices = sample(xrange(len(hcad_data)), sample_size)\n",
    "xy_points = np.array(zip(meta_data[0].pointx,meta_data[0].pointy))\n",
    "print meta_data\n",
    "print hcad_data\n",
    "for i in range(1):#len(labels)):\n",
    "    print \"\\n\",labels[i]\n",
    "    \n",
    "    hcad_column = hcad_data[:,i]\n",
    "    print hcad_column\n",
    "#     xy_points_sample = []\n",
    "#     color_sample = []\n",
    "#     for index in sample_indices:\n",
    "#         xy_points_sample.append(xy_points[index])\n",
    "#         color_sample.append(hcad_column[index])\n",
    "\n",
    "#     xy_points_sample =np.array(xy_points_sample)\n",
    "#     color_sample = np.log(np.array(color_sample).astype(float))\n",
    "#     np.random.shuffle(color_sample)\n",
    "        \n",
    "    visualize(xy_points, \n",
    "              size=None,show = True, display_mode='colored', \n",
    "              color = hcad_column)\n",
    "    color_sample = None\n",
    "    #for i in range(1000):\n",
    "    "
   ]
  },
  {
   "cell_type": "code",
   "execution_count": null,
   "metadata": {
    "collapsed": true
   },
   "outputs": [],
   "source": []
  }
 ],
 "metadata": {
  "kernelspec": {
   "display_name": "Python 2",
   "language": "python",
   "name": "python2"
  },
  "language_info": {
   "codemirror_mode": {
    "name": "ipython",
    "version": 2
   },
   "file_extension": ".py",
   "mimetype": "text/x-python",
   "name": "python",
   "nbconvert_exporter": "python",
   "pygments_lexer": "ipython2",
   "version": "2.7.6"
  }
 },
 "nbformat": 4,
 "nbformat_minor": 0
}
