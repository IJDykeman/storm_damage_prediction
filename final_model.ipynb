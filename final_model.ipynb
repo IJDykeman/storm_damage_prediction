{
 "cells": [
  {
   "cell_type": "code",
   "execution_count": 2,
   "metadata": {
    "collapsed": false,
    "scrolled": false
   },
   "outputs": [
    {
     "name": "stderr",
     "output_type": "stream",
     "text": [
      "/usr/local/lib/python2.7/dist-packages/matplotlib/font_manager.py:273: UserWarning: Matplotlib is building the font cache using fc-list. This may take a moment.\n",
      "  warnings.warn('Matplotlib is building the font cache using fc-list. This may take a moment.')\n"
     ]
    },
    {
     "name": "stdout",
     "output_type": "stream",
     "text": [
      "Populating the interactive namespace from numpy and matplotlib\n"
     ]
    }
   ],
   "source": [
    "import os\n",
    "import matplotlib.pyplot as plt\n",
    "%pylab inline\n",
    "import numpy as np\n",
    "# from lasagne.layers import DenseLayer\n",
    "# from lasagne.layers import InputLayer\n",
    "# from lasagne.layers import DropoutLayer\n",
    "# from lasagne.layers import Conv2DLayer\n",
    "# from lasagne.layers import MaxPool2DLayer\n",
    "# from lasagne.nonlinearities import softmax\n",
    "# from lasagne.updates import adam\n",
    "# from lasagne.layers import get_all_params\n",
    "# import theano as T\n",
    "# from nolearn.lasagne import NeuralNet\n",
    "# from nolearn.lasagne import TrainSplit\n",
    "# from nolearn.lasagne import objective\n",
    "import gc\n",
    "import pandas\n",
    "\n",
    "\n"
   ]
  },
  {
   "cell_type": "code",
   "execution_count": 3,
   "metadata": {
    "collapsed": true
   },
   "outputs": [],
   "source": [
    "imagewidth = 40\n",
    "def display(image, min = 0.0, max = 1.0):\n",
    "    plt.imshow(image, cmap = plt.get_cmap('gray'), interpolation='nearest')\n",
    "    plt.show()\n",
    "    \n",
    "\n",
    "def load_data(path):\n",
    "    print(\"loading...\")\n",
    "    gc.collect() # collect garbage\n",
    "    data = pandas.read_hdf(path, '/df')\n",
    "    df = pandas.DataFrame(data)\n",
    "    data_dict = {}\n",
    "    for label in set(df._get_numeric_data().columns).union({'hcad'}):\n",
    "        # union hcad to ensure that hcad col comes in even if not considered numerical\n",
    "        # if label != 'hcad':\n",
    "        data_dict[label] = df[label].astype(float)\n",
    "        # df[label][df[label] > 1] = 1.0\n",
    "\n",
    "    # df['hcad'] = df['hcad'].astype(float)\n",
    "    result = pandas.DataFrame.from_dict(data_dict)\n",
    "\n",
    "    result = result.replace([np.inf, -np.inf], 1)\n",
    "    \n",
    "    return result.sort(['hcad']).fillna(0)"
   ]
  },
  {
   "cell_type": "code",
   "execution_count": 4,
   "metadata": {
    "collapsed": false
   },
   "outputs": [],
   "source": [
    "mat = np.zeros([870476, 256])\n",
    "for i in range(88):\n",
    "    piece = np.load(\"/home/isaac/Desktop/devika/final_model_inputs/compressed_terrain_\"+str(i)+\".npy\")\n",
    "    mat[i*10000: i*10000 + len(piece)] = piece\n",
    "    "
   ]
  },
  {
   "cell_type": "code",
   "execution_count": 5,
   "metadata": {
    "collapsed": false
   },
   "outputs": [
    {
     "name": "stdout",
     "output_type": "stream",
     "text": [
      "(870476, 256)\n"
     ]
    }
   ],
   "source": [
    "print mat.shape"
   ]
  },
  {
   "cell_type": "code",
   "execution_count": 6,
   "metadata": {
    "collapsed": false
   },
   "outputs": [],
   "source": [
    "# from sklearn.cluster import KMeans\n",
    "# from sklearn.decomposition import PCA\n",
    "# from sklearn import metrics\n",
    "\n",
    "# # for i in range(2,1000):\n",
    "# kmeans = KMeans(init='k-means++', n_clusters = 3)\n",
    "# kmeans.fit(mat)\n",
    "\n"
   ]
  },
  {
   "cell_type": "code",
   "execution_count": 7,
   "metadata": {
    "collapsed": false
   },
   "outputs": [
    {
     "ename": "NameError",
     "evalue": "name 'kmeans' is not defined",
     "output_type": "error",
     "traceback": [
      "\u001b[1;31m---------------------------------------------------------------------------\u001b[0m",
      "\u001b[1;31mNameError\u001b[0m                                 Traceback (most recent call last)",
      "\u001b[1;32m<ipython-input-7-81cd46776bdc>\u001b[0m in \u001b[0;36m<module>\u001b[1;34m()\u001b[0m\n\u001b[0;32m      1\u001b[0m \u001b[1;33m\u001b[0m\u001b[0m\n\u001b[1;32m----> 2\u001b[1;33m \u001b[0ma\u001b[0m \u001b[1;33m=\u001b[0m \u001b[0mkmeans\u001b[0m\u001b[1;33m.\u001b[0m\u001b[0mlabels_\u001b[0m\u001b[1;33m\u001b[0m\u001b[0m\n\u001b[0m\u001b[0;32m      3\u001b[0m \u001b[0mb\u001b[0m \u001b[1;33m=\u001b[0m \u001b[0mnp\u001b[0m\u001b[1;33m.\u001b[0m\u001b[0mzeros\u001b[0m\u001b[1;33m(\u001b[0m\u001b[1;33m(\u001b[0m\u001b[0ma\u001b[0m\u001b[1;33m.\u001b[0m\u001b[0msize\u001b[0m\u001b[1;33m,\u001b[0m \u001b[0ma\u001b[0m\u001b[1;33m.\u001b[0m\u001b[0mmax\u001b[0m\u001b[1;33m(\u001b[0m\u001b[1;33m)\u001b[0m\u001b[1;33m+\u001b[0m\u001b[1;36m1\u001b[0m\u001b[1;33m)\u001b[0m\u001b[1;33m)\u001b[0m\u001b[1;33m\u001b[0m\u001b[0m\n\u001b[0;32m      4\u001b[0m \u001b[0mb\u001b[0m\u001b[1;33m[\u001b[0m\u001b[0mnp\u001b[0m\u001b[1;33m.\u001b[0m\u001b[0marange\u001b[0m\u001b[1;33m(\u001b[0m\u001b[0mlen\u001b[0m\u001b[1;33m(\u001b[0m\u001b[0mmat\u001b[0m\u001b[1;33m)\u001b[0m\u001b[1;33m)\u001b[0m\u001b[1;33m,\u001b[0m \u001b[0ma\u001b[0m\u001b[1;33m]\u001b[0m \u001b[1;33m=\u001b[0m \u001b[1;36m1\u001b[0m\u001b[1;33m\u001b[0m\u001b[0m\n\u001b[0;32m      5\u001b[0m \u001b[1;32mprint\u001b[0m \u001b[0mb\u001b[0m\u001b[1;33m\u001b[0m\u001b[0m\n",
      "\u001b[1;31mNameError\u001b[0m: name 'kmeans' is not defined"
     ]
    }
   ],
   "source": [
    "\n",
    "a = kmeans.labels_\n",
    "b = np.zeros((a.size, a.max()+1))\n",
    "b[np.arange(len(mat)), a] = 1\n",
    "print b\n",
    "print b.shape"
   ]
  },
  {
   "cell_type": "code",
   "execution_count": 8,
   "metadata": {
    "collapsed": false
   },
   "outputs": [
    {
     "name": "stdout",
     "output_type": "stream",
     "text": [
      "loading...\n",
      "Opening /home/isaac/Dropbox/data_for_brian/hcad_features/hcad_df_200.hd in read-only mode\n",
      "loading...\n",
      "Opening /home/isaac/Dropbox/data_for_brian/wind_features/hcad_interp_withoutpartial_rad100_hist8x8.mat.hd in read-only mode\n",
      "loading...\n",
      "Opening /home/isaac/Dropbox/data_for_brian/y_df.hd in read-only mode\n"
     ]
    }
   ],
   "source": [
    "hcad = load_data(\"/home/isaac/Dropbox/data_for_brian/hcad_features/hcad_df_200.hd\")\n",
    "wind_data = load_data(\"/home/isaac/Dropbox/data_for_brian/wind_features/hcad_interp_withoutpartial_rad100_hist8x8.mat.hd\")\n",
    "y_data = load_data(\"/home/isaac/Dropbox/data_for_brian/y_df.hd\")"
   ]
  },
  {
   "cell_type": "code",
   "execution_count": 9,
   "metadata": {
    "collapsed": false
   },
   "outputs": [
    {
     "name": "stdout",
     "output_type": "stream",
     "text": [
      "Index([u'hcad', u'hist0', u'hist1', u'hist10', u'hist11', u'hist12', u'hist13', u'hist14', u'hist15', u'hist16', u'hist17', u'hist18', u'hist19', u'hist2', u'hist20', u'hist21', u'hist22', u'hist23', u'hist24', u'hist25', u'hist26', u'hist27', u'hist28', u'hist29', u'hist3', u'hist30', u'hist31', u'hist32', u'hist33', u'hist34', u'hist35', u'hist36', u'hist37', u'hist38', u'hist39', u'hist4', u'hist40', u'hist41', u'hist42', u'hist43', u'hist44', u'hist45', u'hist46', u'hist47', u'hist48', u'hist49', u'hist5', u'hist50', u'hist51', u'hist52', u'hist53', u'hist54', u'hist55', u'hist56', u'hist57', u'hist58', u'hist59', u'hist6', u'hist60', u'hist61', u'hist62', u'hist63', u'hist7', u'hist8', u'hist9', u'intp_dir0', u'intp_dir1', u'intp_dir10', u'intp_dir2', u'intp_dir3', u'intp_dir4', u'intp_dir5', u'intp_dir6', u'intp_dir7', u'intp_dir8', u'intp_dir9', u'intp_spd0', u'intp_spd1', u'intp_spd10', u'intp_spd2', u'intp_spd3', u'intp_spd4', u'intp_spd5', u'intp_spd6', u'intp_spd7', u'intp_spd8', u'intp_spd9', u'lat', u'lon'], dtype='object')\n",
      "[[ 31.69373012]\n",
      " [ 31.68855656]\n",
      " [ 31.67802801]\n",
      " ..., \n",
      " [ 28.53864884]\n",
      " [ 34.73171205]\n",
      " [ 34.7334372 ]]\n"
     ]
    }
   ],
   "source": [
    "print wind_data.columns\n",
    "speed_names = [\n",
    "    u'intp_spd0',\n",
    "    u'intp_spd1',\n",
    "    u'intp_spd2',\n",
    "    u'intp_spd3',\n",
    "    u'intp_spd4',\n",
    "    u'intp_spd5',\n",
    "    u'intp_spd6',\n",
    "    u'intp_spd7',\n",
    "    u'intp_spd8',\n",
    "    u'intp_spd9',\n",
    "\n",
    "]\n",
    "wind_maxes = np.array(wind_data[speed_names].max(axis=1)).reshape(-1, 1)\n",
    "print wind_maxes"
   ]
  },
  {
   "cell_type": "code",
   "execution_count": 10,
   "metadata": {
    "collapsed": false
   },
   "outputs": [
    {
     "name": "stdout",
     "output_type": "stream",
     "text": [
      "[[ 0.30002004]\n",
      " [ 0.30002591]\n",
      " [ 0.29971594]\n",
      " ..., \n",
      " [ 0.0959446 ]\n",
      " [ 0.053092  ]\n",
      " [ 0.05290391]]\n",
      "0.300026 0.0486294\n"
     ]
    }
   ],
   "source": [
    "# load hidden layer acitvations of hcad data\n",
    "hcad_1d = np.load(\"/home/isaac/Desktop/devika/gitignored/autoencoder_hidden_activations.npy\")\n",
    "print hcad_1d\n",
    "print np.max(hcad_1d), np.min(hcad_1d)"
   ]
  },
  {
   "cell_type": "code",
   "execution_count": 11,
   "metadata": {
    "collapsed": false
   },
   "outputs": [
    {
     "name": "stdout",
     "output_type": "stream",
     "text": [
      "[870476     89]\n",
      "[ 0.  0.  0. ...,  0.  0.  0.]\n",
      "(870476, 346)\n"
     ]
    }
   ],
   "source": [
    "mat = mat / np.max(mat)\n",
    "print np.array(wind_data.shape)\n",
    "trY = np.array(y_data['y100_mean']).astype(np.float32)\n",
    "trX = np.concatenate ((np.array(mat).astype(np.float32),\n",
    "                     np.array(wind_data)/np.max([-np.min(wind_data),np.max(wind_data)]),\n",
    "                    hcad_1d), axis = 1)\n",
    "# x = np.concatenate ((b.astype(np.float32), np.array(wind_data)/np.max([-np.min(wind_data),np.max(wind_data)])), axis = 1)\n",
    "# x = np.concatenate ((b.astype(np.float32), wind_maxes, hcad_1d), axis = 1)\n",
    "\n",
    "# x = np.concatenate((x, wind_maxes), axis = 1)\n",
    "trX = trX.astype(np.float32)\n",
    "\n",
    "print trY\n",
    "print trX.shape"
   ]
  },
  {
   "cell_type": "code",
   "execution_count": 16,
   "metadata": {
    "collapsed": false
   },
   "outputs": [
    {
     "name": "stdout",
     "output_type": "stream",
     "text": [
      "1.0\n"
     ]
    }
   ],
   "source": [
    "print np.max(mat)"
   ]
  },
  {
   "cell_type": "code",
   "execution_count": 18,
   "metadata": {
    "collapsed": false,
    "scrolled": true
   },
   "outputs": [
    {
     "name": "stdout",
     "output_type": "stream",
     "text": [
      "training...\n",
      "# Neural Network with 18391 learnable parameters\n",
      "\n",
      "## Layer information\n",
      "\n",
      "  #  name       size\n",
      "---  -------  ------\n",
      "  0  input       346\n",
      "  1  hidden       50\n",
      "  2  hidden2      20\n",
      "  3  output        1\n",
      "\n",
      "  epoch    train loss    valid loss    train/val  dur\n",
      "-------  ------------  ------------  -----------  -----\n",
      "      1       \u001b[36m0.09894\u001b[0m       \u001b[32m0.17265\u001b[0m      0.57307  3.79s\n",
      "      2       0.09904       \u001b[32m0.17265\u001b[0m      0.57366  3.74s\n",
      "      3       0.09906       \u001b[32m0.17235\u001b[0m      0.57475  3.74s\n",
      "      4       0.09910       \u001b[32m0.17192\u001b[0m      0.57640  3.74s\n",
      "      5       0.09914       \u001b[32m0.17129\u001b[0m      0.57881  3.74s\n",
      "      6       0.09918       \u001b[32m0.17062\u001b[0m      0.58131  3.74s\n",
      "      7       0.09923       \u001b[32m0.16995\u001b[0m      0.58387  3.74s\n",
      "      8       0.09927       \u001b[32m0.16925\u001b[0m      0.58654  3.75s\n",
      "      9       0.09931       \u001b[32m0.16856\u001b[0m      0.58918  3.76s\n",
      "     10       0.09935       \u001b[32m0.16797\u001b[0m      0.59146  3.76s\n",
      "     11       0.09938       \u001b[32m0.16726\u001b[0m      0.59420  3.76s\n",
      "     12       0.09935       \u001b[32m0.16702\u001b[0m      0.59486  3.75s\n",
      "     13       0.09940       \u001b[32m0.16623\u001b[0m      0.59796  3.75s\n",
      "     14       0.09938       \u001b[32m0.16598\u001b[0m      0.59875  3.75s\n",
      "     15       0.09937       \u001b[32m0.16571\u001b[0m      0.59964  3.75s\n",
      "     16       0.09931       \u001b[32m0.16555\u001b[0m      0.59988  3.75s\n",
      "     17       0.09925       \u001b[32m0.16517\u001b[0m      0.60092  3.75s\n",
      "     18       0.09923       \u001b[32m0.16465\u001b[0m      0.60265  3.75s\n",
      "     19       0.09917       \u001b[32m0.16396\u001b[0m      0.60486  3.75s\n",
      "     20       0.09913       \u001b[32m0.16348\u001b[0m      0.60640  3.76s\n",
      "     21       0.09914       \u001b[32m0.16308\u001b[0m      0.60788  3.76s\n",
      "     22       0.09919       \u001b[32m0.16234\u001b[0m      0.61099  3.76s\n",
      "     23       0.09909       \u001b[32m0.16104\u001b[0m      0.61535  3.76s\n",
      "     24       0.09907       0.16113      0.61485  3.75s\n",
      "     25       0.09913       \u001b[32m0.15993\u001b[0m      0.61985  3.75s\n",
      "     26       0.09900       \u001b[32m0.15845\u001b[0m      0.62478  3.75s\n",
      "     27       0.09896       0.15909      0.62205  3.75s\n",
      "     28       0.09898       \u001b[32m0.15652\u001b[0m      0.63239  3.75s\n",
      "     29       \u001b[36m0.09886\u001b[0m       0.15673      0.63080  3.75s\n",
      "     30       0.09894       \u001b[32m0.15506\u001b[0m      0.63806  3.76s\n",
      "     31       0.09887       0.15623      0.63285  3.75s\n",
      "     32       0.09892       \u001b[32m0.15277\u001b[0m      0.64755  3.75s\n",
      "     33       \u001b[36m0.09877\u001b[0m       0.15393      0.64168  3.75s\n",
      "     34       0.09881       \u001b[32m0.15124\u001b[0m      0.65333  3.75s\n",
      "     35       \u001b[36m0.09871\u001b[0m       \u001b[32m0.15099\u001b[0m      0.65377  3.75s\n",
      "     36       0.09881       0.15590      0.63378  3.76s\n",
      "     37       0.09893       \u001b[32m0.14971\u001b[0m      0.66081  3.75s\n",
      "     38       0.09873       0.15006      0.65793  3.75s\n",
      "     39       0.09873       \u001b[32m0.14909\u001b[0m      0.66221  3.75s\n",
      "     40       0.09874       0.15217      0.64884  3.75s\n",
      "     41       0.09879       0.14947      0.66097  3.75s\n",
      "     42       0.09873       0.15203      0.64941  3.75s\n",
      "     43       0.09882       0.15172      0.65134  3.75s\n",
      "     44       0.09890       0.15805      0.62574  3.75s\n",
      "     45       0.09902       \u001b[32m0.14844\u001b[0m      0.66707  3.76s\n",
      "     46       \u001b[36m0.09871\u001b[0m       0.14848      0.66483  3.75s\n",
      "     47       \u001b[36m0.09868\u001b[0m       \u001b[32m0.14843\u001b[0m      0.66484  3.75s\n",
      "     48       0.09873       0.14989      0.65871  3.76s\n",
      "     49       0.09873       \u001b[32m0.14715\u001b[0m      0.67096  3.75s\n",
      "     50       \u001b[36m0.09865\u001b[0m       0.14924      0.66104  3.74s\n",
      "     51       0.09875       0.15216      0.64899  3.73s\n",
      "     52       0.09881       \u001b[32m0.14696\u001b[0m      0.67237  3.73s\n",
      "     53       0.09866       0.14797      0.66678  3.73s\n",
      "     54       0.09869       0.14766      0.66838  3.73s\n",
      "     55       0.09870       0.14937      0.66080  3.73s\n",
      "     56       0.09872       0.14732      0.67006  3.73s\n",
      "     57       0.09868       0.14726      0.67013  3.73s\n",
      "     58       0.09868       0.14726      0.67011  3.73s\n",
      "     59       0.09869       0.14776      0.66790  3.73s\n",
      "     60       0.09869       0.14741      0.66948  3.73s\n",
      "     61       0.09868       0.14700      0.67127  3.73s\n",
      "     62       0.09866       \u001b[32m0.14489\u001b[0m      0.68097  3.73s\n",
      "     63       \u001b[36m0.09863\u001b[0m       0.14729      0.66965  3.73s\n",
      "     64       0.09866       \u001b[32m0.14411\u001b[0m      0.68459  3.76s\n",
      "     65       \u001b[36m0.09861\u001b[0m       0.14433      0.68323  3.73s\n",
      "     66       \u001b[36m0.09861\u001b[0m       0.14423      0.68369  3.73s\n",
      "     67       0.09862       \u001b[32m0.14374\u001b[0m      0.68606  3.73s\n",
      "     68       0.09863       0.14585      0.67626  3.73s\n",
      "     69       0.09866       0.14584      0.67652  3.73s\n",
      "     70       0.09866       0.14404      0.68493  3.73s\n",
      "     71       0.09862       0.14432      0.68337  3.73s\n",
      "     72       0.09863       \u001b[32m0.14364\u001b[0m      0.68662  3.75s\n",
      "     73       0.09862       0.14377      0.68598  3.75s\n",
      "     74       0.09862       \u001b[32m0.14299\u001b[0m      0.68965  3.76s\n",
      "     75       \u001b[36m0.09861\u001b[0m       0.14343      0.68750  3.75s\n",
      "     76       \u001b[36m0.09859\u001b[0m       \u001b[32m0.14288\u001b[0m      0.69007  3.75s\n",
      "     77       \u001b[36m0.09858\u001b[0m       0.14305      0.68917  3.76s\n",
      "     78       0.09862       0.14423      0.68378  3.75s\n",
      "     79       0.09865       0.14486      0.68099  3.75s\n",
      "     80       0.09865       \u001b[32m0.14257\u001b[0m      0.69193  3.76s\n",
      "     81       0.09860       \u001b[32m0.14244\u001b[0m      0.69219  3.75s\n",
      "     82       0.09860       0.14252      0.69183  3.73s\n",
      "     83       0.09860       \u001b[32m0.14224\u001b[0m      0.69320  3.73s\n",
      "     84       0.09859       \u001b[32m0.14215\u001b[0m      0.69359  3.73s\n",
      "     85       0.09862       0.14384      0.68561  3.73s\n",
      "     86       0.09861       \u001b[32m0.14161\u001b[0m      0.69634  3.73s\n",
      "     87       \u001b[36m0.09858\u001b[0m       0.14164      0.69596  3.74s\n",
      "     88       0.09859       0.14195      0.69453  3.77s\n",
      "     89       0.09859       0.14175      0.69550  3.76s\n",
      "     90       0.09858       0.14187      0.69485  3.76s\n",
      "     91       0.09859       0.14200      0.69433  3.76s\n",
      "     92       0.09858       \u001b[32m0.14142\u001b[0m      0.69710  3.76s\n",
      "     93       \u001b[36m0.09858\u001b[0m       0.14166      0.69587  3.76s\n",
      "     94       0.09858       0.14161      0.69615  3.76s\n",
      "     95       0.09858       0.14153      0.69652  3.76s\n",
      "     96       0.09858       0.14171      0.69563  3.76s\n",
      "     97       0.09860       0.14218      0.69344  3.75s\n",
      "     98       0.09858       \u001b[32m0.14106\u001b[0m      0.69883  3.75s\n",
      "     99       0.09858       0.14222      0.69315  3.75s\n",
      "    100       0.09858       \u001b[32m0.14088\u001b[0m      0.69978  3.74s\n",
      "    101       \u001b[36m0.09857\u001b[0m       0.14102      0.69899  3.73s\n",
      "    102       \u001b[36m0.09856\u001b[0m       0.14092      0.69941  3.74s\n",
      "    103       0.09857       0.14096      0.69924  3.87s\n",
      "    104       0.09856       0.14134      0.69735  3.74s\n",
      "    105       0.09858       0.14111      0.69859  3.74s\n",
      "    106       0.09858       0.14164      0.69596  3.74s\n",
      "    107       0.09856       \u001b[32m0.14083\u001b[0m      0.69987  3.74s\n",
      "    108       0.09856       0.14085      0.69974  3.73s\n",
      "    109       0.09856       \u001b[32m0.14069\u001b[0m      0.70057  3.74s\n",
      "    110       \u001b[36m0.09855\u001b[0m       \u001b[32m0.14052\u001b[0m      0.70134  3.74s\n",
      "    111       \u001b[36m0.09855\u001b[0m       0.14088      0.69952  3.73s\n",
      "    112       0.09856       \u001b[32m0.14042\u001b[0m      0.70186  3.76s\n",
      "    113       0.09858       0.14208      0.69383  3.76s\n",
      "    114       0.09858       \u001b[32m0.13995\u001b[0m      0.70437  3.76s\n",
      "    115       \u001b[36m0.09855\u001b[0m       0.14039      0.70196  3.76s\n",
      "    116       0.09856       0.14061      0.70093  3.76s\n",
      "    117       \u001b[36m0.09855\u001b[0m       \u001b[32m0.13991\u001b[0m      0.70438  3.76s\n",
      "    118       \u001b[36m0.09854\u001b[0m       0.14058      0.70097  3.75s\n",
      "    119       0.09857       \u001b[32m0.13980\u001b[0m      0.70506  3.73s\n",
      "    120       0.09856       0.14048      0.70160  3.73s\n",
      "    121       0.09856       \u001b[32m0.13969\u001b[0m      0.70554  3.74s\n",
      "    122       0.09856       0.14018      0.70307  3.73s\n",
      "    123       0.09857       0.14180      0.69513  3.73s\n",
      "    124       0.09859       0.14096      0.69940  3.73s\n",
      "    125       0.09857       0.14000      0.70410  3.73s\n",
      "    126       0.09856       0.14074      0.70033  3.73s\n",
      "    127       0.09856       \u001b[32m0.13931\u001b[0m      0.70752  3.73s\n",
      "    128       0.09855       0.13954      0.70627  3.74s\n",
      "    129       0.09855       \u001b[32m0.13841\u001b[0m      0.71198  3.75s\n",
      "    130       \u001b[36m0.09854\u001b[0m       0.14111      0.69832  3.75s\n",
      "    131       0.09860       0.14057      0.70140  3.75s\n",
      "    132       0.09857       0.13900      0.70914  3.75s\n",
      "    133       0.09856       0.14013      0.70338  3.76s\n",
      "    134       0.09856       0.13952      0.70643  3.76s\n",
      "    135       0.09858       0.14149      0.69670  3.76s\n",
      "    136       0.09860       0.14052      0.70170  3.76s\n",
      "    137       0.09857       0.13851      0.71165  3.76s\n",
      "    138       0.09855       0.14009      0.70351  3.76s\n",
      "    139       0.09856       0.13960      0.70605  3.73s\n",
      "    140       0.09855       0.13926      0.70764  3.73s\n",
      "    141       \u001b[36m0.09852\u001b[0m       0.13864      0.71064  3.73s\n",
      "    142       0.09854       0.14128      0.69746  3.73s\n",
      "    143       0.09857       0.14042      0.70201  3.74s\n",
      "    144       0.09857       0.14081      0.70004  3.74s\n",
      "    145       0.09860       0.14259      0.69154  3.73s\n",
      "    146       0.09864       0.14108      0.69914  3.73s\n",
      "    147       0.09861       0.14059      0.70138  3.73s\n",
      "    148       0.09857       \u001b[32m0.13757\u001b[0m      0.71653  3.73s\n",
      "    149       0.09857       0.14385      0.68525  3.73s\n",
      "    150       0.09860       0.13761      0.71653  3.73s\n",
      "    151       0.09853       0.14097      0.69896  3.73s\n",
      "    152       0.09859       0.14104      0.69901  3.73s\n",
      "    153       0.09859       0.13934      0.70756  3.73s\n",
      "    154       0.09861       0.14279      0.69061  3.73s\n",
      "    155       0.09863       0.13869      0.71112  3.73s\n",
      "    156       0.09855       0.13786      0.71486  3.74s\n",
      "    157       0.09853       0.13914      0.70818  3.75s\n",
      "    158       0.09854       0.13796      0.71426  3.75s\n",
      "    159       0.09858       0.14356      0.68668  3.76s\n",
      "    160       0.09861       \u001b[32m0.13702\u001b[0m      0.71967  3.74s\n",
      "    161       0.09853       0.13789      0.71451  3.73s\n",
      "    162       0.09854       0.14025      0.70261  3.74s\n",
      "    163       0.09860       0.14233      0.69278  3.73s\n",
      "    164       0.09863       0.14067      0.70115  3.73s\n",
      "    165       0.09859       \u001b[32m0.13662\u001b[0m      0.72161  3.73s\n",
      "    166       \u001b[36m0.09851\u001b[0m       0.13664      0.72094  3.73s\n",
      "    167       0.09854       0.14235      0.69225  3.73s\n",
      "    168       0.09864       0.14249      0.69226  3.73s\n",
      "    169       0.09860       0.13665      0.72156  3.73s\n",
      "    170       0.09852       0.13670      0.72070  3.73s\n",
      "    171       \u001b[36m0.09851\u001b[0m       0.13763      0.71572  3.73s\n",
      "    172       \u001b[36m0.09851\u001b[0m       0.13885      0.70943  3.73s\n",
      "    173       0.09851       0.13801      0.71379  3.74s\n",
      "    174       0.09852       0.13775      0.71518  3.73s\n",
      "    175       0.09852       \u001b[32m0.13510\u001b[0m      0.72921  3.73s\n",
      "    176       0.09854       0.13590      0.72513  3.73s\n",
      "    177       0.09856       0.14085      0.69975  3.73s\n",
      "    178       0.09859       0.13568      0.72666  3.73s\n",
      "    179       0.09853       0.13813      0.71336  3.73s\n",
      "    180       0.09857       0.14030      0.70256  3.74s\n",
      "    181       0.09856       0.13632      0.72302  3.73s\n",
      "    182       \u001b[36m0.09850\u001b[0m       0.13713      0.71834  3.73s\n",
      "    183       0.09855       0.14251      0.69151  3.73s\n",
      "    184       0.09858       0.13644      0.72247  3.73s\n",
      "    185       0.09853       0.13897      0.70904  3.73s\n",
      "    186       0.09852       0.13661      0.72118  3.73s\n",
      "    187       \u001b[36m0.09850\u001b[0m       0.13811      0.71319  3.73s\n",
      "    188       0.09852       0.13840      0.71186  3.73s\n",
      "    189       \u001b[36m0.09848\u001b[0m       0.13680      0.71991  3.73s\n",
      "    190       \u001b[36m0.09847\u001b[0m       \u001b[32m0.13509\u001b[0m      0.72890  3.73s\n",
      "    191       0.09849       0.13626      0.72280  3.73s\n",
      "    192       0.09851       0.13719      0.71807  3.74s\n",
      "    193       0.09854       0.13607      0.72419  3.73s\n",
      "    194       0.09862       0.13707      0.71946  3.74s\n",
      "    195       0.09861       0.13775      0.71585  3.73s\n",
      "    196       0.09855       0.13515      0.72919  3.73s\n",
      "    197       0.09851       0.13710      0.71857  3.76s\n",
      "    198       0.09851       0.13946      0.70634  3.76s\n",
      "    199       0.09863       0.13969      0.70608  3.76s\n",
      "    200       0.09864       0.13889      0.71022  3.76s\n",
      "    201       0.09859       0.13524      0.72898  3.76s\n",
      "    202       0.09852       0.13594      0.72469  3.76s\n",
      "    203       0.09853       0.13957      0.70595  3.75s\n",
      "    204       0.09855       0.13797      0.71430  3.75s\n",
      "    205       0.09852       0.13628      0.72294  3.75s\n",
      "    206       0.09854       0.14017      0.70302  3.74s\n",
      "    207       0.09854       0.13546      0.72742  3.75s\n",
      "    208       0.09848       0.13514      0.72876  3.75s\n",
      "    209       0.09854       0.14020      0.70285  3.75s\n",
      "    210       0.09861       0.13773      0.71596  3.75s\n",
      "    211       0.09859       0.13541      0.72806  3.75s\n",
      "    212       0.09852       0.13603      0.72426  3.75s\n",
      "    213       0.09851       0.13735      0.71720  3.75s\n",
      "    214       0.09851       0.13690      0.71957  3.75s\n",
      "    215       0.09855       0.14081      0.69992  3.75s\n",
      "    216       0.09859       0.13616      0.72413  3.75s\n",
      "    217       0.09860       0.14070      0.70077  3.75s\n",
      "    218       0.09857       \u001b[32m0.13492\u001b[0m      0.73059  3.74s\n",
      "    219       0.09857       0.14190      0.69465  3.74s\n",
      "    220       0.09862       0.13766      0.71641  3.75s\n",
      "    221       0.09861       0.13898      0.70952  3.75s\n",
      "    222       0.09860       0.13548      0.72774  3.74s\n",
      "    223       0.09851       0.13559      0.72651  3.74s\n",
      "    224       0.09849       0.13695      0.71915  3.77s\n",
      "    225       0.09852       0.13965      0.70550  3.75s\n",
      "    226       0.09853       0.13691      0.71969  3.75s\n",
      "    227       0.09848       0.13565      0.72602  3.75s\n",
      "    228       \u001b[36m0.09847\u001b[0m       0.13500      0.72938  3.75s\n",
      "    229       \u001b[36m0.09846\u001b[0m       0.13537      0.72731  3.75s\n",
      "    230       0.09850       0.13761      0.71581  3.75s\n",
      "    231       0.09856       \u001b[32m0.13482\u001b[0m      0.73103  3.75s\n",
      "    232       0.09850       0.13791      0.71423  3.75s\n",
      "    233       0.09856       0.13519      0.72909  3.75s\n",
      "    234       0.09854       0.13732      0.71760  3.75s\n",
      "    235       0.09853       0.13746      0.71677  3.75s\n",
      "    236       0.09855       0.13883      0.70987  3.75s\n",
      "    237       0.09859       0.14114      0.69853  3.75s\n",
      "    238       0.09862       0.13762      0.71663  3.75s\n",
      "    239       0.09855       0.13503      0.72979  3.75s\n",
      "    240       0.09852       0.13886      0.70950  3.76s\n",
      "    241       0.09855       0.13827      0.71273  3.75s\n",
      "    242       0.09864       0.14355      0.68717  3.75s\n",
      "    243       0.09861       \u001b[32m0.13444\u001b[0m      0.73349  3.74s\n",
      "    244       0.09851       0.13665      0.72088  3.74s\n",
      "    245       0.09851       0.13738      0.71709  3.75s\n",
      "    246       0.09858       0.14297      0.68950  3.75s\n",
      "    247       0.09865       0.13978      0.70574  3.75s\n",
      "    248       0.09859       0.13549      0.72766  3.75s\n",
      "    249       0.09855       0.13720      0.71827  3.75s\n",
      "    250       0.09859       0.14061      0.70115  3.75s\n",
      "    251       0.09859       0.13517      0.72935  3.76s\n",
      "    252       0.09858       0.14149      0.69675  3.76s\n",
      "    253       0.09861       0.13593      0.72542  3.76s\n",
      "    254       0.09853       0.13691      0.71968  3.76s\n",
      "    255       0.09857       0.14027      0.70271  3.76s\n",
      "    256       0.09857       0.13487      0.73082  3.76s\n",
      "    257       0.09852       0.13875      0.71009  3.75s\n",
      "    258       0.09858       0.13999      0.70415  3.75s\n",
      "    259       0.09854       0.13522      0.72877  3.76s\n",
      "    260       0.09856       0.14234      0.69246  3.75s\n",
      "    261       0.09859       0.13524      0.72896  3.76s\n",
      "    262       0.09852       0.13724      0.71785  3.76s\n",
      "    263       0.09850       0.13639      0.72221  3.76s\n",
      "    264       0.09854       0.14082      0.69974  3.75s\n",
      "    265       0.09867       0.13961      0.70678  3.75s\n",
      "    266       0.09862       0.13556      0.72753  3.75s\n",
      "    267       0.09856       0.13562      0.72676  3.75s\n",
      "    268       0.09851       0.13552      0.72692  3.75s\n",
      "    269       0.09850       0.13724      0.71771  3.75s\n",
      "    270       0.09854       0.14064      0.70064  3.75s\n",
      "    271       0.09854       0.13552      0.72712  3.75s\n",
      "    272       0.09854       0.14130      0.69739  3.75s\n",
      "    273       0.09862       0.14010      0.70394  3.75s\n",
      "    274       0.09856       0.13466      0.73193  3.75s\n",
      "    275       0.09851       0.13771      0.71539  3.76s\n",
      "    276       0.09852       0.13679      0.72022  3.75s\n",
      "    277       0.09850       0.13661      0.72103  3.76s\n",
      "    278       0.09851       0.13815      0.71308  3.76s\n",
      "    279       0.09850       0.13707      0.71861  3.76s\n",
      "    280       0.09850       0.13909      0.70818  3.76s\n",
      "    281       0.09858       0.14160      0.69620  3.76s\n",
      "    282       0.09858       0.13702      0.71949  3.76s\n",
      "    283       0.09853       0.13639      0.72241  3.75s\n",
      "    284       0.09854       0.13835      0.71226  3.76s\n",
      "    285       0.09852       0.13634      0.72263  3.76s\n",
      "    286       0.09849       0.13653      0.72140  3.76s\n",
      "    287       0.09848       0.13602      0.72403  3.75s\n",
      "    288       0.09849       0.13556      0.72654  3.76s\n",
      "    289       0.09848       0.13520      0.72838  3.75s\n",
      "    290       0.09848       0.13533      0.72768  3.75s\n",
      "    291       0.09847       \u001b[32m0.13432\u001b[0m      0.73307  3.75s\n",
      "    292       0.09847       0.13500      0.72937  3.76s\n",
      "    293       0.09848       0.13580      0.72519  3.75s\n",
      "    294       0.09851       0.13587      0.72503  3.75s\n",
      "    295       0.09849       \u001b[32m0.13417\u001b[0m      0.73402  3.75s\n",
      "    296       \u001b[36m0.09846\u001b[0m       0.13461      0.73141  3.75s\n",
      "    297       0.09846       0.13458      0.73163  3.76s\n",
      "    298       0.09846       \u001b[32m0.13415\u001b[0m      0.73397  3.75s\n",
      "    299       \u001b[36m0.09845\u001b[0m       0.13557      0.72617  3.75s\n",
      "    300       0.09845       0.13502      0.72915  3.75s\n"
     ]
    },
    {
     "data": {
      "text/plain": [
       "NeuralNet(X_tensor_type=None,\n",
       "     batch_iterator_test=<nolearn.lasagne.base.BatchIterator object at 0x7f953b4f0b90>,\n",
       "     batch_iterator_train=<nolearn.lasagne.base.BatchIterator object at 0x7f953b4f0a50>,\n",
       "     check_input=True, custom_scores=None,\n",
       "     hidden2_nonlinearity=<function rectify at 0x7f953c600938>,\n",
       "     hidden2_num_units=20,\n",
       "     hidden_nonlinearity=<function rectify at 0x7f953c600938>,\n",
       "     hidden_num_units=50, input_shape=(None, 346),\n",
       "     layers=[('input', <class 'lasagne.layers.input.InputLayer'>), ('hidden', <class 'lasagne.layers.dense.DenseLayer'>), ('hidden2', <class 'lasagne.layers.dense.DenseLayer'>), ('output', <class 'lasagne.layers.dense.DenseLayer'>)],\n",
       "     loss=None, max_epochs=300, more_params={},\n",
       "     objective=<function objective at 0x7f953b4fa1b8>,\n",
       "     objective_loss_function=<function squared_error at 0x7f953c0545f0>,\n",
       "     on_batch_finished=[],\n",
       "     on_epoch_finished=[<nolearn.lasagne.handlers.PrintLog instance at 0x7f940140a0e0>],\n",
       "     on_training_finished=[],\n",
       "     on_training_started=[<nolearn.lasagne.handlers.PrintLayerInfo instance at 0x7f940140a2d8>],\n",
       "     output_nonlinearity=<function sigmoid at 0x7f953c5e4f50>,\n",
       "     output_num_units=1, regression=True,\n",
       "     train_split=<nolearn.lasagne.base.TrainSplit object at 0x7f953b4f0c10>,\n",
       "     update=<function nesterov_momentum at 0x7f953c054e60>,\n",
       "     update_learning_rate=0.01, update_momentum=0.9,\n",
       "     use_label_encoder=False, verbose=1,\n",
       "     y_tensor_type=TensorType(float32, matrix))"
      ]
     },
     "execution_count": 18,
     "metadata": {},
     "output_type": "execute_result"
    }
   ],
   "source": [
    "import lasagne\n",
    "from lasagne import layers\n",
    "from lasagne.updates import nesterov_momentum\n",
    "from nolearn.lasagne import NeuralNet\n",
    "\n",
    "\n",
    "\n",
    "\n",
    "net1 = NeuralNet(\n",
    "    layers=[('input', layers.InputLayer),\n",
    "            ('hidden', layers.DenseLayer),\n",
    "            ('hidden2', layers.DenseLayer),\n",
    "            ('output', layers.DenseLayer),\n",
    "            ],\n",
    "    # layer parameters:\n",
    "    input_shape=(None, 346),\n",
    "    hidden_num_units=50,  # number of units in 'hidden' layer\n",
    "     hidden_nonlinearity = lasagne.nonlinearities.rectify,\n",
    "    hidden2_num_units=20,  # number of units in 'hidden' layer\n",
    "    hidden2_nonlinearity=lasagne.nonlinearities.rectify,\n",
    "\n",
    "    output_nonlinearity=lasagne.nonlinearities.sigmoid,\n",
    "    output_num_units=1, \n",
    "\n",
    "    # optimization method:\n",
    "    update=nesterov_momentum,\n",
    "    update_learning_rate=.01,\n",
    "    update_momentum=0.9,\n",
    "\n",
    "    max_epochs=300,\n",
    "    verbose=1,\n",
    "     regression=True,\n",
    "#     objective_loss_function = lasagne.objectives.squared_error,\n",
    "#     allow_input_downcast=True\n",
    "    )\n",
    "net1.initialize()\n",
    "    # Train the network\n",
    "print(\"training...\")\n",
    "\n",
    "net1.fit(x, y)\n",
    "\n",
    "#record val loss: 0.13931"
   ]
  },
  {
   "cell_type": "code",
   "execution_count": 19,
   "metadata": {
    "collapsed": false
   },
   "outputs": [
    {
     "data": {
      "image/png": "[encoded data removed]",
      "text/plain": [
       "<matplotlib.figure.Figure at 0x7f94e78b0d50>"
      ]
     },
     "metadata": {},
     "output_type": "display_data"
    }
   ],
   "source": [
    "from nolearn.lasagne.visualize import plot_loss\n",
    "\n",
    "plot_loss(net1)\n",
    "plt.show()\n"
   ]
  },
  {
   "cell_type": "code",
   "execution_count": 20,
   "metadata": {
    "collapsed": false
   },
   "outputs": [
    {
     "name": "stdout",
     "output_type": "stream",
     "text": [
      "loading...\n",
      "Opening /home/isaac/Dropbox/data_for_brian/meta/df_meta.hd in read-only mode\n"
     ]
    }
   ],
   "source": [
    "META = load_data(\"/home/isaac/Dropbox/data_for_brian/meta/df_meta.hd\")"
   ]
  },
  {
   "cell_type": "code",
   "execution_count": 21,
   "metadata": {
    "collapsed": false
   },
   "outputs": [],
   "source": [
    "from collections import defaultdict\n",
    "\n",
    "def old_fast_show_ratio_plot(xy_points, y_data, log = False, normalize_buckets=True):\n",
    "    if log:\n",
    "        y_data = np.log(y_data)\n",
    "    fig = plt.figure(frameon=False)\n",
    "    fig.set_size_inches(3,3)\n",
    "    plt.hist(y_data)\n",
    "    plt.show()\n",
    "\n",
    "    buckets = defaultdict(list)\n",
    "    resolution = 200\n",
    "    x = np.array(xy_points['x'])\n",
    "    y = np.array(xy_points['y'])\n",
    "    H, xedges, yedges = numpy.histogram2d(x,y, bins=resolution, weights = y_data)\n",
    "    H_nums, dummy2, dummy1 = numpy.histogram2d(x,y, bins=resolution)\n",
    "    plt.show()\n",
    "    fig = plt.figure(frameon=False)\n",
    "    fig.set_size_inches(12,12)\n",
    "    if normalize_buckets:\n",
    "        H=H/H_nums\n",
    "    H[H_nums == 0.0] = numpy.nan\n",
    "#     if log:\n",
    "#         H = np.log(H)\n",
    "\n",
    "\n",
    "    plt.imshow(H,\n",
    "               interpolation='nearest', cmap=cm.gist_rainbow)#, vmin = 0, vmax = 1)\n",
    "    plt.colorbar()\n",
    "    plt.show()\n",
    "    return np.nan_to_num(H)\n",
    "\n",
    "\n",
    "def plot_on_map(pddf, meta = META):\n",
    "    for col in pddf.columns:\n",
    "        print(\"\\n\\n\\n\",col)\n",
    "        xy = pandas.DataFrame.from_dict({'x': -meta['pointx'],'y': meta['pointy']})\n",
    "        print(\"linear plot\")\n",
    "        old_fast_show_ratio_plot(xy,np.array(pddf[col]))\n",
    "#         print(\"log plot\")\n",
    "#         old_fast_show_ratio_plot(xy,np.array(pddf[col]), log = True)\n",
    "#         colored_scatter(xy,np.array(pddf[col]))\n",
    "\n",
    "\n"
   ]
  },
  {
   "cell_type": "code",
   "execution_count": null,
   "metadata": {
    "collapsed": false,
    "scrolled": false
   },
   "outputs": [],
   "source": [
    "output = lasagne.layers.get_output(net1.get_all_layers()[-1], x).eval()\n",
    "print output\n",
    "# np.save(\"/home/isaac/Desktop/devika/gitignored/autoencoder_hidden_activations\", hidden_activations)\n",
    "\n",
    "plt.hist(y, bins = 100, label = \"actual damage\")\n",
    "plt.show()\n",
    "plt.hist(output, bins = 100, label = \"predicted damage\")\n",
    "plt.show()\n",
    "\n",
    "plot_on_map(pandas.DataFrame.from_dict({\"x\": y - output.T[0]}))\n",
    "plot_on_map(pandas.DataFrame.from_dict({\"x\": output.T[0]}))\n",
    "plot_on_map(pandas.DataFrame.from_dict({\"x\": y}))\n",
    "\n",
    "\n"
   ]
  },
  {
   "cell_type": "code",
   "execution_count": null,
   "metadata": {
    "collapsed": false
   },
   "outputs": [],
   "source": [
    "print \"hi\""
   ]
  },
  {
   "cell_type": "code",
   "execution_count": 27,
   "metadata": {
    "collapsed": false
   },
   "outputs": [
    {
     "name": "stdout",
     "output_type": "stream",
     "text": [
      "hi\n",
      "(870476, 346)\n",
      "(870476, 1)\n",
      "Epoch: 0001 cost= 0.113388459\n",
      "Optimization Finished!\n"
     ]
    }
   ],
   "source": [
    "'''\n",
    "A Multilayer Perceptron implementation example using TensorFlow library.\n",
    "This example is using the MNIST database of handwritten digits\n",
    "(http://yann.lecun.com/exdb/mnist/)\n",
    "\n",
    "Author: Aymeric Damien\n",
    "Project: https://github.com/aymericdamien/TensorFlow-Examples/\n",
    "'''\n",
    "print \"hi\"\n",
    "\n",
    "import tensorflow as tf\n",
    "print trX.shape\n",
    "print trY.shape\n",
    "\n",
    "trX = trX.astype(np.float32)\n",
    "trY = trY.astype(np.float32).reshape(-1, 1)\n",
    "\n",
    "\n",
    "# Parameters\n",
    "learning_rate = 0.01\n",
    "training_epochs = 1\n",
    "batch_size = 30\n",
    "display_step = 15\n",
    "\n",
    "# Network Parameters\n",
    "n_hidden_1 = 20 # 1st layer number of features\n",
    "n_hidden_2 = 22 # 2nd layer number of features\n",
    "n_input = trX.shape[1] # MNIST data input (img shape: 28*28)\n",
    "\n",
    "# tf Graph input\n",
    "x = tf.placeholder(\"float\", [None, n_input])\n",
    "y = tf.placeholder(\"float\", [None, 1])\n",
    "\n",
    "\n",
    "# Create model\n",
    "def multilayer_perceptron(x, weights, biases):\n",
    "    # Hidden layer with RELU activation\n",
    "    layer_1 = tf.add(tf.matmul(x, weights['h1']), biases['b1'])\n",
    "    layer_1 = tf.nn.relu(layer_1)\n",
    "    # Hidden layer with RELU activation\n",
    "    layer_2 = tf.add(tf.matmul(layer_1, weights['h2']), biases['b2'])\n",
    "    layer_2 = tf.nn.relu(layer_2)\n",
    "    # Output layer with linear activation\n",
    "    out_layer = tf.matmul(layer_2, weights['out']) + biases['out']\n",
    "    out_layer = tf.nn.sigmoid(out_layer)\n",
    "    return out_layer\n",
    "\n",
    "# Store layers weight & bias\n",
    "weights = {\n",
    "    'h1': tf.Variable(tf.random_normal([n_input, n_hidden_1])),\n",
    "    'h2': tf.Variable(tf.random_normal([n_hidden_1, n_hidden_2])),\n",
    "    'out': tf.Variable(tf.random_normal([n_hidden_2, 1]))\n",
    "}\n",
    "biases = {\n",
    "    'b1': tf.Variable(tf.random_normal([n_hidden_1])),\n",
    "    'b2': tf.Variable(tf.random_normal([n_hidden_2])),\n",
    "    'out': tf.Variable(tf.random_normal([1]))\n",
    "}\n",
    "\n",
    "# Construct model\n",
    "pred = multilayer_perceptron(x, weights, biases)\n",
    "\n",
    "# Define loss and optimizer\n",
    "cost = tf.reduce_mean(tf.square((pred - y)))\n",
    "optimizer = tf.train.AdamOptimizer(learning_rate=learning_rate).minimize(cost)\n",
    "\n",
    "# Initializing the variables\n",
    "init = tf.initialize_all_variables()\n",
    "sess = tf.Session()\n",
    "# Launch the graph\n",
    "sess.run(init)\n",
    "\n",
    "# Training cycle\n",
    "for epoch in range(training_epochs):\n",
    "    avg_cost = 0.\n",
    "    total_batch = int(len(trX)/batch_size)\n",
    "    # Loop over all batches\n",
    "    for start, end in zip(range(0, len(trX), batch_size), range(batch_size, len(trX), batch_size)):\n",
    "#             sess.run(train_op, feed_dict={X: trX[start:end], Y: trY[start:end]})\n",
    "        # Run optimization op (backprop) and cost op (to get loss value)\n",
    "        _, c = sess.run([optimizer, cost], feed_dict={x: trX[start:end],\n",
    "                                                      y: trY[start:end]})\n",
    "        # Compute average loss\n",
    "        avg_cost += c / total_batch\n",
    "    # Display logs per epoch step\n",
    "    if epoch % display_step == 0:\n",
    "        print \"Epoch:\", '%04d' % (epoch+1), \"cost=\", \\\n",
    "            \"{:.9f}\".format(avg_cost)\n",
    "print \"Optimization Finished!\"\n",
    "\n",
    "# Test model\n",
    "# correct_prediction = tf.equal(tf.argmax(pred, 1), tf.argmax(y, 1))\n",
    "# Calculate accuracy\n",
    "# accuracy = tf.reduce_mean(tf.cast(correct_prediction, \"float\"))\n",
    "# print \"Accuracy:\", accuracy.eval({x: mnist.test.images, y: mnist.test.labels})"
   ]
  },
  {
   "cell_type": "code",
   "execution_count": 26,
   "metadata": {
    "collapsed": false
   },
   "outputs": [
    {
     "data": {
      "image/png": "[encoded data removed]",
      "text/plain": [
       "<matplotlib.figure.Figure at 0x7f687ab52e50>"
      ]
     },
     "metadata": {},
     "output_type": "display_data"
    },
    {
     "data": {
      "image/png": "[encoded data removed]",
      "text/plain": [
       "<matplotlib.figure.Figure at 0x7f687ab9a450>"
      ]
     },
     "metadata": {},
     "output_type": "display_data"
    }
   ],
   "source": [
    "predictions = sess.run(pred, feed_dict = {x : trX, y:trY})\n",
    "plt.hist(predictions, bins = 50)\n",
    "plt.show()\n",
    "\n",
    "plt.hist(trY.reshape(-1), bins = 50)\n",
    "plt.show()"
   ]
  },
  {
   "cell_type": "code",
   "execution_count": null,
   "metadata": {
    "collapsed": true
   },
   "outputs": [],
   "source": []
  }
 ],
 "metadata": {
  "kernelspec": {
   "display_name": "Python 2",
   "language": "python",
   "name": "python2"
  },
  "language_info": {
   "codemirror_mode": {
    "name": "ipython",
    "version": 2
   },
   "file_extension": ".py",
   "mimetype": "text/x-python",
   "name": "python",
   "nbconvert_exporter": "python",
   "pygments_lexer": "ipython2",
   "version": "2.7.6"
  }
 },
 "nbformat": 4,
 "nbformat_minor": 0
}
