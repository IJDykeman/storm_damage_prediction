{
 "cells": [
  {
   "cell_type": "code",
   "execution_count": 124,
   "metadata": {
    "collapsed": false
   },
   "outputs": [
    {
     "name": "stdout",
     "output_type": "stream",
     "text": [
      "Populating the interactive namespace from numpy and matplotlib\n"
     ]
    },
    {
     "name": "stderr",
     "output_type": "stream",
     "text": [
      "WARNING: pylab import has clobbered these variables: ['negative', 'f', 'random', 'display']\n",
      "`%matplotlib` prevents importing * from pylab and numpy\n"
     ]
    }
   ],
   "source": [
    "import os\n",
    "\n",
    "import matplotlib.pyplot as plt\n",
    "%pylab inline\n",
    "import numpy as np\n",
    "\n",
    "from lasagne.layers import DenseLayer\n",
    "from lasagne.layers import InputLayer\n",
    "from lasagne.layers import DropoutLayer\n",
    "from lasagne.layers import Conv2DLayer\n",
    "from lasagne.layers import MaxPool2DLayer\n",
    "from lasagne.nonlinearities import softmax\n",
    "from lasagne.updates import adam\n",
    "from lasagne.layers import get_all_params\n",
    "import theano as T\n",
    "from nolearn.lasagne import NeuralNet\n",
    "from nolearn.lasagne import TrainSplit\n",
    "from nolearn.lasagne import objective\n",
    "import lasagne\n",
    "from lasagne import layers\n",
    "from lasagne.updates import nesterov_momentum\n",
    "from nolearn.lasagne import NeuralNet\n",
    "imagewidth = 40\n",
    "def display(image, min = 0.0, max = 1.0):\n",
    "    plt.imshow(image, cmap = plt.get_cmap('gray'), interpolation='nearest')\n",
    "    plt.show()    "
   ]
  },
  {
   "cell_type": "code",
   "execution_count": null,
   "metadata": {
    "collapsed": false
   },
   "outputs": [],
   "source": []
  },
  {
   "cell_type": "code",
   "execution_count": 135,
   "metadata": {
    "collapsed": false
   },
   "outputs": [
    {
     "name": "stdout",
     "output_type": "stream",
     "text": [
      "396 5286\n",
      "[[  4.31000000e+02   1.00000000e+00   0.00000000e+00 ...,   2.68011332e+00\n",
      "    0.00000000e+00   7.14285731e-01]\n",
      " [  1.22000000e+03   1.00000000e+00   0.00000000e+00 ...,   1.79999995e+00\n",
      "    0.00000000e+00   6.06060624e-02]\n",
      " [  4.33600000e+03   1.00000000e+00   0.00000000e+00 ...,   7.20000029e-01\n",
      "    0.00000000e+00   4.70588237e-01]\n",
      " ..., \n",
      " [  5.67500000e+03   1.00000000e+00   0.00000000e+00 ...,   1.50000000e+00\n",
      "    0.00000000e+00   9.09090936e-02]\n",
      " [  5.67600000e+03   1.00000000e+00   0.00000000e+00 ...,   2.19892859e+00\n",
      "    0.00000000e+00   9.09090936e-02]\n",
      " [  5.67700000e+03   1.00000000e+00   0.00000000e+00 ...,   1.48751628e+00\n",
      "    0.00000000e+00   8.63636374e-01]]\n",
      "[[ 0.  1.]\n",
      " [ 0.  1.]\n",
      " [ 0.  1.]\n",
      " ..., \n",
      " [ 1.  0.]\n",
      " [ 1.  0.]\n",
      " [ 1.  0.]]\n",
      "0.5\n"
     ]
    }
   ],
   "source": [
    "data = np.genfromtxt(\"../ColumnMatchData/match_data.csv\", delimiter=',', names=True) \n",
    "data = np.array([list(i) for i in data]).astype(np.float32)\n",
    "\n",
    "# print data\n",
    "# print y[:10]\n",
    "\n",
    "\n",
    "positive = data[data[:,7] == 1]\n",
    "negative = data[data[:,7] != 1]\n",
    "print len(positive), len(negative)\n",
    "extra_positive = []\n",
    "\n",
    "import random\n",
    "while len(extra_positive) < len(negative):\n",
    "    extra_positive.append(random.choice(positive))\n",
    "    \n",
    "positive = np.array(extra_positive)\n",
    "\n",
    "data = np.concatenate((extra_positive, negative), axis = 0)\n",
    "print data\n",
    "\n",
    "y = data[:,7]\n",
    "y = np.eye(2)[y.astype(np.int)].astype(np.float32)\n",
    "\n",
    "x = data[:,[1,2,3,4,5,6,8,9,10,11,12]]\n",
    "x[:,3] = x[:,3]/np.max(x[:,3])\n",
    "\n",
    "\n",
    "\n",
    "print y\n",
    "print np.mean(y[:,0])"
   ]
  },
  {
   "cell_type": "code",
   "execution_count": 183,
   "metadata": {
    "collapsed": false,
    "scrolled": true
   },
   "outputs": [
    {
     "name": "stdout",
     "output_type": "stream",
     "text": [
      "training...\n"
     ]
    },
    {
     "data": {
      "image/png": "[encoded data removed]",
      "text/plain": [
       "<matplotlib.figure.Figure at 0x7fc5cba91390>"
      ]
     },
     "metadata": {},
     "output_type": "display_data"
    }
   ],
   "source": [
    "net1 = NeuralNet(\n",
    "    layers=[('input', layers.InputLayer),\n",
    "            ('hidden', layers.DenseLayer),\n",
    "#             ('hidden2', layers.DenseLayer),\n",
    "            ('output', layers.DenseLayer),\n",
    "            ],\n",
    "    # layer parameters:\n",
    "    input_shape=(None, x.shape[-1]),\n",
    "    hidden_num_units=10,\n",
    "    hidden_nonlinearity = lasagne.nonlinearities.rectify,\n",
    "#     hidden2_num_units=16,  \n",
    "#     hidden2_nonlinearity = lasagne.nonlinearities.rectify,\n",
    "\n",
    "    output_nonlinearity=lasagne.nonlinearities.softmax,\n",
    "    output_num_units=2, \n",
    "\n",
    "    # optimization method:\n",
    "    update=nesterov_momentum,\n",
    "    update_learning_rate=.0001,\n",
    "    update_momentum=0.9,\n",
    "\n",
    "    max_epochs=200,\n",
    "    verbose=0,\n",
    "     regression=True,\n",
    "    objective_loss_function = lasagne.objectives.categorical_crossentropy\n",
    "    )\n",
    "\n",
    "    # Train the network\n",
    "print(\"training...\")\n",
    "\n",
    "net1.fit(x, y)\n",
    "\n",
    "# # Try the network on new data\n",
    "# print(\"Feature vector (100-110): %s\" % data['X_test'][0])\n",
    "# print(\"Label: %s\" % str(data['y_test'][0]))\n",
    "# print(\"Predicted: %s\" % str(net1.predict([data['X_test'][0]])))\n",
    "from nolearn.lasagne.visualize import plot_loss\n",
    "plot_loss(net1)\n",
    "plt.show()\n",
    "# 1.94568"
   ]
  },
  {
   "cell_type": "code",
   "execution_count": 70,
   "metadata": {
    "collapsed": false
   },
   "outputs": [
    {
     "ename": "NameError",
     "evalue": "name 'mse' is not defined",
     "output_type": "error",
     "traceback": [
      "\u001b[1;31m---------------------------------------------------------------------------\u001b[0m",
      "\u001b[1;31mNameError\u001b[0m                                 Traceback (most recent call last)",
      "\u001b[1;32m<ipython-input-70-1ec34153cdab>\u001b[0m in \u001b[0;36m<module>\u001b[1;34m()\u001b[0m\n\u001b[1;32m----> 1\u001b[1;33m \u001b[1;32mprint\u001b[0m \u001b[0mmse\u001b[0m\u001b[1;33m\u001b[0m\u001b[0m\n\u001b[0m\u001b[0;32m      2\u001b[0m \u001b[1;31m# l = InputLayer(shape=(None, x.shape[1]))\u001b[0m\u001b[1;33m\u001b[0m\u001b[1;33m\u001b[0m\u001b[0m\n\u001b[0;32m      3\u001b[0m \u001b[1;31m# l = DenseLayer(l, num_units=len(np.unique(y)), nonlinearity=softmax)\u001b[0m\u001b[1;33m\u001b[0m\u001b[1;33m\u001b[0m\u001b[0m\n\u001b[0;32m      4\u001b[0m \u001b[1;31m# net = NeuralNet(l, update_learning_rate=0.01)\u001b[0m\u001b[1;33m\u001b[0m\u001b[1;33m\u001b[0m\u001b[0m\n\u001b[0;32m      5\u001b[0m \u001b[1;31m# net.fit(x, y)\u001b[0m\u001b[1;33m\u001b[0m\u001b[1;33m\u001b[0m\u001b[0m\n",
      "\u001b[1;31mNameError\u001b[0m: name 'mse' is not defined"
     ]
    }
   ],
   "source": [
    "print mse\n",
    "# l = InputLayer(shape=(None, x.shape[1]))\n",
    "# l = DenseLayer(l, num_units=len(np.unique(y)), nonlinearity=softmax)\n",
    "# net = NeuralNet(l, update_learning_rate=0.01)\n",
    "# net.fit(x, y)\n",
    "# print(net.score(x, y))"
   ]
  },
  {
   "cell_type": "code",
   "execution_count": 185,
   "metadata": {
    "collapsed": false
   },
   "outputs": [
    {
     "name": "stdout",
     "output_type": "stream",
     "text": [
      "===\n",
      "0.393242\n",
      "0.606758\n",
      "0.0273654\n",
      "0.0179736\n",
      "0.982026\n",
      "0.972635\n",
      "10572\n",
      "10572\n",
      "==\n",
      "73.0609156262\n"
     ]
    }
   ],
   "source": [
    "# import cPickle\n",
    "# with open(\"../ColumnMatchData/model\", 'wb') as f:\n",
    "#     cPickle.dump(lasagne.layers.get_output(net1.get_all_layers()[2]), f)\n",
    "\n",
    "# with open(\"../ColumnMatchData/model\", 'rb') as f:\n",
    "#     cPickle.load(f)\n",
    "    \n",
    "output = lasagne.layers.get_output(net1.get_all_layers()[-1], x).eval()\n",
    "# print output[:10]\n",
    "# print output[-10:]\n",
    "\n",
    "one = output[y==0]\n",
    "two = output[y==1]\n",
    "print(\"===\")\n",
    "print np.mean(one)\n",
    "print np.mean(two)\n",
    "print np.min(one)\n",
    "print np.min(two)\n",
    "print np.max(one)\n",
    "print np.max(two)\n",
    "\n",
    "print len(one)\n",
    "print len(two)\n",
    "\n",
    "decisions = np.argmax(output, axis = 1)\n",
    "print \"==\"\n",
    "\n",
    "print 1.0*sum([int(decisions[i] == y[i, 1]) for i in range(len(y))])/len(data)*100"
   ]
  },
  {
   "cell_type": "code",
   "execution_count": 145,
   "metadata": {
    "collapsed": false
   },
   "outputs": [
    {
     "name": "stdout",
     "output_type": "stream",
     "text": [
      "[[ 0.73225635  0.26774368]\n",
      " [ 0.72442335  0.27557665]\n",
      " [ 0.87017733  0.12982261]\n",
      " ..., \n",
      " [ 0.84933615  0.15066379]\n",
      " [ 0.79265058  0.20734935]\n",
      " [ 0.86565357  0.13434643]]\n"
     ]
    }
   ],
   "source": [
    "# output = lasagne.layers.get_output(net1.get_all_layers()[2], [[1.0,1.0,1.0,1.0]]).eval()\n",
    "print output"
   ]
  },
  {
   "cell_type": "code",
   "execution_count": 16,
   "metadata": {
    "collapsed": false
   },
   "outputs": [
    {
     "data": {
      "image/png": "[encoded data removed]",
      "text/plain": [
       "<matplotlib.figure.Figure at 0x7fc5cc08c150>"
      ]
     },
     "metadata": {},
     "output_type": "display_data"
    },
    {
     "data": {
      "image/png": "[encoded data removed]",
      "text/plain": [
       "<matplotlib.figure.Figure at 0x7fc5cbf15310>"
      ]
     },
     "metadata": {},
     "output_type": "display_data"
    }
   ],
   "source": [
    "plt.hist((output[0,:]))\n",
    "plt.show()\n",
    "\n",
    "plt.hist((output[1,:]))\n",
    "plt.show()"
   ]
  },
  {
   "cell_type": "code",
   "execution_count": null,
   "metadata": {
    "collapsed": true
   },
   "outputs": [],
   "source": []
  }
 ],
 "metadata": {
  "kernelspec": {
   "display_name": "Python 2",
   "language": "python",
   "name": "python2"
  },
  "language_info": {
   "codemirror_mode": {
    "name": "ipython",
    "version": 2
   },
   "file_extension": ".py",
   "mimetype": "text/x-python",
   "name": "python",
   "nbconvert_exporter": "python",
   "pygments_lexer": "ipython2",
   "version": "2.7.6"
  }
 },
 "nbformat": 4,
 "nbformat_minor": 0
}
